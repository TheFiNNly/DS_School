{
 "cells": [
  {
   "cell_type": "code",
   "execution_count": 1,
   "id": "99d9f34d",
   "metadata": {},
   "outputs": [],
   "source": [
    "import pandas as pd\n",
    "import numpy as np\n",
    "import matplotlib as mlp\n",
    "import seaborn as sns\n",
    "import plotly as plt"
   ]
  },
  {
   "cell_type": "code",
   "execution_count": 2,
   "id": "151c5c5f",
   "metadata": {},
   "outputs": [],
   "source": [
    "import warnings\n",
    "warnings.filterwarnings('ignore')"
   ]
  },
  {
   "cell_type": "code",
   "execution_count": 4,
   "id": "19aebc55",
   "metadata": {},
   "outputs": [],
   "source": [
    "data_v1 = pd.read_csv(\"C:\\\\Users\\\\magvl\\\\блокноты\\\\final project\\\\notebook\\\\data\\\\data_step3v1.csv\")"
   ]
  },
  {
   "cell_type": "code",
   "execution_count": 5,
   "id": "ed25902b",
   "metadata": {},
   "outputs": [],
   "source": [
    "data_v2 = pd.read_csv(\"C:\\\\Users\\\\magvl\\\\блокноты\\\\final project\\\\notebook\\\\data\\\\data_step3v2.csv\")"
   ]
  },
  {
   "cell_type": "code",
   "execution_count": 6,
   "id": "edbec88b",
   "metadata": {},
   "outputs": [
    {
     "data": {
      "text/html": [
       "<div>\n",
       "<style scoped>\n",
       "    .dataframe tbody tr th:only-of-type {\n",
       "        vertical-align: middle;\n",
       "    }\n",
       "\n",
       "    .dataframe tbody tr th {\n",
       "        vertical-align: top;\n",
       "    }\n",
       "\n",
       "    .dataframe thead th {\n",
       "        text-align: right;\n",
       "    }\n",
       "</style>\n",
       "<table border=\"1\" class=\"dataframe\">\n",
       "  <thead>\n",
       "    <tr style=\"text-align: right;\">\n",
       "      <th></th>\n",
       "      <th>full_sq</th>\n",
       "      <th>life_sq</th>\n",
       "      <th>floor</th>\n",
       "      <th>max_floor</th>\n",
       "      <th>material</th>\n",
       "      <th>build_year</th>\n",
       "      <th>num_room</th>\n",
       "      <th>kitch_sq</th>\n",
       "      <th>state</th>\n",
       "      <th>sub_area</th>\n",
       "      <th>...</th>\n",
       "      <th>month_3</th>\n",
       "      <th>month_4</th>\n",
       "      <th>month_5</th>\n",
       "      <th>month_6</th>\n",
       "      <th>month_7</th>\n",
       "      <th>month_8</th>\n",
       "      <th>month_9</th>\n",
       "      <th>month_10</th>\n",
       "      <th>month_11</th>\n",
       "      <th>month_12</th>\n",
       "    </tr>\n",
       "  </thead>\n",
       "  <tbody>\n",
       "    <tr>\n",
       "      <th>0</th>\n",
       "      <td>43</td>\n",
       "      <td>27.0</td>\n",
       "      <td>4.0</td>\n",
       "      <td>12.558974</td>\n",
       "      <td>1.827121</td>\n",
       "      <td>1983.0</td>\n",
       "      <td>1.909804</td>\n",
       "      <td>6.399301</td>\n",
       "      <td>2.107025</td>\n",
       "      <td>15.594247</td>\n",
       "      <td>...</td>\n",
       "      <td>0.0</td>\n",
       "      <td>0.0</td>\n",
       "      <td>0.0</td>\n",
       "      <td>0.0</td>\n",
       "      <td>0.0</td>\n",
       "      <td>1.0</td>\n",
       "      <td>0.0</td>\n",
       "      <td>0.0</td>\n",
       "      <td>0.0</td>\n",
       "      <td>0.0</td>\n",
       "    </tr>\n",
       "    <tr>\n",
       "      <th>1</th>\n",
       "      <td>34</td>\n",
       "      <td>19.0</td>\n",
       "      <td>3.0</td>\n",
       "      <td>12.558974</td>\n",
       "      <td>1.827121</td>\n",
       "      <td>1958.0</td>\n",
       "      <td>1.909804</td>\n",
       "      <td>6.399301</td>\n",
       "      <td>2.107025</td>\n",
       "      <td>15.864842</td>\n",
       "      <td>...</td>\n",
       "      <td>0.0</td>\n",
       "      <td>0.0</td>\n",
       "      <td>0.0</td>\n",
       "      <td>0.0</td>\n",
       "      <td>0.0</td>\n",
       "      <td>1.0</td>\n",
       "      <td>0.0</td>\n",
       "      <td>0.0</td>\n",
       "      <td>0.0</td>\n",
       "      <td>0.0</td>\n",
       "    </tr>\n",
       "    <tr>\n",
       "      <th>2</th>\n",
       "      <td>43</td>\n",
       "      <td>29.0</td>\n",
       "      <td>2.0</td>\n",
       "      <td>12.558974</td>\n",
       "      <td>1.827121</td>\n",
       "      <td>1958.0</td>\n",
       "      <td>1.909804</td>\n",
       "      <td>6.399301</td>\n",
       "      <td>2.107025</td>\n",
       "      <td>15.613141</td>\n",
       "      <td>...</td>\n",
       "      <td>0.0</td>\n",
       "      <td>0.0</td>\n",
       "      <td>0.0</td>\n",
       "      <td>0.0</td>\n",
       "      <td>0.0</td>\n",
       "      <td>1.0</td>\n",
       "      <td>0.0</td>\n",
       "      <td>0.0</td>\n",
       "      <td>0.0</td>\n",
       "      <td>0.0</td>\n",
       "    </tr>\n",
       "    <tr>\n",
       "      <th>3</th>\n",
       "      <td>89</td>\n",
       "      <td>50.0</td>\n",
       "      <td>9.0</td>\n",
       "      <td>12.558974</td>\n",
       "      <td>1.827121</td>\n",
       "      <td>2000.0</td>\n",
       "      <td>1.909804</td>\n",
       "      <td>6.399301</td>\n",
       "      <td>2.107025</td>\n",
       "      <td>15.914449</td>\n",
       "      <td>...</td>\n",
       "      <td>0.0</td>\n",
       "      <td>0.0</td>\n",
       "      <td>0.0</td>\n",
       "      <td>0.0</td>\n",
       "      <td>0.0</td>\n",
       "      <td>0.0</td>\n",
       "      <td>1.0</td>\n",
       "      <td>0.0</td>\n",
       "      <td>0.0</td>\n",
       "      <td>0.0</td>\n",
       "    </tr>\n",
       "    <tr>\n",
       "      <th>4</th>\n",
       "      <td>77</td>\n",
       "      <td>77.0</td>\n",
       "      <td>4.0</td>\n",
       "      <td>12.558974</td>\n",
       "      <td>1.827121</td>\n",
       "      <td>1915.0</td>\n",
       "      <td>1.909804</td>\n",
       "      <td>6.399301</td>\n",
       "      <td>2.107025</td>\n",
       "      <td>16.091227</td>\n",
       "      <td>...</td>\n",
       "      <td>0.0</td>\n",
       "      <td>0.0</td>\n",
       "      <td>0.0</td>\n",
       "      <td>0.0</td>\n",
       "      <td>0.0</td>\n",
       "      <td>0.0</td>\n",
       "      <td>1.0</td>\n",
       "      <td>0.0</td>\n",
       "      <td>0.0</td>\n",
       "      <td>0.0</td>\n",
       "    </tr>\n",
       "  </tbody>\n",
       "</table>\n",
       "<p>5 rows × 168 columns</p>\n",
       "</div>"
      ],
      "text/plain": [
       "   full_sq  life_sq  floor  max_floor  material  build_year  num_room  \\\n",
       "0       43     27.0    4.0  12.558974  1.827121      1983.0  1.909804   \n",
       "1       34     19.0    3.0  12.558974  1.827121      1958.0  1.909804   \n",
       "2       43     29.0    2.0  12.558974  1.827121      1958.0  1.909804   \n",
       "3       89     50.0    9.0  12.558974  1.827121      2000.0  1.909804   \n",
       "4       77     77.0    4.0  12.558974  1.827121      1915.0  1.909804   \n",
       "\n",
       "   kitch_sq     state   sub_area  ...  month_3  month_4  month_5  month_6  \\\n",
       "0  6.399301  2.107025  15.594247  ...      0.0      0.0      0.0      0.0   \n",
       "1  6.399301  2.107025  15.864842  ...      0.0      0.0      0.0      0.0   \n",
       "2  6.399301  2.107025  15.613141  ...      0.0      0.0      0.0      0.0   \n",
       "3  6.399301  2.107025  15.914449  ...      0.0      0.0      0.0      0.0   \n",
       "4  6.399301  2.107025  16.091227  ...      0.0      0.0      0.0      0.0   \n",
       "\n",
       "   month_7  month_8  month_9  month_10  month_11  month_12  \n",
       "0      0.0      1.0      0.0       0.0       0.0       0.0  \n",
       "1      0.0      1.0      0.0       0.0       0.0       0.0  \n",
       "2      0.0      1.0      0.0       0.0       0.0       0.0  \n",
       "3      0.0      0.0      1.0       0.0       0.0       0.0  \n",
       "4      0.0      0.0      1.0       0.0       0.0       0.0  \n",
       "\n",
       "[5 rows x 168 columns]"
      ]
     },
     "execution_count": 6,
     "metadata": {},
     "output_type": "execute_result"
    }
   ],
   "source": [
    "data_v1.head()"
   ]
  },
  {
   "cell_type": "code",
   "execution_count": 7,
   "id": "41ea3d2d",
   "metadata": {},
   "outputs": [
    {
     "data": {
      "text/html": [
       "<div>\n",
       "<style scoped>\n",
       "    .dataframe tbody tr th:only-of-type {\n",
       "        vertical-align: middle;\n",
       "    }\n",
       "\n",
       "    .dataframe tbody tr th {\n",
       "        vertical-align: top;\n",
       "    }\n",
       "\n",
       "    .dataframe thead th {\n",
       "        text-align: right;\n",
       "    }\n",
       "</style>\n",
       "<table border=\"1\" class=\"dataframe\">\n",
       "  <thead>\n",
       "    <tr style=\"text-align: right;\">\n",
       "      <th></th>\n",
       "      <th>full_sq</th>\n",
       "      <th>life_sq</th>\n",
       "      <th>floor</th>\n",
       "      <th>max_floor</th>\n",
       "      <th>material</th>\n",
       "      <th>build_year</th>\n",
       "      <th>num_room</th>\n",
       "      <th>kitch_sq</th>\n",
       "      <th>state</th>\n",
       "      <th>area_m</th>\n",
       "      <th>...</th>\n",
       "      <th>month_3</th>\n",
       "      <th>month_4</th>\n",
       "      <th>month_5</th>\n",
       "      <th>month_6</th>\n",
       "      <th>month_7</th>\n",
       "      <th>month_8</th>\n",
       "      <th>month_9</th>\n",
       "      <th>month_10</th>\n",
       "      <th>month_11</th>\n",
       "      <th>month_12</th>\n",
       "    </tr>\n",
       "  </thead>\n",
       "  <tbody>\n",
       "    <tr>\n",
       "      <th>0</th>\n",
       "      <td>43</td>\n",
       "      <td>27.0</td>\n",
       "      <td>4.0</td>\n",
       "      <td>12.558974</td>\n",
       "      <td>1.827121</td>\n",
       "      <td>1983.0</td>\n",
       "      <td>1.909804</td>\n",
       "      <td>6.399301</td>\n",
       "      <td>2.107025</td>\n",
       "      <td>6.407578e+06</td>\n",
       "      <td>...</td>\n",
       "      <td>0.0</td>\n",
       "      <td>0.0</td>\n",
       "      <td>0.0</td>\n",
       "      <td>0.0</td>\n",
       "      <td>0.0</td>\n",
       "      <td>1.0</td>\n",
       "      <td>0.0</td>\n",
       "      <td>0.0</td>\n",
       "      <td>0.0</td>\n",
       "      <td>0.0</td>\n",
       "    </tr>\n",
       "    <tr>\n",
       "      <th>1</th>\n",
       "      <td>34</td>\n",
       "      <td>19.0</td>\n",
       "      <td>3.0</td>\n",
       "      <td>12.558974</td>\n",
       "      <td>1.827121</td>\n",
       "      <td>1958.0</td>\n",
       "      <td>1.909804</td>\n",
       "      <td>6.399301</td>\n",
       "      <td>2.107025</td>\n",
       "      <td>9.589337e+06</td>\n",
       "      <td>...</td>\n",
       "      <td>0.0</td>\n",
       "      <td>0.0</td>\n",
       "      <td>0.0</td>\n",
       "      <td>0.0</td>\n",
       "      <td>0.0</td>\n",
       "      <td>1.0</td>\n",
       "      <td>0.0</td>\n",
       "      <td>0.0</td>\n",
       "      <td>0.0</td>\n",
       "      <td>0.0</td>\n",
       "    </tr>\n",
       "    <tr>\n",
       "      <th>2</th>\n",
       "      <td>43</td>\n",
       "      <td>29.0</td>\n",
       "      <td>2.0</td>\n",
       "      <td>12.558974</td>\n",
       "      <td>1.827121</td>\n",
       "      <td>1958.0</td>\n",
       "      <td>1.909804</td>\n",
       "      <td>6.399301</td>\n",
       "      <td>2.107025</td>\n",
       "      <td>4.808270e+06</td>\n",
       "      <td>...</td>\n",
       "      <td>0.0</td>\n",
       "      <td>0.0</td>\n",
       "      <td>0.0</td>\n",
       "      <td>0.0</td>\n",
       "      <td>0.0</td>\n",
       "      <td>1.0</td>\n",
       "      <td>0.0</td>\n",
       "      <td>0.0</td>\n",
       "      <td>0.0</td>\n",
       "      <td>0.0</td>\n",
       "    </tr>\n",
       "    <tr>\n",
       "      <th>3</th>\n",
       "      <td>89</td>\n",
       "      <td>50.0</td>\n",
       "      <td>9.0</td>\n",
       "      <td>12.558974</td>\n",
       "      <td>1.827121</td>\n",
       "      <td>2000.0</td>\n",
       "      <td>1.909804</td>\n",
       "      <td>6.399301</td>\n",
       "      <td>2.107025</td>\n",
       "      <td>1.258354e+07</td>\n",
       "      <td>...</td>\n",
       "      <td>0.0</td>\n",
       "      <td>0.0</td>\n",
       "      <td>0.0</td>\n",
       "      <td>0.0</td>\n",
       "      <td>0.0</td>\n",
       "      <td>0.0</td>\n",
       "      <td>1.0</td>\n",
       "      <td>0.0</td>\n",
       "      <td>0.0</td>\n",
       "      <td>0.0</td>\n",
       "    </tr>\n",
       "    <tr>\n",
       "      <th>4</th>\n",
       "      <td>77</td>\n",
       "      <td>77.0</td>\n",
       "      <td>4.0</td>\n",
       "      <td>12.558974</td>\n",
       "      <td>1.827121</td>\n",
       "      <td>1915.0</td>\n",
       "      <td>1.909804</td>\n",
       "      <td>6.399301</td>\n",
       "      <td>2.107025</td>\n",
       "      <td>8.398461e+06</td>\n",
       "      <td>...</td>\n",
       "      <td>0.0</td>\n",
       "      <td>0.0</td>\n",
       "      <td>0.0</td>\n",
       "      <td>0.0</td>\n",
       "      <td>0.0</td>\n",
       "      <td>0.0</td>\n",
       "      <td>1.0</td>\n",
       "      <td>0.0</td>\n",
       "      <td>0.0</td>\n",
       "      <td>0.0</td>\n",
       "    </tr>\n",
       "  </tbody>\n",
       "</table>\n",
       "<p>5 rows × 315 columns</p>\n",
       "</div>"
      ],
      "text/plain": [
       "   full_sq  life_sq  floor  max_floor  material  build_year  num_room  \\\n",
       "0       43     27.0    4.0  12.558974  1.827121      1983.0  1.909804   \n",
       "1       34     19.0    3.0  12.558974  1.827121      1958.0  1.909804   \n",
       "2       43     29.0    2.0  12.558974  1.827121      1958.0  1.909804   \n",
       "3       89     50.0    9.0  12.558974  1.827121      2000.0  1.909804   \n",
       "4       77     77.0    4.0  12.558974  1.827121      1915.0  1.909804   \n",
       "\n",
       "   kitch_sq     state        area_m  ...  month_3  month_4  month_5  month_6  \\\n",
       "0  6.399301  2.107025  6.407578e+06  ...      0.0      0.0      0.0      0.0   \n",
       "1  6.399301  2.107025  9.589337e+06  ...      0.0      0.0      0.0      0.0   \n",
       "2  6.399301  2.107025  4.808270e+06  ...      0.0      0.0      0.0      0.0   \n",
       "3  6.399301  2.107025  1.258354e+07  ...      0.0      0.0      0.0      0.0   \n",
       "4  6.399301  2.107025  8.398461e+06  ...      0.0      0.0      0.0      0.0   \n",
       "\n",
       "   month_7  month_8  month_9  month_10  month_11  month_12  \n",
       "0      0.0      1.0      0.0       0.0       0.0       0.0  \n",
       "1      0.0      1.0      0.0       0.0       0.0       0.0  \n",
       "2      0.0      1.0      0.0       0.0       0.0       0.0  \n",
       "3      0.0      0.0      1.0       0.0       0.0       0.0  \n",
       "4      0.0      0.0      1.0       0.0       0.0       0.0  \n",
       "\n",
       "[5 rows x 315 columns]"
      ]
     },
     "execution_count": 7,
     "metadata": {},
     "output_type": "execute_result"
    }
   ],
   "source": [
    "data_v2.head()"
   ]
  },
  {
   "cell_type": "code",
   "execution_count": 8,
   "id": "43338165",
   "metadata": {},
   "outputs": [],
   "source": [
    "from sklearn.model_selection import TimeSeriesSplit\n",
    "from sklearn.model_selection import cross_validate\n",
    "from sklearn.pipeline import Pipeline\n",
    "from sklearn.preprocessing import StandardScaler\n",
    "from sklearn.preprocessing import MinMaxScaler\n",
    "from sklearn.linear_model import Lasso, Ridge\n",
    "from sklearn.model_selection import GridSearchCV"
   ]
  },
  {
   "cell_type": "markdown",
   "id": "dcae2bad",
   "metadata": {},
   "source": [
    "Возьмем эти данные за базовый вариант, прогоним на них модель."
   ]
  },
  {
   "cell_type": "markdown",
   "id": "67ac7234",
   "metadata": {},
   "source": [
    "Теперь вернемся к вопросу с временем. Так как у нас обучающая выборка с интервалом 2011-2015 года, тестовая выборка 2016 год, а предсказывать мы будем цены 2024 года и позднее, то очевидно, что это нужно учитывать. В этом нам может помочь TimeSeries.\n",
    "Разбивка данных с помощью этого инструмента поможет нам учитывать влияние года реализации."
   ]
  },
  {
   "cell_type": "markdown",
   "id": "7f416bed",
   "metadata": {},
   "source": [
    "Первый вариант: one hot encoding + Target Encoding"
   ]
  },
  {
   "cell_type": "code",
   "execution_count": 9,
   "id": "a0c01b01",
   "metadata": {},
   "outputs": [],
   "source": [
    "X = data_v1.drop('log_price_doc', axis=1)\n",
    "Y = data_v1['log_price_doc']"
   ]
  },
  {
   "cell_type": "code",
   "execution_count": 10,
   "id": "992f3a84",
   "metadata": {},
   "outputs": [],
   "source": [
    "splitter = TimeSeriesSplit(n_splits=5)"
   ]
  },
  {
   "cell_type": "code",
   "execution_count": 11,
   "id": "69cbfe90",
   "metadata": {
    "scrolled": false
   },
   "outputs": [
    {
     "data": {
      "text/html": [
       "<style>#sk-container-id-1 {color: black;background-color: white;}#sk-container-id-1 pre{padding: 0;}#sk-container-id-1 div.sk-toggleable {background-color: white;}#sk-container-id-1 label.sk-toggleable__label {cursor: pointer;display: block;width: 100%;margin-bottom: 0;padding: 0.3em;box-sizing: border-box;text-align: center;}#sk-container-id-1 label.sk-toggleable__label-arrow:before {content: \"▸\";float: left;margin-right: 0.25em;color: #696969;}#sk-container-id-1 label.sk-toggleable__label-arrow:hover:before {color: black;}#sk-container-id-1 div.sk-estimator:hover label.sk-toggleable__label-arrow:before {color: black;}#sk-container-id-1 div.sk-toggleable__content {max-height: 0;max-width: 0;overflow: hidden;text-align: left;background-color: #f0f8ff;}#sk-container-id-1 div.sk-toggleable__content pre {margin: 0.2em;color: black;border-radius: 0.25em;background-color: #f0f8ff;}#sk-container-id-1 input.sk-toggleable__control:checked~div.sk-toggleable__content {max-height: 200px;max-width: 100%;overflow: auto;}#sk-container-id-1 input.sk-toggleable__control:checked~label.sk-toggleable__label-arrow:before {content: \"▾\";}#sk-container-id-1 div.sk-estimator input.sk-toggleable__control:checked~label.sk-toggleable__label {background-color: #d4ebff;}#sk-container-id-1 div.sk-label input.sk-toggleable__control:checked~label.sk-toggleable__label {background-color: #d4ebff;}#sk-container-id-1 input.sk-hidden--visually {border: 0;clip: rect(1px 1px 1px 1px);clip: rect(1px, 1px, 1px, 1px);height: 1px;margin: -1px;overflow: hidden;padding: 0;position: absolute;width: 1px;}#sk-container-id-1 div.sk-estimator {font-family: monospace;background-color: #f0f8ff;border: 1px dotted black;border-radius: 0.25em;box-sizing: border-box;margin-bottom: 0.5em;}#sk-container-id-1 div.sk-estimator:hover {background-color: #d4ebff;}#sk-container-id-1 div.sk-parallel-item::after {content: \"\";width: 100%;border-bottom: 1px solid gray;flex-grow: 1;}#sk-container-id-1 div.sk-label:hover label.sk-toggleable__label {background-color: #d4ebff;}#sk-container-id-1 div.sk-serial::before {content: \"\";position: absolute;border-left: 1px solid gray;box-sizing: border-box;top: 0;bottom: 0;left: 50%;z-index: 0;}#sk-container-id-1 div.sk-serial {display: flex;flex-direction: column;align-items: center;background-color: white;padding-right: 0.2em;padding-left: 0.2em;position: relative;}#sk-container-id-1 div.sk-item {position: relative;z-index: 1;}#sk-container-id-1 div.sk-parallel {display: flex;align-items: stretch;justify-content: center;background-color: white;position: relative;}#sk-container-id-1 div.sk-item::before, #sk-container-id-1 div.sk-parallel-item::before {content: \"\";position: absolute;border-left: 1px solid gray;box-sizing: border-box;top: 0;bottom: 0;left: 50%;z-index: -1;}#sk-container-id-1 div.sk-parallel-item {display: flex;flex-direction: column;z-index: 1;position: relative;background-color: white;}#sk-container-id-1 div.sk-parallel-item:first-child::after {align-self: flex-end;width: 50%;}#sk-container-id-1 div.sk-parallel-item:last-child::after {align-self: flex-start;width: 50%;}#sk-container-id-1 div.sk-parallel-item:only-child::after {width: 0;}#sk-container-id-1 div.sk-dashed-wrapped {border: 1px dashed gray;margin: 0 0.4em 0.5em 0.4em;box-sizing: border-box;padding-bottom: 0.4em;background-color: white;}#sk-container-id-1 div.sk-label label {font-family: monospace;font-weight: bold;display: inline-block;line-height: 1.2em;}#sk-container-id-1 div.sk-label-container {text-align: center;}#sk-container-id-1 div.sk-container {/* jupyter's `normalize.less` sets `[hidden] { display: none; }` but bootstrap.min.css set `[hidden] { display: none !important; }` so we also need the `!important` here to be able to override the default hidden behavior on the sphinx rendered scikit-learn.org. See: https://github.com/scikit-learn/scikit-learn/issues/21755 */display: inline-block !important;position: relative;}#sk-container-id-1 div.sk-text-repr-fallback {display: none;}</style><div id=\"sk-container-id-1\" class=\"sk-top-container\"><div class=\"sk-text-repr-fallback\"><pre>GridSearchCV(cv=TimeSeriesSplit(gap=0, max_train_size=None, n_splits=5, test_size=None),\n",
       "             estimator=Pipeline(steps=[(&#x27;imputer&#x27;, StandardScaler()),\n",
       "                                       (&#x27;regression&#x27;, Lasso(max_iter=100000))]),\n",
       "             param_grid={&#x27;imputer&#x27;: [StandardScaler(), MinMaxScaler()],\n",
       "                         &#x27;regression&#x27;: [Lasso(), Ridge(alpha=10.0)],\n",
       "                         &#x27;regression__alpha&#x27;: array([1.e-05, 1.e-04, 1.e-03, 1.e-02, 1.e-01, 1.e+00, 1.e+01, 1.e+02,\n",
       "       1.e+03, 1.e+04, 1.e+05])},\n",
       "             scoring=&#x27;neg_mean_squared_error&#x27;)</pre><b>In a Jupyter environment, please rerun this cell to show the HTML representation or trust the notebook. <br />On GitHub, the HTML representation is unable to render, please try loading this page with nbviewer.org.</b></div><div class=\"sk-container\" hidden><div class=\"sk-item sk-dashed-wrapped\"><div class=\"sk-label-container\"><div class=\"sk-label sk-toggleable\"><input class=\"sk-toggleable__control sk-hidden--visually\" id=\"sk-estimator-id-1\" type=\"checkbox\" ><label for=\"sk-estimator-id-1\" class=\"sk-toggleable__label sk-toggleable__label-arrow\">GridSearchCV</label><div class=\"sk-toggleable__content\"><pre>GridSearchCV(cv=TimeSeriesSplit(gap=0, max_train_size=None, n_splits=5, test_size=None),\n",
       "             estimator=Pipeline(steps=[(&#x27;imputer&#x27;, StandardScaler()),\n",
       "                                       (&#x27;regression&#x27;, Lasso(max_iter=100000))]),\n",
       "             param_grid={&#x27;imputer&#x27;: [StandardScaler(), MinMaxScaler()],\n",
       "                         &#x27;regression&#x27;: [Lasso(), Ridge(alpha=10.0)],\n",
       "                         &#x27;regression__alpha&#x27;: array([1.e-05, 1.e-04, 1.e-03, 1.e-02, 1.e-01, 1.e+00, 1.e+01, 1.e+02,\n",
       "       1.e+03, 1.e+04, 1.e+05])},\n",
       "             scoring=&#x27;neg_mean_squared_error&#x27;)</pre></div></div></div><div class=\"sk-parallel\"><div class=\"sk-parallel-item\"><div class=\"sk-item\"><div class=\"sk-label-container\"><div class=\"sk-label sk-toggleable\"><input class=\"sk-toggleable__control sk-hidden--visually\" id=\"sk-estimator-id-2\" type=\"checkbox\" ><label for=\"sk-estimator-id-2\" class=\"sk-toggleable__label sk-toggleable__label-arrow\">estimator: Pipeline</label><div class=\"sk-toggleable__content\"><pre>Pipeline(steps=[(&#x27;imputer&#x27;, StandardScaler()),\n",
       "                (&#x27;regression&#x27;, Lasso(max_iter=100000))])</pre></div></div></div><div class=\"sk-serial\"><div class=\"sk-item\"><div class=\"sk-serial\"><div class=\"sk-item\"><div class=\"sk-estimator sk-toggleable\"><input class=\"sk-toggleable__control sk-hidden--visually\" id=\"sk-estimator-id-3\" type=\"checkbox\" ><label for=\"sk-estimator-id-3\" class=\"sk-toggleable__label sk-toggleable__label-arrow\">StandardScaler</label><div class=\"sk-toggleable__content\"><pre>StandardScaler()</pre></div></div></div><div class=\"sk-item\"><div class=\"sk-estimator sk-toggleable\"><input class=\"sk-toggleable__control sk-hidden--visually\" id=\"sk-estimator-id-4\" type=\"checkbox\" ><label for=\"sk-estimator-id-4\" class=\"sk-toggleable__label sk-toggleable__label-arrow\">Lasso</label><div class=\"sk-toggleable__content\"><pre>Lasso(max_iter=100000)</pre></div></div></div></div></div></div></div></div></div></div></div></div>"
      ],
      "text/plain": [
       "GridSearchCV(cv=TimeSeriesSplit(gap=0, max_train_size=None, n_splits=5, test_size=None),\n",
       "             estimator=Pipeline(steps=[('imputer', StandardScaler()),\n",
       "                                       ('regression', Lasso(max_iter=100000))]),\n",
       "             param_grid={'imputer': [StandardScaler(), MinMaxScaler()],\n",
       "                         'regression': [Lasso(), Ridge(alpha=10.0)],\n",
       "                         'regression__alpha': array([1.e-05, 1.e-04, 1.e-03, 1.e-02, 1.e-01, 1.e+00, 1.e+01, 1.e+02,\n",
       "       1.e+03, 1.e+04, 1.e+05])},\n",
       "             scoring='neg_mean_squared_error')"
      ]
     },
     "execution_count": 11,
     "metadata": {},
     "output_type": "execute_result"
    }
   ],
   "source": [
    "pipe = Pipeline([('imputer', StandardScaler()), ('regression', Lasso(max_iter=100000))])\n",
    "\n",
    "parameters = {'imputer':[StandardScaler(), MinMaxScaler()],\n",
    "              'regression':[Lasso(), Ridge()],\n",
    "              'regression__alpha':np.logspace(-5, 5, 11)}\n",
    "\n",
    "select_model = GridSearchCV(pipe, parameters, scoring='neg_mean_squared_error', cv=splitter)\n",
    "select_model.fit(X, Y)"
   ]
  },
  {
   "cell_type": "code",
   "execution_count": 12,
   "id": "8540b8cf",
   "metadata": {},
   "outputs": [
    {
     "name": "stdout",
     "output_type": "stream",
     "text": [
      "Pipeline(steps=[('imputer', MinMaxScaler()), ('regression', Ridge(alpha=10.0))])\n"
     ]
    }
   ],
   "source": [
    "print(select_model.best_estimator_)"
   ]
  },
  {
   "cell_type": "code",
   "execution_count": 13,
   "id": "34a62380",
   "metadata": {},
   "outputs": [],
   "source": [
    "pipe = Pipeline([('scaler', select_model.best_params_['imputer']), \n",
    "                 ('regression', select_model.best_params_['regression'])])"
   ]
  },
  {
   "cell_type": "code",
   "execution_count": 14,
   "id": "264552ee",
   "metadata": {},
   "outputs": [
    {
     "name": "stdout",
     "output_type": "stream",
     "text": [
      "Среднее MSLE на тренировочных фолдах: 0.295\n",
      "Среднее MSLE на тестовых фолдах: 0.256\n"
     ]
    }
   ],
   "source": [
    "cv_result_pipe = cross_validate(pipe, X, Y, \n",
    "                                scoring='neg_mean_squared_error',\n",
    "                                cv=splitter, return_train_score=True)\n",
    "\n",
    "print(f\"Среднее MSLE на тренировочных фолдах: {-np.mean(cv_result_pipe['train_score']).round(3)}\")\n",
    "print(f\"Среднее MSLE на тестовых фолдах: {-np.mean(cv_result_pipe['test_score']).round(3)}\")"
   ]
  },
  {
   "cell_type": "markdown",
   "id": "1dc8e9bb",
   "metadata": {},
   "source": [
    "Для сравнения посмотрим на Lasso"
   ]
  },
  {
   "cell_type": "code",
   "execution_count": 15,
   "id": "0f8ffbd3",
   "metadata": {},
   "outputs": [
    {
     "data": {
      "text/html": [
       "<style>#sk-container-id-2 {color: black;background-color: white;}#sk-container-id-2 pre{padding: 0;}#sk-container-id-2 div.sk-toggleable {background-color: white;}#sk-container-id-2 label.sk-toggleable__label {cursor: pointer;display: block;width: 100%;margin-bottom: 0;padding: 0.3em;box-sizing: border-box;text-align: center;}#sk-container-id-2 label.sk-toggleable__label-arrow:before {content: \"▸\";float: left;margin-right: 0.25em;color: #696969;}#sk-container-id-2 label.sk-toggleable__label-arrow:hover:before {color: black;}#sk-container-id-2 div.sk-estimator:hover label.sk-toggleable__label-arrow:before {color: black;}#sk-container-id-2 div.sk-toggleable__content {max-height: 0;max-width: 0;overflow: hidden;text-align: left;background-color: #f0f8ff;}#sk-container-id-2 div.sk-toggleable__content pre {margin: 0.2em;color: black;border-radius: 0.25em;background-color: #f0f8ff;}#sk-container-id-2 input.sk-toggleable__control:checked~div.sk-toggleable__content {max-height: 200px;max-width: 100%;overflow: auto;}#sk-container-id-2 input.sk-toggleable__control:checked~label.sk-toggleable__label-arrow:before {content: \"▾\";}#sk-container-id-2 div.sk-estimator input.sk-toggleable__control:checked~label.sk-toggleable__label {background-color: #d4ebff;}#sk-container-id-2 div.sk-label input.sk-toggleable__control:checked~label.sk-toggleable__label {background-color: #d4ebff;}#sk-container-id-2 input.sk-hidden--visually {border: 0;clip: rect(1px 1px 1px 1px);clip: rect(1px, 1px, 1px, 1px);height: 1px;margin: -1px;overflow: hidden;padding: 0;position: absolute;width: 1px;}#sk-container-id-2 div.sk-estimator {font-family: monospace;background-color: #f0f8ff;border: 1px dotted black;border-radius: 0.25em;box-sizing: border-box;margin-bottom: 0.5em;}#sk-container-id-2 div.sk-estimator:hover {background-color: #d4ebff;}#sk-container-id-2 div.sk-parallel-item::after {content: \"\";width: 100%;border-bottom: 1px solid gray;flex-grow: 1;}#sk-container-id-2 div.sk-label:hover label.sk-toggleable__label {background-color: #d4ebff;}#sk-container-id-2 div.sk-serial::before {content: \"\";position: absolute;border-left: 1px solid gray;box-sizing: border-box;top: 0;bottom: 0;left: 50%;z-index: 0;}#sk-container-id-2 div.sk-serial {display: flex;flex-direction: column;align-items: center;background-color: white;padding-right: 0.2em;padding-left: 0.2em;position: relative;}#sk-container-id-2 div.sk-item {position: relative;z-index: 1;}#sk-container-id-2 div.sk-parallel {display: flex;align-items: stretch;justify-content: center;background-color: white;position: relative;}#sk-container-id-2 div.sk-item::before, #sk-container-id-2 div.sk-parallel-item::before {content: \"\";position: absolute;border-left: 1px solid gray;box-sizing: border-box;top: 0;bottom: 0;left: 50%;z-index: -1;}#sk-container-id-2 div.sk-parallel-item {display: flex;flex-direction: column;z-index: 1;position: relative;background-color: white;}#sk-container-id-2 div.sk-parallel-item:first-child::after {align-self: flex-end;width: 50%;}#sk-container-id-2 div.sk-parallel-item:last-child::after {align-self: flex-start;width: 50%;}#sk-container-id-2 div.sk-parallel-item:only-child::after {width: 0;}#sk-container-id-2 div.sk-dashed-wrapped {border: 1px dashed gray;margin: 0 0.4em 0.5em 0.4em;box-sizing: border-box;padding-bottom: 0.4em;background-color: white;}#sk-container-id-2 div.sk-label label {font-family: monospace;font-weight: bold;display: inline-block;line-height: 1.2em;}#sk-container-id-2 div.sk-label-container {text-align: center;}#sk-container-id-2 div.sk-container {/* jupyter's `normalize.less` sets `[hidden] { display: none; }` but bootstrap.min.css set `[hidden] { display: none !important; }` so we also need the `!important` here to be able to override the default hidden behavior on the sphinx rendered scikit-learn.org. See: https://github.com/scikit-learn/scikit-learn/issues/21755 */display: inline-block !important;position: relative;}#sk-container-id-2 div.sk-text-repr-fallback {display: none;}</style><div id=\"sk-container-id-2\" class=\"sk-top-container\"><div class=\"sk-text-repr-fallback\"><pre>GridSearchCV(cv=TimeSeriesSplit(gap=0, max_train_size=None, n_splits=5, test_size=None),\n",
       "             estimator=Pipeline(steps=[(&#x27;imputer&#x27;, StandardScaler()),\n",
       "                                       (&#x27;regression&#x27;, Lasso(max_iter=100000))]),\n",
       "             param_grid={&#x27;imputer&#x27;: [StandardScaler(), MinMaxScaler()],\n",
       "                         &#x27;regression&#x27;: [Lasso(alpha=0.001)],\n",
       "                         &#x27;regression__alpha&#x27;: array([1.e-05, 1.e-04, 1.e-03, 1.e-02, 1.e-01, 1.e+00, 1.e+01, 1.e+02,\n",
       "       1.e+03, 1.e+04, 1.e+05])},\n",
       "             scoring=&#x27;neg_mean_squared_error&#x27;)</pre><b>In a Jupyter environment, please rerun this cell to show the HTML representation or trust the notebook. <br />On GitHub, the HTML representation is unable to render, please try loading this page with nbviewer.org.</b></div><div class=\"sk-container\" hidden><div class=\"sk-item sk-dashed-wrapped\"><div class=\"sk-label-container\"><div class=\"sk-label sk-toggleable\"><input class=\"sk-toggleable__control sk-hidden--visually\" id=\"sk-estimator-id-5\" type=\"checkbox\" ><label for=\"sk-estimator-id-5\" class=\"sk-toggleable__label sk-toggleable__label-arrow\">GridSearchCV</label><div class=\"sk-toggleable__content\"><pre>GridSearchCV(cv=TimeSeriesSplit(gap=0, max_train_size=None, n_splits=5, test_size=None),\n",
       "             estimator=Pipeline(steps=[(&#x27;imputer&#x27;, StandardScaler()),\n",
       "                                       (&#x27;regression&#x27;, Lasso(max_iter=100000))]),\n",
       "             param_grid={&#x27;imputer&#x27;: [StandardScaler(), MinMaxScaler()],\n",
       "                         &#x27;regression&#x27;: [Lasso(alpha=0.001)],\n",
       "                         &#x27;regression__alpha&#x27;: array([1.e-05, 1.e-04, 1.e-03, 1.e-02, 1.e-01, 1.e+00, 1.e+01, 1.e+02,\n",
       "       1.e+03, 1.e+04, 1.e+05])},\n",
       "             scoring=&#x27;neg_mean_squared_error&#x27;)</pre></div></div></div><div class=\"sk-parallel\"><div class=\"sk-parallel-item\"><div class=\"sk-item\"><div class=\"sk-label-container\"><div class=\"sk-label sk-toggleable\"><input class=\"sk-toggleable__control sk-hidden--visually\" id=\"sk-estimator-id-6\" type=\"checkbox\" ><label for=\"sk-estimator-id-6\" class=\"sk-toggleable__label sk-toggleable__label-arrow\">estimator: Pipeline</label><div class=\"sk-toggleable__content\"><pre>Pipeline(steps=[(&#x27;imputer&#x27;, StandardScaler()),\n",
       "                (&#x27;regression&#x27;, Lasso(max_iter=100000))])</pre></div></div></div><div class=\"sk-serial\"><div class=\"sk-item\"><div class=\"sk-serial\"><div class=\"sk-item\"><div class=\"sk-estimator sk-toggleable\"><input class=\"sk-toggleable__control sk-hidden--visually\" id=\"sk-estimator-id-7\" type=\"checkbox\" ><label for=\"sk-estimator-id-7\" class=\"sk-toggleable__label sk-toggleable__label-arrow\">StandardScaler</label><div class=\"sk-toggleable__content\"><pre>StandardScaler()</pre></div></div></div><div class=\"sk-item\"><div class=\"sk-estimator sk-toggleable\"><input class=\"sk-toggleable__control sk-hidden--visually\" id=\"sk-estimator-id-8\" type=\"checkbox\" ><label for=\"sk-estimator-id-8\" class=\"sk-toggleable__label sk-toggleable__label-arrow\">Lasso</label><div class=\"sk-toggleable__content\"><pre>Lasso(max_iter=100000)</pre></div></div></div></div></div></div></div></div></div></div></div></div>"
      ],
      "text/plain": [
       "GridSearchCV(cv=TimeSeriesSplit(gap=0, max_train_size=None, n_splits=5, test_size=None),\n",
       "             estimator=Pipeline(steps=[('imputer', StandardScaler()),\n",
       "                                       ('regression', Lasso(max_iter=100000))]),\n",
       "             param_grid={'imputer': [StandardScaler(), MinMaxScaler()],\n",
       "                         'regression': [Lasso(alpha=0.001)],\n",
       "                         'regression__alpha': array([1.e-05, 1.e-04, 1.e-03, 1.e-02, 1.e-01, 1.e+00, 1.e+01, 1.e+02,\n",
       "       1.e+03, 1.e+04, 1.e+05])},\n",
       "             scoring='neg_mean_squared_error')"
      ]
     },
     "execution_count": 15,
     "metadata": {},
     "output_type": "execute_result"
    }
   ],
   "source": [
    "pipe_lasso = Pipeline([('imputer', StandardScaler()), ('regression', Lasso(max_iter=100000))])\n",
    "\n",
    "parameters_lasso = {'imputer':[StandardScaler(), MinMaxScaler()],\n",
    "                    'regression':[Lasso()],\n",
    "                    'regression__alpha':np.logspace(-5, 5, 11)}\n",
    "\n",
    "select_model_lasso = GridSearchCV(pipe_lasso, parameters_lasso, scoring='neg_mean_squared_error', cv=splitter)\n",
    "select_model_lasso.fit(X, Y)"
   ]
  },
  {
   "cell_type": "code",
   "execution_count": 16,
   "id": "092141f9",
   "metadata": {},
   "outputs": [
    {
     "name": "stdout",
     "output_type": "stream",
     "text": [
      "Pipeline(steps=[('imputer', MinMaxScaler()),\n",
      "                ('regression', Lasso(alpha=0.001))])\n"
     ]
    }
   ],
   "source": [
    "print(select_model_lasso.best_estimator_)"
   ]
  },
  {
   "cell_type": "code",
   "execution_count": 17,
   "id": "bb687a47",
   "metadata": {},
   "outputs": [],
   "source": [
    "pipe_lasso = Pipeline([('scaler', select_model_lasso.best_params_['imputer']), \n",
    "                 ('regression', select_model_lasso.best_params_['regression'])])"
   ]
  },
  {
   "cell_type": "code",
   "execution_count": 18,
   "id": "5605990e",
   "metadata": {
    "scrolled": true
   },
   "outputs": [
    {
     "name": "stdout",
     "output_type": "stream",
     "text": [
      "Среднее MSLE на тренировочных фолдах: 0.298\n",
      "Среднее MSLE на тестовых фолдах: 0.293\n"
     ]
    }
   ],
   "source": [
    "cv_result_pipe_lasso = cross_validate(pipe_lasso, X, Y, \n",
    "                                    scoring='neg_mean_squared_error',\n",
    "                                    cv=splitter, return_train_score=True)\n",
    "\n",
    "print(f\"Среднее MSLE на тренировочных фолдах: {-np.mean(cv_result_pipe_lasso['train_score']).round(3)}\")\n",
    "print(f\"Среднее MSLE на тестовых фолдах: {-np.mean(cv_result_pipe_lasso['test_score']).round(3)}\")"
   ]
  },
  {
   "cell_type": "markdown",
   "id": "36bb6e45",
   "metadata": {},
   "source": [
    "Посмотрим, какие признаки нам оставила модель"
   ]
  },
  {
   "cell_type": "code",
   "execution_count": 19,
   "id": "0626611a",
   "metadata": {},
   "outputs": [],
   "source": [
    "res = []\n",
    "for i in range (len(X.columns)):\n",
    "    if select_model_lasso.best_estimator_['regression'].coef_[i] != 0:\n",
    "        res.append(X.columns[i])"
   ]
  },
  {
   "cell_type": "code",
   "execution_count": 20,
   "id": "6a6da91a",
   "metadata": {},
   "outputs": [
    {
     "data": {
      "text/plain": [
       "['floor',\n",
       " 'max_floor',\n",
       " 'build_year',\n",
       " 'num_room',\n",
       " 'sub_area',\n",
       " 'raion_popul',\n",
       " 'healthcare_centers_raion',\n",
       " 'additional_education_raion',\n",
       " 'build_count_wood',\n",
       " 'green_zone_km',\n",
       " 'cemetery_km',\n",
       " 'railroad_station_avto_min',\n",
       " 'market_shop_km',\n",
       " 'workplaces_km',\n",
       " 'ecology',\n",
       " 'big_church_count_500',\n",
       " 'prom_part_1000',\n",
       " 'trc_count_1000',\n",
       " 'trc_sqm_1500',\n",
       " 'mosque_count_1500',\n",
       " 'cafe_sum_2000_min_price_avg',\n",
       " 'mosque_count_3000',\n",
       " 'sport_count_3000',\n",
       " 'prom_part_5000',\n",
       " 'trc_sqm_5000',\n",
       " 'mosque_count_5000',\n",
       " 'market_count_5000',\n",
       " 'usdrub',\n",
       " 'salary',\n",
       " 'product_type_OwnerOccupier',\n",
       " 'culture_objects_top_25_yes',\n",
       " 'incineration_raion_yes',\n",
       " 'radiation_raion_yes',\n",
       " 'railroad_1line_yes',\n",
       " 'year_2014',\n",
       " 'month_2',\n",
       " 'month_9',\n",
       " 'month_12']"
      ]
     },
     "execution_count": 20,
     "metadata": {},
     "output_type": "execute_result"
    }
   ],
   "source": [
    "res"
   ]
  },
  {
   "cell_type": "markdown",
   "id": "323ba023",
   "metadata": {},
   "source": [
    "Итого в базовой версии мы имеем следующее: Lasso модель показала чуть хуже результат, чем Ridge (на 0,017 или 5%), при этом модель использовала всего 3 признака: общую площадь, количество комнат и район. Выбор признаков звучит достаточно логично. Учитывая, что одно из условий задания максимально сократить количество используемых признаков, скорее всего свой выбор мы остановим на модели Lasso. Однако, это только базовая версия, поработаем дальше еще немного над данными."
   ]
  },
  {
   "cell_type": "markdown",
   "id": "100519e7",
   "metadata": {},
   "source": [
    "Теперь второй вариант: только one hot encoding"
   ]
  },
  {
   "cell_type": "code",
   "execution_count": 21,
   "id": "185762c1",
   "metadata": {},
   "outputs": [],
   "source": [
    "X = data_v2.drop('log_price_doc', axis=1)\n",
    "Y = data_v2['log_price_doc']"
   ]
  },
  {
   "cell_type": "code",
   "execution_count": 22,
   "id": "24cfa6ad",
   "metadata": {},
   "outputs": [],
   "source": [
    "splitter = TimeSeriesSplit(n_splits=5)"
   ]
  },
  {
   "cell_type": "code",
   "execution_count": 23,
   "id": "d58abfe3",
   "metadata": {},
   "outputs": [
    {
     "data": {
      "text/html": [
       "<style>#sk-container-id-3 {color: black;background-color: white;}#sk-container-id-3 pre{padding: 0;}#sk-container-id-3 div.sk-toggleable {background-color: white;}#sk-container-id-3 label.sk-toggleable__label {cursor: pointer;display: block;width: 100%;margin-bottom: 0;padding: 0.3em;box-sizing: border-box;text-align: center;}#sk-container-id-3 label.sk-toggleable__label-arrow:before {content: \"▸\";float: left;margin-right: 0.25em;color: #696969;}#sk-container-id-3 label.sk-toggleable__label-arrow:hover:before {color: black;}#sk-container-id-3 div.sk-estimator:hover label.sk-toggleable__label-arrow:before {color: black;}#sk-container-id-3 div.sk-toggleable__content {max-height: 0;max-width: 0;overflow: hidden;text-align: left;background-color: #f0f8ff;}#sk-container-id-3 div.sk-toggleable__content pre {margin: 0.2em;color: black;border-radius: 0.25em;background-color: #f0f8ff;}#sk-container-id-3 input.sk-toggleable__control:checked~div.sk-toggleable__content {max-height: 200px;max-width: 100%;overflow: auto;}#sk-container-id-3 input.sk-toggleable__control:checked~label.sk-toggleable__label-arrow:before {content: \"▾\";}#sk-container-id-3 div.sk-estimator input.sk-toggleable__control:checked~label.sk-toggleable__label {background-color: #d4ebff;}#sk-container-id-3 div.sk-label input.sk-toggleable__control:checked~label.sk-toggleable__label {background-color: #d4ebff;}#sk-container-id-3 input.sk-hidden--visually {border: 0;clip: rect(1px 1px 1px 1px);clip: rect(1px, 1px, 1px, 1px);height: 1px;margin: -1px;overflow: hidden;padding: 0;position: absolute;width: 1px;}#sk-container-id-3 div.sk-estimator {font-family: monospace;background-color: #f0f8ff;border: 1px dotted black;border-radius: 0.25em;box-sizing: border-box;margin-bottom: 0.5em;}#sk-container-id-3 div.sk-estimator:hover {background-color: #d4ebff;}#sk-container-id-3 div.sk-parallel-item::after {content: \"\";width: 100%;border-bottom: 1px solid gray;flex-grow: 1;}#sk-container-id-3 div.sk-label:hover label.sk-toggleable__label {background-color: #d4ebff;}#sk-container-id-3 div.sk-serial::before {content: \"\";position: absolute;border-left: 1px solid gray;box-sizing: border-box;top: 0;bottom: 0;left: 50%;z-index: 0;}#sk-container-id-3 div.sk-serial {display: flex;flex-direction: column;align-items: center;background-color: white;padding-right: 0.2em;padding-left: 0.2em;position: relative;}#sk-container-id-3 div.sk-item {position: relative;z-index: 1;}#sk-container-id-3 div.sk-parallel {display: flex;align-items: stretch;justify-content: center;background-color: white;position: relative;}#sk-container-id-3 div.sk-item::before, #sk-container-id-3 div.sk-parallel-item::before {content: \"\";position: absolute;border-left: 1px solid gray;box-sizing: border-box;top: 0;bottom: 0;left: 50%;z-index: -1;}#sk-container-id-3 div.sk-parallel-item {display: flex;flex-direction: column;z-index: 1;position: relative;background-color: white;}#sk-container-id-3 div.sk-parallel-item:first-child::after {align-self: flex-end;width: 50%;}#sk-container-id-3 div.sk-parallel-item:last-child::after {align-self: flex-start;width: 50%;}#sk-container-id-3 div.sk-parallel-item:only-child::after {width: 0;}#sk-container-id-3 div.sk-dashed-wrapped {border: 1px dashed gray;margin: 0 0.4em 0.5em 0.4em;box-sizing: border-box;padding-bottom: 0.4em;background-color: white;}#sk-container-id-3 div.sk-label label {font-family: monospace;font-weight: bold;display: inline-block;line-height: 1.2em;}#sk-container-id-3 div.sk-label-container {text-align: center;}#sk-container-id-3 div.sk-container {/* jupyter's `normalize.less` sets `[hidden] { display: none; }` but bootstrap.min.css set `[hidden] { display: none !important; }` so we also need the `!important` here to be able to override the default hidden behavior on the sphinx rendered scikit-learn.org. See: https://github.com/scikit-learn/scikit-learn/issues/21755 */display: inline-block !important;position: relative;}#sk-container-id-3 div.sk-text-repr-fallback {display: none;}</style><div id=\"sk-container-id-3\" class=\"sk-top-container\"><div class=\"sk-text-repr-fallback\"><pre>GridSearchCV(cv=TimeSeriesSplit(gap=0, max_train_size=None, n_splits=5, test_size=None),\n",
       "             estimator=Pipeline(steps=[(&#x27;imputer&#x27;, StandardScaler()),\n",
       "                                       (&#x27;regression&#x27;, Lasso(max_iter=100000))]),\n",
       "             param_grid={&#x27;imputer&#x27;: [StandardScaler(), MinMaxScaler()],\n",
       "                         &#x27;regression&#x27;: [Lasso(), Ridge(alpha=10.0)],\n",
       "                         &#x27;regression__alpha&#x27;: array([1.e-05, 1.e-04, 1.e-03, 1.e-02, 1.e-01, 1.e+00, 1.e+01, 1.e+02,\n",
       "       1.e+03, 1.e+04, 1.e+05])},\n",
       "             scoring=&#x27;neg_mean_squared_error&#x27;)</pre><b>In a Jupyter environment, please rerun this cell to show the HTML representation or trust the notebook. <br />On GitHub, the HTML representation is unable to render, please try loading this page with nbviewer.org.</b></div><div class=\"sk-container\" hidden><div class=\"sk-item sk-dashed-wrapped\"><div class=\"sk-label-container\"><div class=\"sk-label sk-toggleable\"><input class=\"sk-toggleable__control sk-hidden--visually\" id=\"sk-estimator-id-9\" type=\"checkbox\" ><label for=\"sk-estimator-id-9\" class=\"sk-toggleable__label sk-toggleable__label-arrow\">GridSearchCV</label><div class=\"sk-toggleable__content\"><pre>GridSearchCV(cv=TimeSeriesSplit(gap=0, max_train_size=None, n_splits=5, test_size=None),\n",
       "             estimator=Pipeline(steps=[(&#x27;imputer&#x27;, StandardScaler()),\n",
       "                                       (&#x27;regression&#x27;, Lasso(max_iter=100000))]),\n",
       "             param_grid={&#x27;imputer&#x27;: [StandardScaler(), MinMaxScaler()],\n",
       "                         &#x27;regression&#x27;: [Lasso(), Ridge(alpha=10.0)],\n",
       "                         &#x27;regression__alpha&#x27;: array([1.e-05, 1.e-04, 1.e-03, 1.e-02, 1.e-01, 1.e+00, 1.e+01, 1.e+02,\n",
       "       1.e+03, 1.e+04, 1.e+05])},\n",
       "             scoring=&#x27;neg_mean_squared_error&#x27;)</pre></div></div></div><div class=\"sk-parallel\"><div class=\"sk-parallel-item\"><div class=\"sk-item\"><div class=\"sk-label-container\"><div class=\"sk-label sk-toggleable\"><input class=\"sk-toggleable__control sk-hidden--visually\" id=\"sk-estimator-id-10\" type=\"checkbox\" ><label for=\"sk-estimator-id-10\" class=\"sk-toggleable__label sk-toggleable__label-arrow\">estimator: Pipeline</label><div class=\"sk-toggleable__content\"><pre>Pipeline(steps=[(&#x27;imputer&#x27;, StandardScaler()),\n",
       "                (&#x27;regression&#x27;, Lasso(max_iter=100000))])</pre></div></div></div><div class=\"sk-serial\"><div class=\"sk-item\"><div class=\"sk-serial\"><div class=\"sk-item\"><div class=\"sk-estimator sk-toggleable\"><input class=\"sk-toggleable__control sk-hidden--visually\" id=\"sk-estimator-id-11\" type=\"checkbox\" ><label for=\"sk-estimator-id-11\" class=\"sk-toggleable__label sk-toggleable__label-arrow\">StandardScaler</label><div class=\"sk-toggleable__content\"><pre>StandardScaler()</pre></div></div></div><div class=\"sk-item\"><div class=\"sk-estimator sk-toggleable\"><input class=\"sk-toggleable__control sk-hidden--visually\" id=\"sk-estimator-id-12\" type=\"checkbox\" ><label for=\"sk-estimator-id-12\" class=\"sk-toggleable__label sk-toggleable__label-arrow\">Lasso</label><div class=\"sk-toggleable__content\"><pre>Lasso(max_iter=100000)</pre></div></div></div></div></div></div></div></div></div></div></div></div>"
      ],
      "text/plain": [
       "GridSearchCV(cv=TimeSeriesSplit(gap=0, max_train_size=None, n_splits=5, test_size=None),\n",
       "             estimator=Pipeline(steps=[('imputer', StandardScaler()),\n",
       "                                       ('regression', Lasso(max_iter=100000))]),\n",
       "             param_grid={'imputer': [StandardScaler(), MinMaxScaler()],\n",
       "                         'regression': [Lasso(), Ridge(alpha=10.0)],\n",
       "                         'regression__alpha': array([1.e-05, 1.e-04, 1.e-03, 1.e-02, 1.e-01, 1.e+00, 1.e+01, 1.e+02,\n",
       "       1.e+03, 1.e+04, 1.e+05])},\n",
       "             scoring='neg_mean_squared_error')"
      ]
     },
     "execution_count": 23,
     "metadata": {},
     "output_type": "execute_result"
    }
   ],
   "source": [
    "pipe = Pipeline([('imputer', StandardScaler()), ('regression', Lasso(max_iter=100000))])\n",
    "\n",
    "parameters = {'imputer':[StandardScaler(), MinMaxScaler()],\n",
    "              'regression':[Lasso(), Ridge()],\n",
    "              'regression__alpha':np.logspace(-5, 5, 11)}\n",
    "\n",
    "select_model = GridSearchCV(pipe, parameters, scoring='neg_mean_squared_error', cv=splitter)\n",
    "select_model.fit(X, Y)"
   ]
  },
  {
   "cell_type": "code",
   "execution_count": 24,
   "id": "12998bea",
   "metadata": {},
   "outputs": [
    {
     "name": "stdout",
     "output_type": "stream",
     "text": [
      "Pipeline(steps=[('imputer', MinMaxScaler()), ('regression', Ridge(alpha=10.0))])\n"
     ]
    }
   ],
   "source": [
    "print(select_model.best_estimator_)"
   ]
  },
  {
   "cell_type": "code",
   "execution_count": 25,
   "id": "54a0c9dd",
   "metadata": {},
   "outputs": [],
   "source": [
    "pipe = Pipeline([('scaler', select_model.best_params_['imputer']), \n",
    "                 ('regression', select_model.best_params_['regression'])])"
   ]
  },
  {
   "cell_type": "code",
   "execution_count": 26,
   "id": "227bf803",
   "metadata": {},
   "outputs": [
    {
     "name": "stdout",
     "output_type": "stream",
     "text": [
      "Среднее MSLE на тренировочных фолдах: 0.291\n",
      "Среднее MSLE на тестовых фолдах: 0.257\n"
     ]
    }
   ],
   "source": [
    "cv_result_pipe = cross_validate(pipe, X, Y, \n",
    "                                scoring='neg_mean_squared_error',\n",
    "                                cv=splitter, return_train_score=True)\n",
    "\n",
    "print(f\"Среднее MSLE на тренировочных фолдах: {-np.mean(cv_result_pipe['train_score']).round(3)}\")\n",
    "print(f\"Среднее MSLE на тестовых фолдах: {-np.mean(cv_result_pipe['test_score']).round(3)}\")"
   ]
  },
  {
   "cell_type": "markdown",
   "id": "865ec925",
   "metadata": {},
   "source": [
    "Для сравнения посмотрим на Lasso"
   ]
  },
  {
   "cell_type": "code",
   "execution_count": 27,
   "id": "07bcb434",
   "metadata": {},
   "outputs": [
    {
     "data": {
      "text/html": [
       "<style>#sk-container-id-4 {color: black;background-color: white;}#sk-container-id-4 pre{padding: 0;}#sk-container-id-4 div.sk-toggleable {background-color: white;}#sk-container-id-4 label.sk-toggleable__label {cursor: pointer;display: block;width: 100%;margin-bottom: 0;padding: 0.3em;box-sizing: border-box;text-align: center;}#sk-container-id-4 label.sk-toggleable__label-arrow:before {content: \"▸\";float: left;margin-right: 0.25em;color: #696969;}#sk-container-id-4 label.sk-toggleable__label-arrow:hover:before {color: black;}#sk-container-id-4 div.sk-estimator:hover label.sk-toggleable__label-arrow:before {color: black;}#sk-container-id-4 div.sk-toggleable__content {max-height: 0;max-width: 0;overflow: hidden;text-align: left;background-color: #f0f8ff;}#sk-container-id-4 div.sk-toggleable__content pre {margin: 0.2em;color: black;border-radius: 0.25em;background-color: #f0f8ff;}#sk-container-id-4 input.sk-toggleable__control:checked~div.sk-toggleable__content {max-height: 200px;max-width: 100%;overflow: auto;}#sk-container-id-4 input.sk-toggleable__control:checked~label.sk-toggleable__label-arrow:before {content: \"▾\";}#sk-container-id-4 div.sk-estimator input.sk-toggleable__control:checked~label.sk-toggleable__label {background-color: #d4ebff;}#sk-container-id-4 div.sk-label input.sk-toggleable__control:checked~label.sk-toggleable__label {background-color: #d4ebff;}#sk-container-id-4 input.sk-hidden--visually {border: 0;clip: rect(1px 1px 1px 1px);clip: rect(1px, 1px, 1px, 1px);height: 1px;margin: -1px;overflow: hidden;padding: 0;position: absolute;width: 1px;}#sk-container-id-4 div.sk-estimator {font-family: monospace;background-color: #f0f8ff;border: 1px dotted black;border-radius: 0.25em;box-sizing: border-box;margin-bottom: 0.5em;}#sk-container-id-4 div.sk-estimator:hover {background-color: #d4ebff;}#sk-container-id-4 div.sk-parallel-item::after {content: \"\";width: 100%;border-bottom: 1px solid gray;flex-grow: 1;}#sk-container-id-4 div.sk-label:hover label.sk-toggleable__label {background-color: #d4ebff;}#sk-container-id-4 div.sk-serial::before {content: \"\";position: absolute;border-left: 1px solid gray;box-sizing: border-box;top: 0;bottom: 0;left: 50%;z-index: 0;}#sk-container-id-4 div.sk-serial {display: flex;flex-direction: column;align-items: center;background-color: white;padding-right: 0.2em;padding-left: 0.2em;position: relative;}#sk-container-id-4 div.sk-item {position: relative;z-index: 1;}#sk-container-id-4 div.sk-parallel {display: flex;align-items: stretch;justify-content: center;background-color: white;position: relative;}#sk-container-id-4 div.sk-item::before, #sk-container-id-4 div.sk-parallel-item::before {content: \"\";position: absolute;border-left: 1px solid gray;box-sizing: border-box;top: 0;bottom: 0;left: 50%;z-index: -1;}#sk-container-id-4 div.sk-parallel-item {display: flex;flex-direction: column;z-index: 1;position: relative;background-color: white;}#sk-container-id-4 div.sk-parallel-item:first-child::after {align-self: flex-end;width: 50%;}#sk-container-id-4 div.sk-parallel-item:last-child::after {align-self: flex-start;width: 50%;}#sk-container-id-4 div.sk-parallel-item:only-child::after {width: 0;}#sk-container-id-4 div.sk-dashed-wrapped {border: 1px dashed gray;margin: 0 0.4em 0.5em 0.4em;box-sizing: border-box;padding-bottom: 0.4em;background-color: white;}#sk-container-id-4 div.sk-label label {font-family: monospace;font-weight: bold;display: inline-block;line-height: 1.2em;}#sk-container-id-4 div.sk-label-container {text-align: center;}#sk-container-id-4 div.sk-container {/* jupyter's `normalize.less` sets `[hidden] { display: none; }` but bootstrap.min.css set `[hidden] { display: none !important; }` so we also need the `!important` here to be able to override the default hidden behavior on the sphinx rendered scikit-learn.org. See: https://github.com/scikit-learn/scikit-learn/issues/21755 */display: inline-block !important;position: relative;}#sk-container-id-4 div.sk-text-repr-fallback {display: none;}</style><div id=\"sk-container-id-4\" class=\"sk-top-container\"><div class=\"sk-text-repr-fallback\"><pre>GridSearchCV(cv=TimeSeriesSplit(gap=0, max_train_size=None, n_splits=5, test_size=None),\n",
       "             estimator=Pipeline(steps=[(&#x27;imputer&#x27;, StandardScaler()),\n",
       "                                       (&#x27;regression&#x27;, Lasso(max_iter=100000))]),\n",
       "             param_grid={&#x27;imputer&#x27;: [StandardScaler(), MinMaxScaler()],\n",
       "                         &#x27;regression&#x27;: [Lasso(alpha=0.001)],\n",
       "                         &#x27;regression__alpha&#x27;: array([1.e-05, 1.e-04, 1.e-03, 1.e-02, 1.e-01, 1.e+00, 1.e+01, 1.e+02,\n",
       "       1.e+03, 1.e+04, 1.e+05])},\n",
       "             scoring=&#x27;neg_mean_squared_error&#x27;)</pre><b>In a Jupyter environment, please rerun this cell to show the HTML representation or trust the notebook. <br />On GitHub, the HTML representation is unable to render, please try loading this page with nbviewer.org.</b></div><div class=\"sk-container\" hidden><div class=\"sk-item sk-dashed-wrapped\"><div class=\"sk-label-container\"><div class=\"sk-label sk-toggleable\"><input class=\"sk-toggleable__control sk-hidden--visually\" id=\"sk-estimator-id-13\" type=\"checkbox\" ><label for=\"sk-estimator-id-13\" class=\"sk-toggleable__label sk-toggleable__label-arrow\">GridSearchCV</label><div class=\"sk-toggleable__content\"><pre>GridSearchCV(cv=TimeSeriesSplit(gap=0, max_train_size=None, n_splits=5, test_size=None),\n",
       "             estimator=Pipeline(steps=[(&#x27;imputer&#x27;, StandardScaler()),\n",
       "                                       (&#x27;regression&#x27;, Lasso(max_iter=100000))]),\n",
       "             param_grid={&#x27;imputer&#x27;: [StandardScaler(), MinMaxScaler()],\n",
       "                         &#x27;regression&#x27;: [Lasso(alpha=0.001)],\n",
       "                         &#x27;regression__alpha&#x27;: array([1.e-05, 1.e-04, 1.e-03, 1.e-02, 1.e-01, 1.e+00, 1.e+01, 1.e+02,\n",
       "       1.e+03, 1.e+04, 1.e+05])},\n",
       "             scoring=&#x27;neg_mean_squared_error&#x27;)</pre></div></div></div><div class=\"sk-parallel\"><div class=\"sk-parallel-item\"><div class=\"sk-item\"><div class=\"sk-label-container\"><div class=\"sk-label sk-toggleable\"><input class=\"sk-toggleable__control sk-hidden--visually\" id=\"sk-estimator-id-14\" type=\"checkbox\" ><label for=\"sk-estimator-id-14\" class=\"sk-toggleable__label sk-toggleable__label-arrow\">estimator: Pipeline</label><div class=\"sk-toggleable__content\"><pre>Pipeline(steps=[(&#x27;imputer&#x27;, StandardScaler()),\n",
       "                (&#x27;regression&#x27;, Lasso(max_iter=100000))])</pre></div></div></div><div class=\"sk-serial\"><div class=\"sk-item\"><div class=\"sk-serial\"><div class=\"sk-item\"><div class=\"sk-estimator sk-toggleable\"><input class=\"sk-toggleable__control sk-hidden--visually\" id=\"sk-estimator-id-15\" type=\"checkbox\" ><label for=\"sk-estimator-id-15\" class=\"sk-toggleable__label sk-toggleable__label-arrow\">StandardScaler</label><div class=\"sk-toggleable__content\"><pre>StandardScaler()</pre></div></div></div><div class=\"sk-item\"><div class=\"sk-estimator sk-toggleable\"><input class=\"sk-toggleable__control sk-hidden--visually\" id=\"sk-estimator-id-16\" type=\"checkbox\" ><label for=\"sk-estimator-id-16\" class=\"sk-toggleable__label sk-toggleable__label-arrow\">Lasso</label><div class=\"sk-toggleable__content\"><pre>Lasso(max_iter=100000)</pre></div></div></div></div></div></div></div></div></div></div></div></div>"
      ],
      "text/plain": [
       "GridSearchCV(cv=TimeSeriesSplit(gap=0, max_train_size=None, n_splits=5, test_size=None),\n",
       "             estimator=Pipeline(steps=[('imputer', StandardScaler()),\n",
       "                                       ('regression', Lasso(max_iter=100000))]),\n",
       "             param_grid={'imputer': [StandardScaler(), MinMaxScaler()],\n",
       "                         'regression': [Lasso(alpha=0.001)],\n",
       "                         'regression__alpha': array([1.e-05, 1.e-04, 1.e-03, 1.e-02, 1.e-01, 1.e+00, 1.e+01, 1.e+02,\n",
       "       1.e+03, 1.e+04, 1.e+05])},\n",
       "             scoring='neg_mean_squared_error')"
      ]
     },
     "execution_count": 27,
     "metadata": {},
     "output_type": "execute_result"
    }
   ],
   "source": [
    "pipe_lasso = Pipeline([('imputer', StandardScaler()), ('regression', Lasso(max_iter=100000))])\n",
    "\n",
    "parameters_lasso = {'imputer':[StandardScaler(), MinMaxScaler()],\n",
    "                    'regression':[Lasso()],\n",
    "                    'regression__alpha':np.logspace(-5, 5, 11)}\n",
    "\n",
    "select_model_lasso = GridSearchCV(pipe_lasso, parameters_lasso, scoring='neg_mean_squared_error', cv=splitter)\n",
    "select_model_lasso.fit(X, Y)"
   ]
  },
  {
   "cell_type": "code",
   "execution_count": 28,
   "id": "525ce683",
   "metadata": {},
   "outputs": [
    {
     "name": "stdout",
     "output_type": "stream",
     "text": [
      "Pipeline(steps=[('imputer', MinMaxScaler()),\n",
      "                ('regression', Lasso(alpha=0.001))])\n"
     ]
    }
   ],
   "source": [
    "print(select_model_lasso.best_estimator_)"
   ]
  },
  {
   "cell_type": "code",
   "execution_count": 29,
   "id": "645ce367",
   "metadata": {},
   "outputs": [],
   "source": [
    "pipe_lasso = Pipeline([('scaler', select_model_lasso.best_params_['imputer']), \n",
    "                 ('regression', select_model_lasso.best_params_['regression'])])"
   ]
  },
  {
   "cell_type": "code",
   "execution_count": 30,
   "id": "69bf5d36",
   "metadata": {},
   "outputs": [
    {
     "name": "stdout",
     "output_type": "stream",
     "text": [
      "Среднее MSLE на тренировочных фолдах: 0.3\n",
      "Среднее MSLE на тестовых фолдах: 0.304\n"
     ]
    }
   ],
   "source": [
    "cv_result_pipe_lasso = cross_validate(pipe_lasso, X, Y, \n",
    "                                    scoring='neg_mean_squared_error',\n",
    "                                    cv=splitter, return_train_score=True)\n",
    "\n",
    "print(f\"Среднее MSLE на тренировочных фолдах: {-np.mean(cv_result_pipe_lasso['train_score']).round(3)}\")\n",
    "print(f\"Среднее MSLE на тестовых фолдах: {-np.mean(cv_result_pipe_lasso['test_score']).round(3)}\")"
   ]
  },
  {
   "cell_type": "code",
   "execution_count": 31,
   "id": "64697671",
   "metadata": {},
   "outputs": [],
   "source": [
    "res = []\n",
    "for i in range (len(X.columns)):\n",
    "    if select_model_lasso.best_estimator_['regression'].coef_[i] != 0:\n",
    "        res.append(X.columns[i])"
   ]
  },
  {
   "cell_type": "code",
   "execution_count": 32,
   "id": "6c93e4c4",
   "metadata": {
    "scrolled": true
   },
   "outputs": [
    {
     "data": {
      "text/plain": [
       "['floor',\n",
       " 'max_floor',\n",
       " 'material',\n",
       " 'build_year',\n",
       " 'num_room',\n",
       " 'indust_part',\n",
       " 'preschool_quota',\n",
       " 'preschool_education_centers_raion',\n",
       " 'school_education_centers_top_20_raion',\n",
       " 'hospital_beds_raion',\n",
       " 'healthcare_centers_raion',\n",
       " 'build_count_block',\n",
       " 'build_count_monolith',\n",
       " 'build_count_panel',\n",
       " 'build_count_1971-1995',\n",
       " 'green_zone_km',\n",
       " 'ttk_km',\n",
       " 'big_road1_km',\n",
       " 'nuclear_reactor_km',\n",
       " 'big_market_km',\n",
       " 'office_km',\n",
       " 'big_church_count_500',\n",
       " 'sport_count_500',\n",
       " 'prom_part_1000',\n",
       " 'trc_count_1000',\n",
       " 'market_count_1000',\n",
       " 'mosque_count_1500',\n",
       " 'prom_part_2000',\n",
       " 'cafe_sum_2000_min_price_avg',\n",
       " 'mosque_count_3000',\n",
       " 'sport_count_3000',\n",
       " 'office_count_5000',\n",
       " 'mosque_count_5000',\n",
       " 'usdrub',\n",
       " 'salary',\n",
       " 'product_type_OwnerOccupier',\n",
       " 'sub_area_Birjulevo Vostochnoe',\n",
       " 'sub_area_Hamovniki',\n",
       " 'sub_area_Krjukovo',\n",
       " 'sub_area_Krylatskoe',\n",
       " 'sub_area_Lomonosovskoe',\n",
       " 'sub_area_Nekrasovka',\n",
       " 'sub_area_Poselenie Filimonkovskoe',\n",
       " 'sub_area_Poselenie Novofedorovskoe',\n",
       " 'sub_area_Poselenie Shherbinka',\n",
       " 'sub_area_Poselenie Sosenskoe',\n",
       " 'sub_area_Poselenie Vnukovskoe',\n",
       " 'sub_area_Solncevo',\n",
       " 'sub_area_Tverskoe',\n",
       " 'sub_area_Zapadnoe Degunino',\n",
       " 'culture_objects_top_25_yes',\n",
       " 'radiation_raion_yes',\n",
       " 'big_market_raion_yes',\n",
       " 'detention_facility_raion_yes',\n",
       " 'big_road1_1line_yes',\n",
       " 'railroad_1line_yes',\n",
       " 'ecology_good',\n",
       " 'ecology_no data',\n",
       " 'ecology_satisfactory',\n",
       " 'month_2',\n",
       " 'month_9',\n",
       " 'month_12']"
      ]
     },
     "execution_count": 32,
     "metadata": {},
     "output_type": "execute_result"
    }
   ],
   "source": [
    "res"
   ]
  },
  {
   "cell_type": "markdown",
   "id": "89b06c7a",
   "metadata": {},
   "source": [
    "Какие мы можем сделать выводы: \n",
    "\n",
    "во-первых, глобальной разницы между различными вариантами не наблюдается;\n",
    "\n",
    "во-вторых, наилучший результат на тесте показала Ridge модель с one hot encoding всех признаков - 0,281;\n",
    "\n",
    "в-третьих, для наших задач нам удобнее будет использовать сочетание OHE и TE категориальных признаков, в этом случае модель Lasso показала результат 0,297, что на 5% хуже. Но свой выбор на текущий момент мы остановим именно на этой модели.\n",
    "\n",
    "Да, мы несколько потеряем в качестве, но решаем сразу две проблемы: нам будет удобнее делать наш сервис с TE признака sub_area, а также модель оставила всего 3 признака, что решает нашу задачу с минимизацией признаков."
   ]
  },
  {
   "cell_type": "code",
   "execution_count": null,
   "id": "9539072a",
   "metadata": {},
   "outputs": [],
   "source": []
  }
 ],
 "metadata": {
  "kernelspec": {
   "display_name": "Python 3 (ipykernel)",
   "language": "python",
   "name": "python3"
  },
  "language_info": {
   "codemirror_mode": {
    "name": "ipython",
    "version": 3
   },
   "file_extension": ".py",
   "mimetype": "text/x-python",
   "name": "python",
   "nbconvert_exporter": "python",
   "pygments_lexer": "ipython3",
   "version": "3.11.5"
  }
 },
 "nbformat": 4,
 "nbformat_minor": 5
}
