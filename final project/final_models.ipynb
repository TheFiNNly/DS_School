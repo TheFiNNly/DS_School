{
 "cells": [
  {
   "cell_type": "code",
   "execution_count": 1,
   "id": "87562a7b",
   "metadata": {},
   "outputs": [],
   "source": [
    "import pandas as pd\n",
    "import numpy as np\n",
    "import matplotlib as mlp\n",
    "import seaborn as sns\n",
    "import plotly as plt"
   ]
  },
  {
   "cell_type": "code",
   "execution_count": 2,
   "id": "fd1635e3",
   "metadata": {},
   "outputs": [],
   "source": [
    "from sklearn.model_selection import train_test_split\n",
    "from sklearn.model_selection import cross_validate\n",
    "from sklearn.pipeline import Pipeline\n",
    "from sklearn.preprocessing import StandardScaler\n",
    "from sklearn.preprocessing import MinMaxScaler\n",
    "from sklearn.linear_model import Lasso, Ridge\n",
    "from sklearn.model_selection import GridSearchCV\n",
    "from sklearn.metrics import mean_squared_error"
   ]
  },
  {
   "cell_type": "code",
   "execution_count": 3,
   "id": "ee4c9064",
   "metadata": {},
   "outputs": [],
   "source": [
    "import warnings\n",
    "warnings.filterwarnings('ignore')"
   ]
  },
  {
   "cell_type": "code",
   "execution_count": 4,
   "id": "08f4e03c",
   "metadata": {},
   "outputs": [],
   "source": [
    "data = pd.read_csv(\"final_data.csv\")"
   ]
  },
  {
   "cell_type": "code",
   "execution_count": 5,
   "id": "fb857313",
   "metadata": {},
   "outputs": [
    {
     "data": {
      "text/html": [
       "<div>\n",
       "<style scoped>\n",
       "    .dataframe tbody tr th:only-of-type {\n",
       "        vertical-align: middle;\n",
       "    }\n",
       "\n",
       "    .dataframe tbody tr th {\n",
       "        vertical-align: top;\n",
       "    }\n",
       "\n",
       "    .dataframe thead th {\n",
       "        text-align: right;\n",
       "    }\n",
       "</style>\n",
       "<table border=\"1\" class=\"dataframe\">\n",
       "  <thead>\n",
       "    <tr style=\"text-align: right;\">\n",
       "      <th></th>\n",
       "      <th>full_sq</th>\n",
       "      <th>life_sq</th>\n",
       "      <th>floor</th>\n",
       "      <th>max_floor</th>\n",
       "      <th>build_year</th>\n",
       "      <th>num_room</th>\n",
       "      <th>kitch_sq</th>\n",
       "      <th>state</th>\n",
       "      <th>sub_area</th>\n",
       "      <th>metro_min_avto</th>\n",
       "      <th>mkad_km</th>\n",
       "      <th>usdrub</th>\n",
       "      <th>salary</th>\n",
       "      <th>mortgage_rate</th>\n",
       "      <th>unemployment</th>\n",
       "      <th>log_price_doc</th>\n",
       "      <th>product_type_OwnerOccupier</th>\n",
       "    </tr>\n",
       "  </thead>\n",
       "  <tbody>\n",
       "    <tr>\n",
       "      <th>0</th>\n",
       "      <td>43</td>\n",
       "      <td>27.0</td>\n",
       "      <td>4.0</td>\n",
       "      <td>12.558974</td>\n",
       "      <td>1983.0</td>\n",
       "      <td>1.909804</td>\n",
       "      <td>6.399301</td>\n",
       "      <td>2.107025</td>\n",
       "      <td>15.594247</td>\n",
       "      <td>2.590241</td>\n",
       "      <td>1.422391</td>\n",
       "      <td>29.0048</td>\n",
       "      <td>44898.7</td>\n",
       "      <td>11.84</td>\n",
       "      <td>0.014</td>\n",
       "      <td>15.581952</td>\n",
       "      <td>0.0</td>\n",
       "    </tr>\n",
       "    <tr>\n",
       "      <th>1</th>\n",
       "      <td>34</td>\n",
       "      <td>19.0</td>\n",
       "      <td>3.0</td>\n",
       "      <td>12.558974</td>\n",
       "      <td>1958.0</td>\n",
       "      <td>1.909804</td>\n",
       "      <td>6.399301</td>\n",
       "      <td>2.107025</td>\n",
       "      <td>15.864842</td>\n",
       "      <td>0.936700</td>\n",
       "      <td>9.503405</td>\n",
       "      <td>28.9525</td>\n",
       "      <td>44898.7</td>\n",
       "      <td>11.84</td>\n",
       "      <td>0.014</td>\n",
       "      <td>15.607270</td>\n",
       "      <td>0.0</td>\n",
       "    </tr>\n",
       "    <tr>\n",
       "      <th>2</th>\n",
       "      <td>43</td>\n",
       "      <td>29.0</td>\n",
       "      <td>2.0</td>\n",
       "      <td>12.558974</td>\n",
       "      <td>1958.0</td>\n",
       "      <td>1.909804</td>\n",
       "      <td>6.399301</td>\n",
       "      <td>2.107025</td>\n",
       "      <td>15.613141</td>\n",
       "      <td>2.120999</td>\n",
       "      <td>5.604800</td>\n",
       "      <td>28.8082</td>\n",
       "      <td>44898.7</td>\n",
       "      <td>11.84</td>\n",
       "      <td>0.014</td>\n",
       "      <td>15.555977</td>\n",
       "      <td>0.0</td>\n",
       "    </tr>\n",
       "    <tr>\n",
       "      <th>3</th>\n",
       "      <td>89</td>\n",
       "      <td>50.0</td>\n",
       "      <td>9.0</td>\n",
       "      <td>12.558974</td>\n",
       "      <td>2000.0</td>\n",
       "      <td>1.909804</td>\n",
       "      <td>6.399301</td>\n",
       "      <td>2.107025</td>\n",
       "      <td>15.914449</td>\n",
       "      <td>1.489049</td>\n",
       "      <td>2.677824</td>\n",
       "      <td>28.9655</td>\n",
       "      <td>44898.7</td>\n",
       "      <td>11.92</td>\n",
       "      <td>0.014</td>\n",
       "      <td>16.388123</td>\n",
       "      <td>0.0</td>\n",
       "    </tr>\n",
       "    <tr>\n",
       "      <th>4</th>\n",
       "      <td>77</td>\n",
       "      <td>77.0</td>\n",
       "      <td>4.0</td>\n",
       "      <td>12.558974</td>\n",
       "      <td>1915.0</td>\n",
       "      <td>1.909804</td>\n",
       "      <td>6.399301</td>\n",
       "      <td>2.107025</td>\n",
       "      <td>16.091227</td>\n",
       "      <td>1.257186</td>\n",
       "      <td>11.616653</td>\n",
       "      <td>29.4625</td>\n",
       "      <td>44898.7</td>\n",
       "      <td>11.92</td>\n",
       "      <td>0.014</td>\n",
       "      <td>16.608603</td>\n",
       "      <td>0.0</td>\n",
       "    </tr>\n",
       "  </tbody>\n",
       "</table>\n",
       "</div>"
      ],
      "text/plain": [
       "   full_sq  life_sq  floor  max_floor  build_year  num_room  kitch_sq  \\\n",
       "0       43     27.0    4.0  12.558974      1983.0  1.909804  6.399301   \n",
       "1       34     19.0    3.0  12.558974      1958.0  1.909804  6.399301   \n",
       "2       43     29.0    2.0  12.558974      1958.0  1.909804  6.399301   \n",
       "3       89     50.0    9.0  12.558974      2000.0  1.909804  6.399301   \n",
       "4       77     77.0    4.0  12.558974      1915.0  1.909804  6.399301   \n",
       "\n",
       "      state   sub_area  metro_min_avto    mkad_km   usdrub   salary  \\\n",
       "0  2.107025  15.594247        2.590241   1.422391  29.0048  44898.7   \n",
       "1  2.107025  15.864842        0.936700   9.503405  28.9525  44898.7   \n",
       "2  2.107025  15.613141        2.120999   5.604800  28.8082  44898.7   \n",
       "3  2.107025  15.914449        1.489049   2.677824  28.9655  44898.7   \n",
       "4  2.107025  16.091227        1.257186  11.616653  29.4625  44898.7   \n",
       "\n",
       "   mortgage_rate  unemployment  log_price_doc  product_type_OwnerOccupier  \n",
       "0          11.84         0.014      15.581952                         0.0  \n",
       "1          11.84         0.014      15.607270                         0.0  \n",
       "2          11.84         0.014      15.555977                         0.0  \n",
       "3          11.92         0.014      16.388123                         0.0  \n",
       "4          11.92         0.014      16.608603                         0.0  "
      ]
     },
     "execution_count": 5,
     "metadata": {},
     "output_type": "execute_result"
    }
   ],
   "source": [
    "data.head()"
   ]
  },
  {
   "cell_type": "code",
   "execution_count": 7,
   "id": "72333e73",
   "metadata": {},
   "outputs": [],
   "source": [
    "X = data.drop('log_price_doc', axis=1)\n",
    "Y = data['log_price_doc']"
   ]
  },
  {
   "cell_type": "code",
   "execution_count": 9,
   "id": "faa4b2a6",
   "metadata": {},
   "outputs": [],
   "source": [
    "standart_scaler = StandardScaler()\n",
    "standart_scaler.fit(X)\n",
    "X_scaler = standart_scaler.transform(X)"
   ]
  },
  {
   "cell_type": "code",
   "execution_count": 10,
   "id": "66875893",
   "metadata": {},
   "outputs": [
    {
     "data": {
      "text/html": [
       "<style>#sk-container-id-1 {color: black;background-color: white;}#sk-container-id-1 pre{padding: 0;}#sk-container-id-1 div.sk-toggleable {background-color: white;}#sk-container-id-1 label.sk-toggleable__label {cursor: pointer;display: block;width: 100%;margin-bottom: 0;padding: 0.3em;box-sizing: border-box;text-align: center;}#sk-container-id-1 label.sk-toggleable__label-arrow:before {content: \"▸\";float: left;margin-right: 0.25em;color: #696969;}#sk-container-id-1 label.sk-toggleable__label-arrow:hover:before {color: black;}#sk-container-id-1 div.sk-estimator:hover label.sk-toggleable__label-arrow:before {color: black;}#sk-container-id-1 div.sk-toggleable__content {max-height: 0;max-width: 0;overflow: hidden;text-align: left;background-color: #f0f8ff;}#sk-container-id-1 div.sk-toggleable__content pre {margin: 0.2em;color: black;border-radius: 0.25em;background-color: #f0f8ff;}#sk-container-id-1 input.sk-toggleable__control:checked~div.sk-toggleable__content {max-height: 200px;max-width: 100%;overflow: auto;}#sk-container-id-1 input.sk-toggleable__control:checked~label.sk-toggleable__label-arrow:before {content: \"▾\";}#sk-container-id-1 div.sk-estimator input.sk-toggleable__control:checked~label.sk-toggleable__label {background-color: #d4ebff;}#sk-container-id-1 div.sk-label input.sk-toggleable__control:checked~label.sk-toggleable__label {background-color: #d4ebff;}#sk-container-id-1 input.sk-hidden--visually {border: 0;clip: rect(1px 1px 1px 1px);clip: rect(1px, 1px, 1px, 1px);height: 1px;margin: -1px;overflow: hidden;padding: 0;position: absolute;width: 1px;}#sk-container-id-1 div.sk-estimator {font-family: monospace;background-color: #f0f8ff;border: 1px dotted black;border-radius: 0.25em;box-sizing: border-box;margin-bottom: 0.5em;}#sk-container-id-1 div.sk-estimator:hover {background-color: #d4ebff;}#sk-container-id-1 div.sk-parallel-item::after {content: \"\";width: 100%;border-bottom: 1px solid gray;flex-grow: 1;}#sk-container-id-1 div.sk-label:hover label.sk-toggleable__label {background-color: #d4ebff;}#sk-container-id-1 div.sk-serial::before {content: \"\";position: absolute;border-left: 1px solid gray;box-sizing: border-box;top: 0;bottom: 0;left: 50%;z-index: 0;}#sk-container-id-1 div.sk-serial {display: flex;flex-direction: column;align-items: center;background-color: white;padding-right: 0.2em;padding-left: 0.2em;position: relative;}#sk-container-id-1 div.sk-item {position: relative;z-index: 1;}#sk-container-id-1 div.sk-parallel {display: flex;align-items: stretch;justify-content: center;background-color: white;position: relative;}#sk-container-id-1 div.sk-item::before, #sk-container-id-1 div.sk-parallel-item::before {content: \"\";position: absolute;border-left: 1px solid gray;box-sizing: border-box;top: 0;bottom: 0;left: 50%;z-index: -1;}#sk-container-id-1 div.sk-parallel-item {display: flex;flex-direction: column;z-index: 1;position: relative;background-color: white;}#sk-container-id-1 div.sk-parallel-item:first-child::after {align-self: flex-end;width: 50%;}#sk-container-id-1 div.sk-parallel-item:last-child::after {align-self: flex-start;width: 50%;}#sk-container-id-1 div.sk-parallel-item:only-child::after {width: 0;}#sk-container-id-1 div.sk-dashed-wrapped {border: 1px dashed gray;margin: 0 0.4em 0.5em 0.4em;box-sizing: border-box;padding-bottom: 0.4em;background-color: white;}#sk-container-id-1 div.sk-label label {font-family: monospace;font-weight: bold;display: inline-block;line-height: 1.2em;}#sk-container-id-1 div.sk-label-container {text-align: center;}#sk-container-id-1 div.sk-container {/* jupyter's `normalize.less` sets `[hidden] { display: none; }` but bootstrap.min.css set `[hidden] { display: none !important; }` so we also need the `!important` here to be able to override the default hidden behavior on the sphinx rendered scikit-learn.org. See: https://github.com/scikit-learn/scikit-learn/issues/21755 */display: inline-block !important;position: relative;}#sk-container-id-1 div.sk-text-repr-fallback {display: none;}</style><div id=\"sk-container-id-1\" class=\"sk-top-container\"><div class=\"sk-text-repr-fallback\"><pre>Ridge(alpha=0.001)</pre><b>In a Jupyter environment, please rerun this cell to show the HTML representation or trust the notebook. <br />On GitHub, the HTML representation is unable to render, please try loading this page with nbviewer.org.</b></div><div class=\"sk-container\" hidden><div class=\"sk-item\"><div class=\"sk-estimator sk-toggleable\"><input class=\"sk-toggleable__control sk-hidden--visually\" id=\"sk-estimator-id-1\" type=\"checkbox\" checked><label for=\"sk-estimator-id-1\" class=\"sk-toggleable__label sk-toggleable__label-arrow\">Ridge</label><div class=\"sk-toggleable__content\"><pre>Ridge(alpha=0.001)</pre></div></div></div></div></div>"
      ],
      "text/plain": [
       "Ridge(alpha=0.001)"
      ]
     },
     "execution_count": 10,
     "metadata": {},
     "output_type": "execute_result"
    }
   ],
   "source": [
    "model = Ridge(alpha=0.001)\n",
    "model.fit(X_scaler, Y)"
   ]
  },
  {
   "cell_type": "code",
   "execution_count": 11,
   "id": "8f815688",
   "metadata": {},
   "outputs": [],
   "source": [
    "cv_result = cross_validate(model, X_scaler, Y, \n",
    "                            scoring='neg_mean_squared_error',\n",
    "                            cv=5, return_train_score=True)"
   ]
  },
  {
   "cell_type": "code",
   "execution_count": 12,
   "id": "df8baaee",
   "metadata": {},
   "outputs": [
    {
     "name": "stdout",
     "output_type": "stream",
     "text": [
      "Среднее MSLE на тренировочных фолдах: 0.125\n",
      "Среднее MSLE на тестовых фолдах: 0.127\n"
     ]
    }
   ],
   "source": [
    "print(f\"Среднее MSLE на тренировочных фолдах: {-np.mean(cv_result['train_score']).round(3)}\")\n",
    "print(f\"Среднее MSLE на тестовых фолдах: {-np.mean(cv_result['test_score']).round(3)}\")"
   ]
  },
  {
   "cell_type": "markdown",
   "id": "a9431367",
   "metadata": {},
   "source": [
    "Применим последний шаг. У нас есть один категориальный признак, который существенно влияет на наш таргет - тип недвижимости, а именно, первичка или вторичка (product_type). Сделаем две модели под каждый тип отдельно, что должно помочь нам с точностью прогноза."
   ]
  },
  {
   "cell_type": "code",
   "execution_count": 13,
   "id": "36e77d4d",
   "metadata": {},
   "outputs": [],
   "source": [
    "Owner_Occupier = data[data['product_type_OwnerOccupier'] == 1].copy()\n",
    "Investment = data[data['product_type_OwnerOccupier'] == 0].copy()"
   ]
  },
  {
   "cell_type": "code",
   "execution_count": 14,
   "id": "92e8f872",
   "metadata": {},
   "outputs": [],
   "source": [
    "X_Occupier = Owner_Occupier.drop('log_price_doc', axis=1)\n",
    "X_Investment = Investment.drop('log_price_doc', axis=1)\n",
    "\n",
    "Y_Occupier = Owner_Occupier['log_price_doc']\n",
    "Y_Investment = Investment['log_price_doc']"
   ]
  },
  {
   "cell_type": "markdown",
   "id": "6c58db64",
   "metadata": {},
   "source": [
    "Модель для Owner_Occupier"
   ]
  },
  {
   "cell_type": "code",
   "execution_count": 15,
   "id": "60362839",
   "metadata": {},
   "outputs": [],
   "source": [
    "standart_scaler = StandardScaler()\n",
    "standart_scaler.fit(X_Occupier)\n",
    "X_Occupier_scaler = standart_scaler.transform(X_Occupier)"
   ]
  },
  {
   "cell_type": "code",
   "execution_count": 16,
   "id": "ad9b252e",
   "metadata": {},
   "outputs": [
    {
     "data": {
      "text/html": [
       "<style>#sk-container-id-2 {color: black;background-color: white;}#sk-container-id-2 pre{padding: 0;}#sk-container-id-2 div.sk-toggleable {background-color: white;}#sk-container-id-2 label.sk-toggleable__label {cursor: pointer;display: block;width: 100%;margin-bottom: 0;padding: 0.3em;box-sizing: border-box;text-align: center;}#sk-container-id-2 label.sk-toggleable__label-arrow:before {content: \"▸\";float: left;margin-right: 0.25em;color: #696969;}#sk-container-id-2 label.sk-toggleable__label-arrow:hover:before {color: black;}#sk-container-id-2 div.sk-estimator:hover label.sk-toggleable__label-arrow:before {color: black;}#sk-container-id-2 div.sk-toggleable__content {max-height: 0;max-width: 0;overflow: hidden;text-align: left;background-color: #f0f8ff;}#sk-container-id-2 div.sk-toggleable__content pre {margin: 0.2em;color: black;border-radius: 0.25em;background-color: #f0f8ff;}#sk-container-id-2 input.sk-toggleable__control:checked~div.sk-toggleable__content {max-height: 200px;max-width: 100%;overflow: auto;}#sk-container-id-2 input.sk-toggleable__control:checked~label.sk-toggleable__label-arrow:before {content: \"▾\";}#sk-container-id-2 div.sk-estimator input.sk-toggleable__control:checked~label.sk-toggleable__label {background-color: #d4ebff;}#sk-container-id-2 div.sk-label input.sk-toggleable__control:checked~label.sk-toggleable__label {background-color: #d4ebff;}#sk-container-id-2 input.sk-hidden--visually {border: 0;clip: rect(1px 1px 1px 1px);clip: rect(1px, 1px, 1px, 1px);height: 1px;margin: -1px;overflow: hidden;padding: 0;position: absolute;width: 1px;}#sk-container-id-2 div.sk-estimator {font-family: monospace;background-color: #f0f8ff;border: 1px dotted black;border-radius: 0.25em;box-sizing: border-box;margin-bottom: 0.5em;}#sk-container-id-2 div.sk-estimator:hover {background-color: #d4ebff;}#sk-container-id-2 div.sk-parallel-item::after {content: \"\";width: 100%;border-bottom: 1px solid gray;flex-grow: 1;}#sk-container-id-2 div.sk-label:hover label.sk-toggleable__label {background-color: #d4ebff;}#sk-container-id-2 div.sk-serial::before {content: \"\";position: absolute;border-left: 1px solid gray;box-sizing: border-box;top: 0;bottom: 0;left: 50%;z-index: 0;}#sk-container-id-2 div.sk-serial {display: flex;flex-direction: column;align-items: center;background-color: white;padding-right: 0.2em;padding-left: 0.2em;position: relative;}#sk-container-id-2 div.sk-item {position: relative;z-index: 1;}#sk-container-id-2 div.sk-parallel {display: flex;align-items: stretch;justify-content: center;background-color: white;position: relative;}#sk-container-id-2 div.sk-item::before, #sk-container-id-2 div.sk-parallel-item::before {content: \"\";position: absolute;border-left: 1px solid gray;box-sizing: border-box;top: 0;bottom: 0;left: 50%;z-index: -1;}#sk-container-id-2 div.sk-parallel-item {display: flex;flex-direction: column;z-index: 1;position: relative;background-color: white;}#sk-container-id-2 div.sk-parallel-item:first-child::after {align-self: flex-end;width: 50%;}#sk-container-id-2 div.sk-parallel-item:last-child::after {align-self: flex-start;width: 50%;}#sk-container-id-2 div.sk-parallel-item:only-child::after {width: 0;}#sk-container-id-2 div.sk-dashed-wrapped {border: 1px dashed gray;margin: 0 0.4em 0.5em 0.4em;box-sizing: border-box;padding-bottom: 0.4em;background-color: white;}#sk-container-id-2 div.sk-label label {font-family: monospace;font-weight: bold;display: inline-block;line-height: 1.2em;}#sk-container-id-2 div.sk-label-container {text-align: center;}#sk-container-id-2 div.sk-container {/* jupyter's `normalize.less` sets `[hidden] { display: none; }` but bootstrap.min.css set `[hidden] { display: none !important; }` so we also need the `!important` here to be able to override the default hidden behavior on the sphinx rendered scikit-learn.org. See: https://github.com/scikit-learn/scikit-learn/issues/21755 */display: inline-block !important;position: relative;}#sk-container-id-2 div.sk-text-repr-fallback {display: none;}</style><div id=\"sk-container-id-2\" class=\"sk-top-container\"><div class=\"sk-text-repr-fallback\"><pre>Ridge(alpha=0.001)</pre><b>In a Jupyter environment, please rerun this cell to show the HTML representation or trust the notebook. <br />On GitHub, the HTML representation is unable to render, please try loading this page with nbviewer.org.</b></div><div class=\"sk-container\" hidden><div class=\"sk-item\"><div class=\"sk-estimator sk-toggleable\"><input class=\"sk-toggleable__control sk-hidden--visually\" id=\"sk-estimator-id-2\" type=\"checkbox\" checked><label for=\"sk-estimator-id-2\" class=\"sk-toggleable__label sk-toggleable__label-arrow\">Ridge</label><div class=\"sk-toggleable__content\"><pre>Ridge(alpha=0.001)</pre></div></div></div></div></div>"
      ],
      "text/plain": [
       "Ridge(alpha=0.001)"
      ]
     },
     "execution_count": 16,
     "metadata": {},
     "output_type": "execute_result"
    }
   ],
   "source": [
    "model_OO = Ridge(alpha=0.001)\n",
    "model_OO.fit(X_Occupier_scaler, Y_Occupier)"
   ]
  },
  {
   "cell_type": "code",
   "execution_count": 17,
   "id": "e24824f3",
   "metadata": {},
   "outputs": [],
   "source": [
    "cv_model_OO_result = cross_validate(model_OO, X_Occupier_scaler, Y_Occupier, \n",
    "                                scoring='neg_mean_squared_error',\n",
    "                                cv=5, return_train_score=True)"
   ]
  },
  {
   "cell_type": "code",
   "execution_count": 18,
   "id": "f96f0f8f",
   "metadata": {},
   "outputs": [
    {
     "name": "stdout",
     "output_type": "stream",
     "text": [
      "Среднее MSLE на тренировочных фолдах: 0.035\n",
      "Среднее MSLE на тестовых фолдах: 0.039\n"
     ]
    }
   ],
   "source": [
    "print(f\"Среднее MSLE на тренировочных фолдах: {-np.mean(cv_model_OO_result['train_score']).round(3)}\")\n",
    "print(f\"Среднее MSLE на тестовых фолдах: {-np.mean(cv_model_OO_result['test_score']).round(3)}\")"
   ]
  },
  {
   "cell_type": "markdown",
   "id": "0b315c8c",
   "metadata": {},
   "source": [
    "Модель для Investment"
   ]
  },
  {
   "cell_type": "code",
   "execution_count": 19,
   "id": "2c94d5cb",
   "metadata": {},
   "outputs": [],
   "source": [
    "standart_scaler = StandardScaler()\n",
    "standart_scaler.fit(X_Investment)\n",
    "X_Investment_scaler = standart_scaler.transform(X_Investment)"
   ]
  },
  {
   "cell_type": "code",
   "execution_count": 20,
   "id": "91931f45",
   "metadata": {},
   "outputs": [
    {
     "data": {
      "text/html": [
       "<style>#sk-container-id-3 {color: black;background-color: white;}#sk-container-id-3 pre{padding: 0;}#sk-container-id-3 div.sk-toggleable {background-color: white;}#sk-container-id-3 label.sk-toggleable__label {cursor: pointer;display: block;width: 100%;margin-bottom: 0;padding: 0.3em;box-sizing: border-box;text-align: center;}#sk-container-id-3 label.sk-toggleable__label-arrow:before {content: \"▸\";float: left;margin-right: 0.25em;color: #696969;}#sk-container-id-3 label.sk-toggleable__label-arrow:hover:before {color: black;}#sk-container-id-3 div.sk-estimator:hover label.sk-toggleable__label-arrow:before {color: black;}#sk-container-id-3 div.sk-toggleable__content {max-height: 0;max-width: 0;overflow: hidden;text-align: left;background-color: #f0f8ff;}#sk-container-id-3 div.sk-toggleable__content pre {margin: 0.2em;color: black;border-radius: 0.25em;background-color: #f0f8ff;}#sk-container-id-3 input.sk-toggleable__control:checked~div.sk-toggleable__content {max-height: 200px;max-width: 100%;overflow: auto;}#sk-container-id-3 input.sk-toggleable__control:checked~label.sk-toggleable__label-arrow:before {content: \"▾\";}#sk-container-id-3 div.sk-estimator input.sk-toggleable__control:checked~label.sk-toggleable__label {background-color: #d4ebff;}#sk-container-id-3 div.sk-label input.sk-toggleable__control:checked~label.sk-toggleable__label {background-color: #d4ebff;}#sk-container-id-3 input.sk-hidden--visually {border: 0;clip: rect(1px 1px 1px 1px);clip: rect(1px, 1px, 1px, 1px);height: 1px;margin: -1px;overflow: hidden;padding: 0;position: absolute;width: 1px;}#sk-container-id-3 div.sk-estimator {font-family: monospace;background-color: #f0f8ff;border: 1px dotted black;border-radius: 0.25em;box-sizing: border-box;margin-bottom: 0.5em;}#sk-container-id-3 div.sk-estimator:hover {background-color: #d4ebff;}#sk-container-id-3 div.sk-parallel-item::after {content: \"\";width: 100%;border-bottom: 1px solid gray;flex-grow: 1;}#sk-container-id-3 div.sk-label:hover label.sk-toggleable__label {background-color: #d4ebff;}#sk-container-id-3 div.sk-serial::before {content: \"\";position: absolute;border-left: 1px solid gray;box-sizing: border-box;top: 0;bottom: 0;left: 50%;z-index: 0;}#sk-container-id-3 div.sk-serial {display: flex;flex-direction: column;align-items: center;background-color: white;padding-right: 0.2em;padding-left: 0.2em;position: relative;}#sk-container-id-3 div.sk-item {position: relative;z-index: 1;}#sk-container-id-3 div.sk-parallel {display: flex;align-items: stretch;justify-content: center;background-color: white;position: relative;}#sk-container-id-3 div.sk-item::before, #sk-container-id-3 div.sk-parallel-item::before {content: \"\";position: absolute;border-left: 1px solid gray;box-sizing: border-box;top: 0;bottom: 0;left: 50%;z-index: -1;}#sk-container-id-3 div.sk-parallel-item {display: flex;flex-direction: column;z-index: 1;position: relative;background-color: white;}#sk-container-id-3 div.sk-parallel-item:first-child::after {align-self: flex-end;width: 50%;}#sk-container-id-3 div.sk-parallel-item:last-child::after {align-self: flex-start;width: 50%;}#sk-container-id-3 div.sk-parallel-item:only-child::after {width: 0;}#sk-container-id-3 div.sk-dashed-wrapped {border: 1px dashed gray;margin: 0 0.4em 0.5em 0.4em;box-sizing: border-box;padding-bottom: 0.4em;background-color: white;}#sk-container-id-3 div.sk-label label {font-family: monospace;font-weight: bold;display: inline-block;line-height: 1.2em;}#sk-container-id-3 div.sk-label-container {text-align: center;}#sk-container-id-3 div.sk-container {/* jupyter's `normalize.less` sets `[hidden] { display: none; }` but bootstrap.min.css set `[hidden] { display: none !important; }` so we also need the `!important` here to be able to override the default hidden behavior on the sphinx rendered scikit-learn.org. See: https://github.com/scikit-learn/scikit-learn/issues/21755 */display: inline-block !important;position: relative;}#sk-container-id-3 div.sk-text-repr-fallback {display: none;}</style><div id=\"sk-container-id-3\" class=\"sk-top-container\"><div class=\"sk-text-repr-fallback\"><pre>Ridge(alpha=0.001)</pre><b>In a Jupyter environment, please rerun this cell to show the HTML representation or trust the notebook. <br />On GitHub, the HTML representation is unable to render, please try loading this page with nbviewer.org.</b></div><div class=\"sk-container\" hidden><div class=\"sk-item\"><div class=\"sk-estimator sk-toggleable\"><input class=\"sk-toggleable__control sk-hidden--visually\" id=\"sk-estimator-id-3\" type=\"checkbox\" checked><label for=\"sk-estimator-id-3\" class=\"sk-toggleable__label sk-toggleable__label-arrow\">Ridge</label><div class=\"sk-toggleable__content\"><pre>Ridge(alpha=0.001)</pre></div></div></div></div></div>"
      ],
      "text/plain": [
       "Ridge(alpha=0.001)"
      ]
     },
     "execution_count": 20,
     "metadata": {},
     "output_type": "execute_result"
    }
   ],
   "source": [
    "model_I = Ridge(alpha=0.001)\n",
    "model_I.fit(X_Investment_scaler, Y_Investment)"
   ]
  },
  {
   "cell_type": "code",
   "execution_count": 21,
   "id": "f3daae0c",
   "metadata": {},
   "outputs": [],
   "source": [
    "cv_model_I_result = cross_validate(model_I, X_Investment_scaler, Y_Investment, \n",
    "                                scoring='neg_mean_squared_error',\n",
    "                                cv=5, return_train_score=True)"
   ]
  },
  {
   "cell_type": "code",
   "execution_count": 22,
   "id": "a1308fff",
   "metadata": {},
   "outputs": [
    {
     "name": "stdout",
     "output_type": "stream",
     "text": [
      "Среднее MSLE на тренировочных фолдах: 0.173\n",
      "Среднее MSLE на тестовых фолдах: 0.177\n"
     ]
    }
   ],
   "source": [
    "print(f\"Среднее MSLE на тренировочных фолдах: {-np.mean(cv_model_I_result['train_score']).round(3)}\")\n",
    "print(f\"Среднее MSLE на тестовых фолдах: {-np.mean(cv_model_I_result['test_score']).round(3)}\")"
   ]
  }
 ],
 "metadata": {
  "kernelspec": {
   "display_name": "Python 3 (ipykernel)",
   "language": "python",
   "name": "python3"
  },
  "language_info": {
   "codemirror_mode": {
    "name": "ipython",
    "version": 3
   },
   "file_extension": ".py",
   "mimetype": "text/x-python",
   "name": "python",
   "nbconvert_exporter": "python",
   "pygments_lexer": "ipython3",
   "version": "3.11.5"
  }
 },
 "nbformat": 4,
 "nbformat_minor": 5
}
