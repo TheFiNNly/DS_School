{
 "cells": [
  {
   "cell_type": "code",
   "execution_count": 1,
   "id": "9841eeee",
   "metadata": {
    "scrolled": false
   },
   "outputs": [],
   "source": [
    "import requests\n",
    "import pandas as pdb"
   ]
  },
  {
   "cell_type": "markdown",
   "id": "1e832540",
   "metadata": {},
   "source": [
    "Функция записывает в json данные из url (принимая на вход стартовую позицию и лимит выдачи), \n",
    "а затем сохраняет id объектов в list. Если данные получены не все, функция запускается с новыми значениями старовой позиции."
   ]
  },
  {
   "cell_type": "code",
   "execution_count": 3,
   "id": "ac2ff9c9",
   "metadata": {},
   "outputs": [],
   "source": [
    "def get_data(offset_, limit_):\n",
    "    url = (f'https://xn--80az8a.xn--d1aqf.xn--p1ai/%D1%81%D0%B5%D1%80%D0%B2%D0%B8%D1%81%D1%8B/api/kn/object?offset='\n",
    "           f'{offset_}&limit={limit_}&sortField=devId.devShortCleanNm&sortType=asc&objStatus=0')\n",
    "    res = requests.get(url)\n",
    "    objects_data = res.json()\n",
    "    objects_list = objects_data.get('data').get('list')\n",
    "    objids = [x.get('objId') for x in objects_list]\n",
    "    objects_id.extend(objids)\n",
    "    if len(objects_list) > 0:\n",
    "        offset_ += limit_\n",
    "        get_data(offset_, limit_)"
   ]
  },
  {
   "cell_type": "markdown",
   "id": "f82a69d7",
   "metadata": {},
   "source": [
    "Функция перебирает каждый объект (используя список с id) и записывает полученные данные в list"
   ]
  },
  {
   "cell_type": "code",
   "execution_count": 4,
   "id": "a7617113",
   "metadata": {},
   "outputs": [],
   "source": [
    "def create_df(obj_id):\n",
    "    for i in obj_id:\n",
    "        url_obj = f'https://xn--80az8a.xn--d1aqf.xn--p1ai/%D1%81%D0%B5%D1%80%D0%B2%D0%B8%D1%81%D1%8B/api/object/{i}'\n",
    "        obj = requests.get(url_obj).json().get('data')\n",
    "        result.append(obj)\n",
    "        print(len(result))"
   ]
  },
  {
   "cell_type": "code",
   "execution_count": 5,
   "id": "7e4589e4",
   "metadata": {},
   "outputs": [],
   "source": [
    "objects_id = []"
   ]
  },
  {
   "cell_type": "code",
   "execution_count": 6,
   "id": "97b22cc3",
   "metadata": {},
   "outputs": [],
   "source": [
    "result = []"
   ]
  },
  {
   "cell_type": "code",
   "execution_count": null,
   "id": "f9e3f928",
   "metadata": {},
   "outputs": [],
   "source": [
    "get_data(1, 1000)"
   ]
  },
  {
   "cell_type": "code",
   "execution_count": null,
   "id": "259ca2a1",
   "metadata": {},
   "outputs": [],
   "source": [
    "create_df(objects_id) "
   ]
  },
  {
   "cell_type": "code",
   "execution_count": null,
   "id": "3882e1ed",
   "metadata": {},
   "outputs": [],
   "source": [
    "df = pd.json_normalize(result) #создаем датафрейм"
   ]
  },
  {
   "cell_type": "code",
   "execution_count": null,
   "id": "28e1fe05",
   "metadata": {},
   "outputs": [],
   "source": [
    "df.to_csv('D:\\DS\\DS school\\objects.csv', index=False) #сохраняем в csv"
   ]
  },
  {
   "cell_type": "code",
   "execution_count": null,
   "id": "1960294b",
   "metadata": {},
   "outputs": [],
   "source": [
    "df.to_excel('D:\\DS\\DS school\\dbjects.xlsx', index=False) #сохраняем в эксель"
   ]
  }
 ],
 "metadata": {
  "kernelspec": {
   "display_name": "Python 3 (ipykernel)",
   "language": "python",
   "name": "python3"
  },
  "language_info": {
   "codemirror_mode": {
    "name": "ipython",
    "version": 3
   },
   "file_extension": ".py",
   "mimetype": "text/x-python",
   "name": "python",
   "nbconvert_exporter": "python",
   "pygments_lexer": "ipython3",
   "version": "3.11.5"
  }
 },
 "nbformat": 4,
 "nbformat_minor": 5
}
