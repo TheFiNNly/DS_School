{
 "cells": [
  {
   "cell_type": "code",
   "execution_count": null,
   "id": "6fb6c975",
   "metadata": {},
   "outputs": [],
   "source": [
    "import requests\n",
    "import os"
   ]
  },
  {
   "cell_type": "markdown",
   "id": "a7021414",
   "metadata": {},
   "source": [
    "Функция записывает в json данные из url (принимая на вход стартовую позицию и лимит выдачи), \n",
    "сохраняет id объектов в list. Затем в цикле запускается функция save_photo, которой передаются url объекта и его id.\n",
    "Если данные получены не все, функция запускается с новыми значениями старовой позиции."
   ]
  },
  {
   "cell_type": "code",
   "execution_count": null,
   "id": "fae63c3a",
   "metadata": {},
   "outputs": [],
   "source": [
    "def get_data(offset_, limit_):\n",
    "    url = (f'https://xn--80az8a.xn--d1aqf.xn--p1ai/%D1%81%D0%B5%D1%80%D0%B2%D0%B8%D1%81%D1%8B/api/kn/object?offset='\n",
    "           f'{offset_}&limit={limit_}&sortField=devId.devShortCleanNm&sortType=asc&objStatus=0')\n",
    "    res = requests.get(url)\n",
    "    objects_data = res.json()\n",
    "    objects_list = objects_data.get('data').get('list')\n",
    "    objids = [x.get('objId') for x in objects_list]\n",
    "    for x in objids:\n",
    "        url_obj = f'https://xn--80az8a.xn--d1aqf.xn--p1ai/%D1%81%D0%B5%D1%80%D0%B2%D0%B8%D1%81%D1%8B/api/object/{x}'\n",
    "        save_photo(url_obj, x)\n",
    "    if len(objects_list) > 0:\n",
    "        offset_ += limit_\n",
    "        get_data(offset_, limit_)"
   ]
  },
  {
   "cell_type": "code",
   "execution_count": null,
   "id": "ebc53302",
   "metadata": {},
   "outputs": [],
   "source": [
    "Функция принимает на вход url объекта и его id, сохраняет данные по каждому объекту в json, создает соответстующую папку \n",
    "и сохраняет в папку фото объекта."
   ]
  },
  {
   "cell_type": "code",
   "execution_count": null,
   "id": "fd01cba5",
   "metadata": {},
   "outputs": [],
   "source": [
    "def save_photo(url, obj_id):\n",
    "    url = requests.get(url)\n",
    "    object_data = url.json()\n",
    "    object = object_data.get('data')\n",
    "    os.mkdir(f'D:\\DS\\DS school\\photo\\{obj_id}')\n",
    "    for x in object['photoRenderDTO']:\n",
    "        photo = requests.get(x['objRenderPhotoUrl'])\n",
    "        name = x['objRenderPhotoUrl'][-6:]\n",
    "        save = open(f'D:\\DS\\DS school\\photo\\{obj_id}\\{name}.jpg', \"wb\")\n",
    "        save.write(photo.content)\n",
    "        save.close()"
   ]
  },
  {
   "cell_type": "code",
   "execution_count": null,
   "id": "fc6d88d7",
   "metadata": {},
   "outputs": [],
   "source": [
    "get_data(1, 1000)"
   ]
  }
 ],
 "metadata": {
  "kernelspec": {
   "display_name": "Python 3 (ipykernel)",
   "language": "python",
   "name": "python3"
  },
  "language_info": {
   "codemirror_mode": {
    "name": "ipython",
    "version": 3
   },
   "file_extension": ".py",
   "mimetype": "text/x-python",
   "name": "python",
   "nbconvert_exporter": "python",
   "pygments_lexer": "ipython3",
   "version": "3.11.5"
  }
 },
 "nbformat": 4,
 "nbformat_minor": 5
}
