{
 "cells": [
  {
   "cell_type": "code",
   "execution_count": 1,
   "id": "059ccb9e",
   "metadata": {},
   "outputs": [],
   "source": [
    "import pandas as pd\n",
    "import numpy as np"
   ]
  },
  {
   "cell_type": "code",
   "execution_count": 2,
   "id": "7ee5d87a",
   "metadata": {},
   "outputs": [],
   "source": [
    "RANDOM_STATE = 42\n",
    "results = pd.DataFrame(columns = ['model', 'task', 'accuracy'])"
   ]
  },
  {
   "cell_type": "code",
   "execution_count": 3,
   "id": "7076cc9d",
   "metadata": {},
   "outputs": [
    {
     "data": {
      "text/html": [
       "<div>\n",
       "<style scoped>\n",
       "    .dataframe tbody tr th:only-of-type {\n",
       "        vertical-align: middle;\n",
       "    }\n",
       "\n",
       "    .dataframe tbody tr th {\n",
       "        vertical-align: top;\n",
       "    }\n",
       "\n",
       "    .dataframe thead th {\n",
       "        text-align: right;\n",
       "    }\n",
       "</style>\n",
       "<table border=\"1\" class=\"dataframe\">\n",
       "  <thead>\n",
       "    <tr style=\"text-align: right;\">\n",
       "      <th></th>\n",
       "      <th>fixed acidity</th>\n",
       "      <th>volatile acidity</th>\n",
       "      <th>citric acid</th>\n",
       "      <th>residual sugar</th>\n",
       "      <th>chlorides</th>\n",
       "      <th>free sulfur dioxide</th>\n",
       "      <th>total sulfur dioxide</th>\n",
       "      <th>density</th>\n",
       "      <th>pH</th>\n",
       "      <th>sulphates</th>\n",
       "      <th>alcohol</th>\n",
       "      <th>quality</th>\n",
       "    </tr>\n",
       "  </thead>\n",
       "  <tbody>\n",
       "    <tr>\n",
       "      <th>0</th>\n",
       "      <td>7.4</td>\n",
       "      <td>0.70</td>\n",
       "      <td>0.00</td>\n",
       "      <td>1.9</td>\n",
       "      <td>0.076</td>\n",
       "      <td>11.0</td>\n",
       "      <td>34.0</td>\n",
       "      <td>0.9978</td>\n",
       "      <td>3.51</td>\n",
       "      <td>0.56</td>\n",
       "      <td>9.4</td>\n",
       "      <td>5</td>\n",
       "    </tr>\n",
       "    <tr>\n",
       "      <th>1</th>\n",
       "      <td>7.8</td>\n",
       "      <td>0.88</td>\n",
       "      <td>0.00</td>\n",
       "      <td>2.6</td>\n",
       "      <td>0.098</td>\n",
       "      <td>25.0</td>\n",
       "      <td>67.0</td>\n",
       "      <td>0.9968</td>\n",
       "      <td>3.20</td>\n",
       "      <td>0.68</td>\n",
       "      <td>9.8</td>\n",
       "      <td>5</td>\n",
       "    </tr>\n",
       "    <tr>\n",
       "      <th>2</th>\n",
       "      <td>7.8</td>\n",
       "      <td>0.76</td>\n",
       "      <td>0.04</td>\n",
       "      <td>2.3</td>\n",
       "      <td>0.092</td>\n",
       "      <td>15.0</td>\n",
       "      <td>54.0</td>\n",
       "      <td>0.9970</td>\n",
       "      <td>3.26</td>\n",
       "      <td>0.65</td>\n",
       "      <td>9.8</td>\n",
       "      <td>5</td>\n",
       "    </tr>\n",
       "    <tr>\n",
       "      <th>3</th>\n",
       "      <td>11.2</td>\n",
       "      <td>0.28</td>\n",
       "      <td>0.56</td>\n",
       "      <td>1.9</td>\n",
       "      <td>0.075</td>\n",
       "      <td>17.0</td>\n",
       "      <td>60.0</td>\n",
       "      <td>0.9980</td>\n",
       "      <td>3.16</td>\n",
       "      <td>0.58</td>\n",
       "      <td>9.8</td>\n",
       "      <td>6</td>\n",
       "    </tr>\n",
       "    <tr>\n",
       "      <th>4</th>\n",
       "      <td>7.4</td>\n",
       "      <td>0.70</td>\n",
       "      <td>0.00</td>\n",
       "      <td>1.9</td>\n",
       "      <td>0.076</td>\n",
       "      <td>11.0</td>\n",
       "      <td>34.0</td>\n",
       "      <td>0.9978</td>\n",
       "      <td>3.51</td>\n",
       "      <td>0.56</td>\n",
       "      <td>9.4</td>\n",
       "      <td>5</td>\n",
       "    </tr>\n",
       "  </tbody>\n",
       "</table>\n",
       "</div>"
      ],
      "text/plain": [
       "   fixed acidity  volatile acidity  citric acid  residual sugar  chlorides  \\\n",
       "0            7.4              0.70         0.00             1.9      0.076   \n",
       "1            7.8              0.88         0.00             2.6      0.098   \n",
       "2            7.8              0.76         0.04             2.3      0.092   \n",
       "3           11.2              0.28         0.56             1.9      0.075   \n",
       "4            7.4              0.70         0.00             1.9      0.076   \n",
       "\n",
       "   free sulfur dioxide  total sulfur dioxide  density    pH  sulphates  \\\n",
       "0                 11.0                  34.0   0.9978  3.51       0.56   \n",
       "1                 25.0                  67.0   0.9968  3.20       0.68   \n",
       "2                 15.0                  54.0   0.9970  3.26       0.65   \n",
       "3                 17.0                  60.0   0.9980  3.16       0.58   \n",
       "4                 11.0                  34.0   0.9978  3.51       0.56   \n",
       "\n",
       "   alcohol  quality  \n",
       "0      9.4        5  \n",
       "1      9.8        5  \n",
       "2      9.8        5  \n",
       "3      9.8        6  \n",
       "4      9.4        5  "
      ]
     },
     "execution_count": 3,
     "metadata": {},
     "output_type": "execute_result"
    }
   ],
   "source": [
    "data = pd.read_csv('D:\\\\DS\\\\DS school\\\\winequality-red.csv', sep = ';')\n",
    "data.head()"
   ]
  },
  {
   "cell_type": "markdown",
   "id": "e6e796b0",
   "metadata": {},
   "source": [
    "1.Разделите выборку на обучающую и тестовую в отношении 70%/30%, предварительно выделив целевую переменную (колонка 'quality')."
   ]
  },
  {
   "cell_type": "code",
   "execution_count": 4,
   "id": "c537a2a1",
   "metadata": {},
   "outputs": [],
   "source": [
    "from sklearn.model_selection import train_test_split\n",
    "from sklearn.tree import DecisionTreeClassifier\n",
    "from sklearn.model_selection import cross_val_score\n",
    "from sklearn.ensemble import BaggingClassifier\n",
    "from sklearn.ensemble import RandomForestClassifier"
   ]
  },
  {
   "cell_type": "code",
   "execution_count": 5,
   "id": "eae468c5",
   "metadata": {},
   "outputs": [],
   "source": [
    "X = data.drop('quality',axis=1)\n",
    "y = data['quality']"
   ]
  },
  {
   "cell_type": "code",
   "execution_count": 6,
   "id": "802b83e0",
   "metadata": {},
   "outputs": [
    {
     "data": {
      "text/plain": [
       "((1119, 11), (480, 11), (1119,), (480,))"
      ]
     },
     "execution_count": 6,
     "metadata": {},
     "output_type": "execute_result"
    }
   ],
   "source": [
    "X_train, X_test, y_train, y_test = train_test_split(X, y, test_size=0.3, random_state=42)\n",
    "X_train.shape, X_test.shape, y_train.shape, y_test.shape"
   ]
  },
  {
   "cell_type": "markdown",
   "id": "bc9197e2",
   "metadata": {},
   "source": [
    "2.Оцените качество на тестовой выборке по метрике accuracy для классификаторов:\n",
    "\n",
    "DecisionTreeClassifier\n",
    "\n",
    "BaggingClassifier со 100 деревьями\n",
    "\n",
    "RandomForestClassifier со 100 деревьями\n",
    "\n",
    "Сравните результаты и напишите какой вывод можно сделать."
   ]
  },
  {
   "cell_type": "code",
   "execution_count": 7,
   "id": "4412ae51",
   "metadata": {},
   "outputs": [
    {
     "name": "stderr",
     "output_type": "stream",
     "text": [
      "D:\\DS\\anaconda\\Lib\\site-packages\\sklearn\\model_selection\\_split.py:725: UserWarning: The least populated class in y has only 1 members, which is less than n_splits=5.\n",
      "  warnings.warn(\n",
      "D:\\DS\\anaconda\\Lib\\site-packages\\sklearn\\model_selection\\_split.py:725: UserWarning: The least populated class in y has only 1 members, which is less than n_splits=5.\n",
      "  warnings.warn(\n",
      "D:\\DS\\anaconda\\Lib\\site-packages\\sklearn\\model_selection\\_split.py:725: UserWarning: The least populated class in y has only 1 members, which is less than n_splits=5.\n",
      "  warnings.warn(\n"
     ]
    }
   ],
   "source": [
    "# DecisionTreeClassifier\n",
    "\n",
    "DTC = DecisionTreeClassifier(random_state=42)\n",
    "DTC.fit(X_train, y_train)\n",
    "DTC_pred = DTC.predict(X_test)\n",
    "DTC_acc =cross_val_score(DTC, X_test, y_test, cv=5, scoring='accuracy')\n",
    "\n",
    "# BaggingClassifier\n",
    "\n",
    "BC = BaggingClassifier(n_estimators=100, random_state=42)\n",
    "BC.fit(X_train, y_train)\n",
    "BC_pred = BC.predict(X_test)\n",
    "BC_acc = cross_val_score(BC, X_test, y_test, cv=5, scoring='accuracy')\n",
    "\n",
    "# RandomForestClassifier\n",
    "\n",
    "RFC = RandomForestClassifier(n_estimators=100, random_state=42)\n",
    "RFC.fit(X_train, y_train)\n",
    "RFC_red = RFC.predict(X_test)\n",
    "RFC_acc =cross_val_score(RFC, X_test, y_test, cv=5, scoring='accuracy')"
   ]
  },
  {
   "cell_type": "code",
   "execution_count": 8,
   "id": "7b938a51",
   "metadata": {},
   "outputs": [],
   "source": [
    "acc_DT = DTC_acc.mean()\n",
    "acc_Bagging = BC_acc.mean()\n",
    "acc_RF = RFC_acc.mean()\n",
    "results.loc[0] = ['DecisionTreeClassifier', 'task2', acc_DT]\n",
    "results.loc[1] = ['BaggingClassifier ', 'task2', acc_Bagging]\n",
    "results.loc[2] = ['RandomForestClassifier', 'task2', acc_RF]"
   ]
  },
  {
   "cell_type": "markdown",
   "id": "b82804ba",
   "metadata": {},
   "source": [
    "3.Посчитайте качество на тестовой выборке по метрике accuracy для классификатора RandomForestClassifier, используя значения деревьев:\n",
    "10, 50, 100, 200, далее с шагом 200 до 5000 деревьев. Постройте график зависимости качества от числа деревьев."
   ]
  },
  {
   "cell_type": "code",
   "execution_count": 9,
   "id": "35d2b199",
   "metadata": {},
   "outputs": [
    {
     "name": "stdout",
     "output_type": "stream",
     "text": [
      "[10, 50, 100, 200, 400, 600, 800, 1000, 1200, 1400, 1600, 1800, 2000, 2200, 2400, 2600, 2800, 3000, 3200, 3400, 3600, 3800, 4000, 4200, 4400, 4600, 4800, 5000]\n"
     ]
    }
   ],
   "source": [
    "n_estimators = [10, 50, 100] + list(range(200, 5001, 200))\n",
    "print(n_estimators)"
   ]
  },
  {
   "cell_type": "code",
   "execution_count": 10,
   "id": "61bc9ee3",
   "metadata": {
    "scrolled": true
   },
   "outputs": [
    {
     "name": "stderr",
     "output_type": "stream",
     "text": [
      "D:\\DS\\anaconda\\Lib\\site-packages\\sklearn\\model_selection\\_split.py:725: UserWarning: The least populated class in y has only 1 members, which is less than n_splits=5.\n",
      "  warnings.warn(\n",
      "D:\\DS\\anaconda\\Lib\\site-packages\\sklearn\\model_selection\\_split.py:725: UserWarning: The least populated class in y has only 1 members, which is less than n_splits=5.\n",
      "  warnings.warn(\n",
      "D:\\DS\\anaconda\\Lib\\site-packages\\sklearn\\model_selection\\_split.py:725: UserWarning: The least populated class in y has only 1 members, which is less than n_splits=5.\n",
      "  warnings.warn(\n",
      "D:\\DS\\anaconda\\Lib\\site-packages\\sklearn\\model_selection\\_split.py:725: UserWarning: The least populated class in y has only 1 members, which is less than n_splits=5.\n",
      "  warnings.warn(\n",
      "D:\\DS\\anaconda\\Lib\\site-packages\\sklearn\\model_selection\\_split.py:725: UserWarning: The least populated class in y has only 1 members, which is less than n_splits=5.\n",
      "  warnings.warn(\n",
      "D:\\DS\\anaconda\\Lib\\site-packages\\sklearn\\model_selection\\_split.py:725: UserWarning: The least populated class in y has only 1 members, which is less than n_splits=5.\n",
      "  warnings.warn(\n",
      "D:\\DS\\anaconda\\Lib\\site-packages\\sklearn\\model_selection\\_split.py:725: UserWarning: The least populated class in y has only 1 members, which is less than n_splits=5.\n",
      "  warnings.warn(\n",
      "D:\\DS\\anaconda\\Lib\\site-packages\\sklearn\\model_selection\\_split.py:725: UserWarning: The least populated class in y has only 1 members, which is less than n_splits=5.\n",
      "  warnings.warn(\n",
      "D:\\DS\\anaconda\\Lib\\site-packages\\sklearn\\model_selection\\_split.py:725: UserWarning: The least populated class in y has only 1 members, which is less than n_splits=5.\n",
      "  warnings.warn(\n",
      "D:\\DS\\anaconda\\Lib\\site-packages\\sklearn\\model_selection\\_split.py:725: UserWarning: The least populated class in y has only 1 members, which is less than n_splits=5.\n",
      "  warnings.warn(\n",
      "D:\\DS\\anaconda\\Lib\\site-packages\\sklearn\\model_selection\\_split.py:725: UserWarning: The least populated class in y has only 1 members, which is less than n_splits=5.\n",
      "  warnings.warn(\n",
      "D:\\DS\\anaconda\\Lib\\site-packages\\sklearn\\model_selection\\_split.py:725: UserWarning: The least populated class in y has only 1 members, which is less than n_splits=5.\n",
      "  warnings.warn(\n",
      "D:\\DS\\anaconda\\Lib\\site-packages\\sklearn\\model_selection\\_split.py:725: UserWarning: The least populated class in y has only 1 members, which is less than n_splits=5.\n",
      "  warnings.warn(\n",
      "D:\\DS\\anaconda\\Lib\\site-packages\\sklearn\\model_selection\\_split.py:725: UserWarning: The least populated class in y has only 1 members, which is less than n_splits=5.\n",
      "  warnings.warn(\n",
      "D:\\DS\\anaconda\\Lib\\site-packages\\sklearn\\model_selection\\_split.py:725: UserWarning: The least populated class in y has only 1 members, which is less than n_splits=5.\n",
      "  warnings.warn(\n",
      "D:\\DS\\anaconda\\Lib\\site-packages\\sklearn\\model_selection\\_split.py:725: UserWarning: The least populated class in y has only 1 members, which is less than n_splits=5.\n",
      "  warnings.warn(\n",
      "D:\\DS\\anaconda\\Lib\\site-packages\\sklearn\\model_selection\\_split.py:725: UserWarning: The least populated class in y has only 1 members, which is less than n_splits=5.\n",
      "  warnings.warn(\n",
      "D:\\DS\\anaconda\\Lib\\site-packages\\sklearn\\model_selection\\_split.py:725: UserWarning: The least populated class in y has only 1 members, which is less than n_splits=5.\n",
      "  warnings.warn(\n",
      "D:\\DS\\anaconda\\Lib\\site-packages\\sklearn\\model_selection\\_split.py:725: UserWarning: The least populated class in y has only 1 members, which is less than n_splits=5.\n",
      "  warnings.warn(\n",
      "D:\\DS\\anaconda\\Lib\\site-packages\\sklearn\\model_selection\\_split.py:725: UserWarning: The least populated class in y has only 1 members, which is less than n_splits=5.\n",
      "  warnings.warn(\n",
      "D:\\DS\\anaconda\\Lib\\site-packages\\sklearn\\model_selection\\_split.py:725: UserWarning: The least populated class in y has only 1 members, which is less than n_splits=5.\n",
      "  warnings.warn(\n",
      "D:\\DS\\anaconda\\Lib\\site-packages\\sklearn\\model_selection\\_split.py:725: UserWarning: The least populated class in y has only 1 members, which is less than n_splits=5.\n",
      "  warnings.warn(\n",
      "D:\\DS\\anaconda\\Lib\\site-packages\\sklearn\\model_selection\\_split.py:725: UserWarning: The least populated class in y has only 1 members, which is less than n_splits=5.\n",
      "  warnings.warn(\n",
      "D:\\DS\\anaconda\\Lib\\site-packages\\sklearn\\model_selection\\_split.py:725: UserWarning: The least populated class in y has only 1 members, which is less than n_splits=5.\n",
      "  warnings.warn(\n",
      "D:\\DS\\anaconda\\Lib\\site-packages\\sklearn\\model_selection\\_split.py:725: UserWarning: The least populated class in y has only 1 members, which is less than n_splits=5.\n",
      "  warnings.warn(\n",
      "D:\\DS\\anaconda\\Lib\\site-packages\\sklearn\\model_selection\\_split.py:725: UserWarning: The least populated class in y has only 1 members, which is less than n_splits=5.\n",
      "  warnings.warn(\n",
      "D:\\DS\\anaconda\\Lib\\site-packages\\sklearn\\model_selection\\_split.py:725: UserWarning: The least populated class in y has only 1 members, which is less than n_splits=5.\n",
      "  warnings.warn(\n",
      "D:\\DS\\anaconda\\Lib\\site-packages\\sklearn\\model_selection\\_split.py:725: UserWarning: The least populated class in y has only 1 members, which is less than n_splits=5.\n",
      "  warnings.warn(\n"
     ]
    }
   ],
   "source": [
    "RF_accuracy = []\n",
    "for i in n_estimators:\n",
    "    RF_temp = RandomForestClassifier(n_estimators=i, random_state=42)\n",
    "    RF_temp.fit(X_train, y_train)\n",
    "    RF_temp_acc = cross_val_score(RF_temp, X_test, y_test, cv=5, scoring='accuracy')\n",
    "    RF_accuracy.append(RF_temp_acc.mean())"
   ]
  },
  {
   "cell_type": "code",
   "execution_count": 11,
   "id": "401942c8",
   "metadata": {},
   "outputs": [
    {
     "data": {
      "text/plain": [
       "[0.575,\n",
       " 0.5895833333333333,\n",
       " 0.5979166666666667,\n",
       " 0.6,\n",
       " 0.5916666666666667,\n",
       " 0.5958333333333333,\n",
       " 0.5958333333333334,\n",
       " 0.6083333333333333,\n",
       " 0.6083333333333333,\n",
       " 0.6125,\n",
       " 0.6083333333333333,\n",
       " 0.6041666666666666,\n",
       " 0.6020833333333333,\n",
       " 0.6020833333333333,\n",
       " 0.6020833333333333,\n",
       " 0.6041666666666667,\n",
       " 0.6020833333333334,\n",
       " 0.6041666666666667,\n",
       " 0.6,\n",
       " 0.6041666666666667,\n",
       " 0.6083333333333333,\n",
       " 0.6041666666666667,\n",
       " 0.6041666666666667,\n",
       " 0.6083333333333333,\n",
       " 0.6041666666666667,\n",
       " 0.6083333333333333,\n",
       " 0.6020833333333334,\n",
       " 0.6041666666666667]"
      ]
     },
     "execution_count": 11,
     "metadata": {},
     "output_type": "execute_result"
    }
   ],
   "source": [
    "RF_accuracy"
   ]
  },
  {
   "cell_type": "code",
   "execution_count": 12,
   "id": "ed2af168",
   "metadata": {},
   "outputs": [
    {
     "data": {
      "text/plain": [
       "Text(0, 0.5, 'Accuracy')"
      ]
     },
     "execution_count": 12,
     "metadata": {},
     "output_type": "execute_result"
    },
    {
     "data": {
      "image/png": "[encoded data removed]",
      "text/plain": [
       "<Figure size 640x480 with 1 Axes>"
      ]
     },
     "metadata": {},
     "output_type": "display_data"
    }
   ],
   "source": [
    "import matplotlib.pyplot as plt\n",
    "\n",
    "fig = plt.figure()\n",
    "axes = fig.add_axes([0, 0, 1, 1])\n",
    "axes.plot(n_estimators, RF_accuracy)\n",
    "axes.set_xlabel('Количество деревьев')\n",
    "axes.set_ylabel('Accuracy')"
   ]
  },
  {
   "cell_type": "code",
   "execution_count": 14,
   "id": "9107651b",
   "metadata": {},
   "outputs": [
    {
     "data": {
      "image/png": "[encoded data removed]",
      "text/plain": [
       "<Figure size 640x480 with 1 Axes>"
      ]
     },
     "metadata": {},
     "output_type": "display_data"
    }
   ],
   "source": [
    "fig = plt.figure()\n",
    "axes = fig.add_axes([0, 0, 1, 1])\n",
    "axes.plot(n_estimators, RF_accuracy)\n",
    "axes.set_xlabel('Количество деревьев')\n",
    "axes.set_ylabel('Accuracy')\n",
    "axes.set_xlim(0,1700)\n",
    "plt.show()"
   ]
  },
  {
   "cell_type": "markdown",
   "id": "402a8955",
   "metadata": {},
   "source": [
    "4.Обучите реализации градиентного бустинга с параметрами по умолчанию из библиотек sklearn и xgboost. Сравните значение метрики accuracy по cross_val_score"
   ]
  },
  {
   "cell_type": "code",
   "execution_count": 15,
   "id": "2bb89790",
   "metadata": {},
   "outputs": [],
   "source": [
    "from sklearn.ensemble import GradientBoostingClassifier\n",
    "from xgboost import XGBClassifier"
   ]
  },
  {
   "cell_type": "code",
   "execution_count": 16,
   "id": "89632c62",
   "metadata": {},
   "outputs": [
    {
     "name": "stderr",
     "output_type": "stream",
     "text": [
      "D:\\DS\\anaconda\\Lib\\site-packages\\sklearn\\model_selection\\_split.py:725: UserWarning: The least populated class in y has only 1 members, which is less than n_splits=5.\n",
      "  warnings.warn(\n"
     ]
    }
   ],
   "source": [
    "# GradientBoostingClassifier / sklearn\n",
    "GBC = GradientBoostingClassifier(random_state=42).fit(X_train, y_train)\n",
    "GBC_pred = GBC.predict(X_test)\n",
    "GBC_acc = cross_val_score(GBC, X_test, y_test, cv=5, scoring='accuracy')\n",
    "\n",
    "# xgboost\n",
    "from sklearn.preprocessing import LabelEncoder\n",
    "le = LabelEncoder()\n",
    "y_train_xgb = le.fit_transform(y_train)\n",
    "le.inverse_transform(y_train_xgb)\n",
    "\n",
    "XGB = XGBClassifier(random_state=42).fit(X_train, y_train_xgb)\n",
    "XGB_pred = XGB.predict(X_test)\n",
    "XGB_acc = cross_val_score(XGB, X_train, y_train_xgb, cv=5, scoring='accuracy')"
   ]
  },
  {
   "cell_type": "code",
   "execution_count": 17,
   "id": "658b1626",
   "metadata": {},
   "outputs": [],
   "source": [
    "acc_sklearn = GBC_acc.mean()\n",
    "acc_xgboost = XGB_acc.mean()\n",
    "results.loc[3] = ['GradientBoostingClassifier', 'task4', acc_sklearn]\n",
    "results.loc[4] = ['XGBClassifier', 'task4', acc_xgboost]"
   ]
  },
  {
   "cell_type": "markdown",
   "id": "a91b8971",
   "metadata": {},
   "source": [
    "5.Подберите оптимальные параметры этих алгоритмов с помощью GridSearchCV(cv=3). Параметры для оптимизации:\n",
    "\n",
    "скорость обучения\n",
    "\n",
    "количество деревьев\n",
    "\n",
    "глубина деревьев\n",
    "\n",
    "Сравните значение метрики accuracy. Выведите лучшие параметры алгоритмов."
   ]
  },
  {
   "cell_type": "code",
   "execution_count": 19,
   "id": "af8f1327",
   "metadata": {},
   "outputs": [],
   "source": [
    "parameters = {'learning_rate': [0.001, 0.01, 0.05, 0.1, 0.2], \n",
    "              'n_estimators':[1, 5, 10, 100, 200, 300],\n",
    "              'max_depth': np.arange(1,3,1)\n",
    "              }"
   ]
  },
  {
   "cell_type": "code",
   "execution_count": 20,
   "id": "9a730442",
   "metadata": {},
   "outputs": [
    {
     "data": {
      "text/html": [
       "<style>#sk-container-id-1 {color: black;}#sk-container-id-1 pre{padding: 0;}#sk-container-id-1 div.sk-toggleable {background-color: white;}#sk-container-id-1 label.sk-toggleable__label {cursor: pointer;display: block;width: 100%;margin-bottom: 0;padding: 0.3em;box-sizing: border-box;text-align: center;}#sk-container-id-1 label.sk-toggleable__label-arrow:before {content: \"▸\";float: left;margin-right: 0.25em;color: #696969;}#sk-container-id-1 label.sk-toggleable__label-arrow:hover:before {color: black;}#sk-container-id-1 div.sk-estimator:hover label.sk-toggleable__label-arrow:before {color: black;}#sk-container-id-1 div.sk-toggleable__content {max-height: 0;max-width: 0;overflow: hidden;text-align: left;background-color: #f0f8ff;}#sk-container-id-1 div.sk-toggleable__content pre {margin: 0.2em;color: black;border-radius: 0.25em;background-color: #f0f8ff;}#sk-container-id-1 input.sk-toggleable__control:checked~div.sk-toggleable__content {max-height: 200px;max-width: 100%;overflow: auto;}#sk-container-id-1 input.sk-toggleable__control:checked~label.sk-toggleable__label-arrow:before {content: \"▾\";}#sk-container-id-1 div.sk-estimator input.sk-toggleable__control:checked~label.sk-toggleable__label {background-color: #d4ebff;}#sk-container-id-1 div.sk-label input.sk-toggleable__control:checked~label.sk-toggleable__label {background-color: #d4ebff;}#sk-container-id-1 input.sk-hidden--visually {border: 0;clip: rect(1px 1px 1px 1px);clip: rect(1px, 1px, 1px, 1px);height: 1px;margin: -1px;overflow: hidden;padding: 0;position: absolute;width: 1px;}#sk-container-id-1 div.sk-estimator {font-family: monospace;background-color: #f0f8ff;border: 1px dotted black;border-radius: 0.25em;box-sizing: border-box;margin-bottom: 0.5em;}#sk-container-id-1 div.sk-estimator:hover {background-color: #d4ebff;}#sk-container-id-1 div.sk-parallel-item::after {content: \"\";width: 100%;border-bottom: 1px solid gray;flex-grow: 1;}#sk-container-id-1 div.sk-label:hover label.sk-toggleable__label {background-color: #d4ebff;}#sk-container-id-1 div.sk-serial::before {content: \"\";position: absolute;border-left: 1px solid gray;box-sizing: border-box;top: 0;bottom: 0;left: 50%;z-index: 0;}#sk-container-id-1 div.sk-serial {display: flex;flex-direction: column;align-items: center;background-color: white;padding-right: 0.2em;padding-left: 0.2em;position: relative;}#sk-container-id-1 div.sk-item {position: relative;z-index: 1;}#sk-container-id-1 div.sk-parallel {display: flex;align-items: stretch;justify-content: center;background-color: white;position: relative;}#sk-container-id-1 div.sk-item::before, #sk-container-id-1 div.sk-parallel-item::before {content: \"\";position: absolute;border-left: 1px solid gray;box-sizing: border-box;top: 0;bottom: 0;left: 50%;z-index: -1;}#sk-container-id-1 div.sk-parallel-item {display: flex;flex-direction: column;z-index: 1;position: relative;background-color: white;}#sk-container-id-1 div.sk-parallel-item:first-child::after {align-self: flex-end;width: 50%;}#sk-container-id-1 div.sk-parallel-item:last-child::after {align-self: flex-start;width: 50%;}#sk-container-id-1 div.sk-parallel-item:only-child::after {width: 0;}#sk-container-id-1 div.sk-dashed-wrapped {border: 1px dashed gray;margin: 0 0.4em 0.5em 0.4em;box-sizing: border-box;padding-bottom: 0.4em;background-color: white;}#sk-container-id-1 div.sk-label label {font-family: monospace;font-weight: bold;display: inline-block;line-height: 1.2em;}#sk-container-id-1 div.sk-label-container {text-align: center;}#sk-container-id-1 div.sk-container {/* jupyter's `normalize.less` sets `[hidden] { display: none; }` but bootstrap.min.css set `[hidden] { display: none !important; }` so we also need the `!important` here to be able to override the default hidden behavior on the sphinx rendered scikit-learn.org. See: https://github.com/scikit-learn/scikit-learn/issues/21755 */display: inline-block !important;position: relative;}#sk-container-id-1 div.sk-text-repr-fallback {display: none;}</style><div id=\"sk-container-id-1\" class=\"sk-top-container\"><div class=\"sk-text-repr-fallback\"><pre>GridSearchCV(cv=3, estimator=GradientBoostingClassifier(random_state=42),\n",
       "             param_grid={&#x27;learning_rate&#x27;: [0.001, 0.01, 0.05, 0.1, 0.2],\n",
       "                         &#x27;max_depth&#x27;: array([1, 2]),\n",
       "                         &#x27;n_estimators&#x27;: [1, 5, 10, 100, 200, 300]},\n",
       "             scoring=&#x27;accuracy&#x27;)</pre><b>In a Jupyter environment, please rerun this cell to show the HTML representation or trust the notebook. <br />On GitHub, the HTML representation is unable to render, please try loading this page with nbviewer.org.</b></div><div class=\"sk-container\" hidden><div class=\"sk-item sk-dashed-wrapped\"><div class=\"sk-label-container\"><div class=\"sk-label sk-toggleable\"><input class=\"sk-toggleable__control sk-hidden--visually\" id=\"sk-estimator-id-1\" type=\"checkbox\" ><label for=\"sk-estimator-id-1\" class=\"sk-toggleable__label sk-toggleable__label-arrow\">GridSearchCV</label><div class=\"sk-toggleable__content\"><pre>GridSearchCV(cv=3, estimator=GradientBoostingClassifier(random_state=42),\n",
       "             param_grid={&#x27;learning_rate&#x27;: [0.001, 0.01, 0.05, 0.1, 0.2],\n",
       "                         &#x27;max_depth&#x27;: array([1, 2]),\n",
       "                         &#x27;n_estimators&#x27;: [1, 5, 10, 100, 200, 300]},\n",
       "             scoring=&#x27;accuracy&#x27;)</pre></div></div></div><div class=\"sk-parallel\"><div class=\"sk-parallel-item\"><div class=\"sk-item\"><div class=\"sk-label-container\"><div class=\"sk-label sk-toggleable\"><input class=\"sk-toggleable__control sk-hidden--visually\" id=\"sk-estimator-id-2\" type=\"checkbox\" ><label for=\"sk-estimator-id-2\" class=\"sk-toggleable__label sk-toggleable__label-arrow\">estimator: GradientBoostingClassifier</label><div class=\"sk-toggleable__content\"><pre>GradientBoostingClassifier(random_state=42)</pre></div></div></div><div class=\"sk-serial\"><div class=\"sk-item\"><div class=\"sk-estimator sk-toggleable\"><input class=\"sk-toggleable__control sk-hidden--visually\" id=\"sk-estimator-id-3\" type=\"checkbox\" ><label for=\"sk-estimator-id-3\" class=\"sk-toggleable__label sk-toggleable__label-arrow\">GradientBoostingClassifier</label><div class=\"sk-toggleable__content\"><pre>GradientBoostingClassifier(random_state=42)</pre></div></div></div></div></div></div></div></div></div></div>"
      ],
      "text/plain": [
       "GridSearchCV(cv=3, estimator=GradientBoostingClassifier(random_state=42),\n",
       "             param_grid={'learning_rate': [0.001, 0.01, 0.05, 0.1, 0.2],\n",
       "                         'max_depth': array([1, 2]),\n",
       "                         'n_estimators': [1, 5, 10, 100, 200, 300]},\n",
       "             scoring='accuracy')"
      ]
     },
     "execution_count": 20,
     "metadata": {},
     "output_type": "execute_result"
    }
   ],
   "source": [
    "from sklearn.model_selection import GridSearchCV\n",
    "\n",
    "GB_best = GridSearchCV(GradientBoostingClassifier(random_state=42), cv=3,\n",
    "                            param_grid=parameters,\n",
    "                            scoring=('accuracy'))\n",
    "GB_best.fit(X_train, y_train)"
   ]
  },
  {
   "cell_type": "code",
   "execution_count": 21,
   "id": "cc0a005a",
   "metadata": {},
   "outputs": [
    {
     "data": {
      "text/html": [
       "<style>#sk-container-id-2 {color: black;}#sk-container-id-2 pre{padding: 0;}#sk-container-id-2 div.sk-toggleable {background-color: white;}#sk-container-id-2 label.sk-toggleable__label {cursor: pointer;display: block;width: 100%;margin-bottom: 0;padding: 0.3em;box-sizing: border-box;text-align: center;}#sk-container-id-2 label.sk-toggleable__label-arrow:before {content: \"▸\";float: left;margin-right: 0.25em;color: #696969;}#sk-container-id-2 label.sk-toggleable__label-arrow:hover:before {color: black;}#sk-container-id-2 div.sk-estimator:hover label.sk-toggleable__label-arrow:before {color: black;}#sk-container-id-2 div.sk-toggleable__content {max-height: 0;max-width: 0;overflow: hidden;text-align: left;background-color: #f0f8ff;}#sk-container-id-2 div.sk-toggleable__content pre {margin: 0.2em;color: black;border-radius: 0.25em;background-color: #f0f8ff;}#sk-container-id-2 input.sk-toggleable__control:checked~div.sk-toggleable__content {max-height: 200px;max-width: 100%;overflow: auto;}#sk-container-id-2 input.sk-toggleable__control:checked~label.sk-toggleable__label-arrow:before {content: \"▾\";}#sk-container-id-2 div.sk-estimator input.sk-toggleable__control:checked~label.sk-toggleable__label {background-color: #d4ebff;}#sk-container-id-2 div.sk-label input.sk-toggleable__control:checked~label.sk-toggleable__label {background-color: #d4ebff;}#sk-container-id-2 input.sk-hidden--visually {border: 0;clip: rect(1px 1px 1px 1px);clip: rect(1px, 1px, 1px, 1px);height: 1px;margin: -1px;overflow: hidden;padding: 0;position: absolute;width: 1px;}#sk-container-id-2 div.sk-estimator {font-family: monospace;background-color: #f0f8ff;border: 1px dotted black;border-radius: 0.25em;box-sizing: border-box;margin-bottom: 0.5em;}#sk-container-id-2 div.sk-estimator:hover {background-color: #d4ebff;}#sk-container-id-2 div.sk-parallel-item::after {content: \"\";width: 100%;border-bottom: 1px solid gray;flex-grow: 1;}#sk-container-id-2 div.sk-label:hover label.sk-toggleable__label {background-color: #d4ebff;}#sk-container-id-2 div.sk-serial::before {content: \"\";position: absolute;border-left: 1px solid gray;box-sizing: border-box;top: 0;bottom: 0;left: 50%;z-index: 0;}#sk-container-id-2 div.sk-serial {display: flex;flex-direction: column;align-items: center;background-color: white;padding-right: 0.2em;padding-left: 0.2em;position: relative;}#sk-container-id-2 div.sk-item {position: relative;z-index: 1;}#sk-container-id-2 div.sk-parallel {display: flex;align-items: stretch;justify-content: center;background-color: white;position: relative;}#sk-container-id-2 div.sk-item::before, #sk-container-id-2 div.sk-parallel-item::before {content: \"\";position: absolute;border-left: 1px solid gray;box-sizing: border-box;top: 0;bottom: 0;left: 50%;z-index: -1;}#sk-container-id-2 div.sk-parallel-item {display: flex;flex-direction: column;z-index: 1;position: relative;background-color: white;}#sk-container-id-2 div.sk-parallel-item:first-child::after {align-self: flex-end;width: 50%;}#sk-container-id-2 div.sk-parallel-item:last-child::after {align-self: flex-start;width: 50%;}#sk-container-id-2 div.sk-parallel-item:only-child::after {width: 0;}#sk-container-id-2 div.sk-dashed-wrapped {border: 1px dashed gray;margin: 0 0.4em 0.5em 0.4em;box-sizing: border-box;padding-bottom: 0.4em;background-color: white;}#sk-container-id-2 div.sk-label label {font-family: monospace;font-weight: bold;display: inline-block;line-height: 1.2em;}#sk-container-id-2 div.sk-label-container {text-align: center;}#sk-container-id-2 div.sk-container {/* jupyter's `normalize.less` sets `[hidden] { display: none; }` but bootstrap.min.css set `[hidden] { display: none !important; }` so we also need the `!important` here to be able to override the default hidden behavior on the sphinx rendered scikit-learn.org. See: https://github.com/scikit-learn/scikit-learn/issues/21755 */display: inline-block !important;position: relative;}#sk-container-id-2 div.sk-text-repr-fallback {display: none;}</style><div id=\"sk-container-id-2\" class=\"sk-top-container\"><div class=\"sk-text-repr-fallback\"><pre>GridSearchCV(cv=3, estimator=XGBClassifier(random_state=42),\n",
       "             param_grid={&#x27;learning_rate&#x27;: [0.001, 0.01, 0.05, 0.1, 0.2],\n",
       "                         &#x27;max_depth&#x27;: array([1, 2]),\n",
       "                         &#x27;n_estimators&#x27;: [1, 5, 10, 100, 200, 300]},\n",
       "             scoring=&#x27;accuracy&#x27;)</pre><b>In a Jupyter environment, please rerun this cell to show the HTML representation or trust the notebook. <br />On GitHub, the HTML representation is unable to render, please try loading this page with nbviewer.org.</b></div><div class=\"sk-container\" hidden><div class=\"sk-item sk-dashed-wrapped\"><div class=\"sk-label-container\"><div class=\"sk-label sk-toggleable\"><input class=\"sk-toggleable__control sk-hidden--visually\" id=\"sk-estimator-id-4\" type=\"checkbox\" ><label for=\"sk-estimator-id-4\" class=\"sk-toggleable__label sk-toggleable__label-arrow\">GridSearchCV</label><div class=\"sk-toggleable__content\"><pre>GridSearchCV(cv=3, estimator=XGBClassifier(random_state=42),\n",
       "             param_grid={&#x27;learning_rate&#x27;: [0.001, 0.01, 0.05, 0.1, 0.2],\n",
       "                         &#x27;max_depth&#x27;: array([1, 2]),\n",
       "                         &#x27;n_estimators&#x27;: [1, 5, 10, 100, 200, 300]},\n",
       "             scoring=&#x27;accuracy&#x27;)</pre></div></div></div><div class=\"sk-parallel\"><div class=\"sk-parallel-item\"><div class=\"sk-item\"><div class=\"sk-label-container\"><div class=\"sk-label sk-toggleable\"><input class=\"sk-toggleable__control sk-hidden--visually\" id=\"sk-estimator-id-5\" type=\"checkbox\" ><label for=\"sk-estimator-id-5\" class=\"sk-toggleable__label sk-toggleable__label-arrow\">estimator: XGBClassifier</label><div class=\"sk-toggleable__content\"><pre>XGBClassifier(random_state=42)</pre></div></div></div><div class=\"sk-serial\"><div class=\"sk-item\"><div class=\"sk-estimator sk-toggleable\"><input class=\"sk-toggleable__control sk-hidden--visually\" id=\"sk-estimator-id-6\" type=\"checkbox\" ><label for=\"sk-estimator-id-6\" class=\"sk-toggleable__label sk-toggleable__label-arrow\">XGBClassifier</label><div class=\"sk-toggleable__content\"><pre>XGBClassifier(random_state=42)</pre></div></div></div></div></div></div></div></div></div></div>"
      ],
      "text/plain": [
       "GridSearchCV(cv=3, estimator=XGBClassifier(random_state=42),\n",
       "             param_grid={'learning_rate': [0.001, 0.01, 0.05, 0.1, 0.2],\n",
       "                         'max_depth': array([1, 2]),\n",
       "                         'n_estimators': [1, 5, 10, 100, 200, 300]},\n",
       "             scoring='accuracy')"
      ]
     },
     "execution_count": 21,
     "metadata": {},
     "output_type": "execute_result"
    }
   ],
   "source": [
    "XGB_best = GridSearchCV(XGBClassifier(random_state=42), cv=3,\n",
    "                            param_grid=parameters,\n",
    "                            scoring=('accuracy'))\n",
    "XGB_best.fit(X_train, y_train_xgb)"
   ]
  },
  {
   "cell_type": "code",
   "execution_count": 22,
   "id": "f6be34b2",
   "metadata": {},
   "outputs": [
    {
     "name": "stderr",
     "output_type": "stream",
     "text": [
      "D:\\DS\\anaconda\\Lib\\site-packages\\sklearn\\model_selection\\_split.py:725: UserWarning: The least populated class in y has only 1 members, which is less than n_splits=5.\n",
      "  warnings.warn(\n",
      "D:\\DS\\anaconda\\Lib\\site-packages\\sklearn\\model_selection\\_split.py:725: UserWarning: The least populated class in y has only 1 members, which is less than n_splits=3.\n",
      "  warnings.warn(\n",
      "D:\\DS\\anaconda\\Lib\\site-packages\\sklearn\\model_selection\\_split.py:725: UserWarning: The least populated class in y has only 1 members, which is less than n_splits=3.\n",
      "  warnings.warn(\n",
      "D:\\DS\\anaconda\\Lib\\site-packages\\sklearn\\model_selection\\_split.py:725: UserWarning: The least populated class in y has only 1 members, which is less than n_splits=3.\n",
      "  warnings.warn(\n",
      "D:\\DS\\anaconda\\Lib\\site-packages\\sklearn\\model_selection\\_split.py:725: UserWarning: The least populated class in y has only 1 members, which is less than n_splits=3.\n",
      "  warnings.warn(\n"
     ]
    }
   ],
   "source": [
    "GB_best_acc = cross_val_score(GB_best, X_test, y_test, cv=5, scoring='accuracy')"
   ]
  },
  {
   "cell_type": "code",
   "execution_count": 23,
   "id": "eb0a73ec",
   "metadata": {},
   "outputs": [],
   "source": [
    "XGB_best_acc = cross_val_score(XGB_best, X_train, y_train_xgb, cv=5, scoring='accuracy')"
   ]
  },
  {
   "cell_type": "code",
   "execution_count": 24,
   "id": "bab16d68",
   "metadata": {},
   "outputs": [],
   "source": [
    "acc_sklearn_cv = GB_best_acc.mean()\n",
    "acc_xgboost_cv = XGB_best_acc.mean()\n",
    "results.loc[5] = ['GradientBoostingClassifier_CV', 'task5', acc_sklearn_cv]\n",
    "results.loc[6] = ['XGBClassifier_CV', 'task5', acc_xgboost_cv]"
   ]
  },
  {
   "cell_type": "markdown",
   "id": "a8e70265",
   "metadata": {},
   "source": [
    "6.Обучите реализации градиентного бустинга с параметрами по умолчанию из библиотек lightgbm и catboost. Сравните значение метрики accuracy по cross_val_score по всем четырем реализациям."
   ]
  },
  {
   "cell_type": "code",
   "execution_count": 25,
   "id": "1d3bb9d5",
   "metadata": {},
   "outputs": [],
   "source": [
    "from lightgbm import LGBMClassifier\n",
    "from catboost import CatBoostClassifier"
   ]
  },
  {
   "cell_type": "code",
   "execution_count": 32,
   "id": "803d32d3",
   "metadata": {},
   "outputs": [
    {
     "name": "stderr",
     "output_type": "stream",
     "text": [
      "D:\\DS\\anaconda\\Lib\\site-packages\\sklearn\\model_selection\\_split.py:725: UserWarning: The least populated class in y has only 1 members, which is less than n_splits=5.\n",
      "  warnings.warn(\n"
     ]
    }
   ],
   "source": [
    "#lightgbm\n",
    "LiGBM = LGBMClassifier(random_state=42, verbose=-100)\n",
    "LiGBM.fit(X_train, y_train)\n",
    "y_LiGBM_pred = LiGBM.predict(X_test)\n",
    "LiGBM_acc = cross_val_score(LiGBM, X_test, y_test, cv=5, scoring='accuracy')"
   ]
  },
  {
   "cell_type": "code",
   "execution_count": 36,
   "id": "8a39c341",
   "metadata": {},
   "outputs": [
    {
     "name": "stderr",
     "output_type": "stream",
     "text": [
      "D:\\DS\\anaconda\\Lib\\site-packages\\sklearn\\model_selection\\_split.py:725: UserWarning: The least populated class in y has only 1 members, which is less than n_splits=5.\n",
      "  warnings.warn(\n"
     ]
    }
   ],
   "source": [
    "#catboost\n",
    "CatBst = CatBoostClassifier(random_state=42, verbose=False)\n",
    "CatBst.fit(X_train, y_train)\n",
    "y_CatBst_pred = CatBst.predict(X_test)\n",
    "CatBst_acc = cross_val_score(CatBst, X_test, y_test, cv=5, scoring='accuracy')"
   ]
  },
  {
   "cell_type": "code",
   "execution_count": 37,
   "id": "7a1c3994",
   "metadata": {},
   "outputs": [],
   "source": [
    "acc_lightgbm = LiGBM_acc.mean()\n",
    "acc_catboost = CatBst_acc.mean()\n",
    "results.loc[7] = ['LGBMClassifier', 'task6', acc_lightgbm]\n",
    "results.loc[8] = ['CatBoostClassifier', 'task6', acc_catboost]"
   ]
  },
  {
   "cell_type": "markdown",
   "id": "ef50f74a",
   "metadata": {},
   "source": [
    "7.Подберите оптимальные параметры для алгоритмов градиентного бустинга из библиотек lightgbm и catboost с теми же условиями. Сравните значение метрики accuracy. Выведите лучшие параметры алгоритмов."
   ]
  },
  {
   "cell_type": "code",
   "execution_count": 40,
   "id": "311137e7",
   "metadata": {},
   "outputs": [],
   "source": [
    "parameters = {'learning_rate': [0.001, 0.01, 0.05, 0.1, 0.2], \n",
    "              'n_estimators':[1, 5, 10, 100, 200, 300],\n",
    "              'max_depth': np.arange(1,3,1)\n",
    "              }"
   ]
  },
  {
   "cell_type": "code",
   "execution_count": 41,
   "id": "c87eb2b0",
   "metadata": {},
   "outputs": [
    {
     "data": {
      "text/html": [
       "<style>#sk-container-id-3 {color: black;}#sk-container-id-3 pre{padding: 0;}#sk-container-id-3 div.sk-toggleable {background-color: white;}#sk-container-id-3 label.sk-toggleable__label {cursor: pointer;display: block;width: 100%;margin-bottom: 0;padding: 0.3em;box-sizing: border-box;text-align: center;}#sk-container-id-3 label.sk-toggleable__label-arrow:before {content: \"▸\";float: left;margin-right: 0.25em;color: #696969;}#sk-container-id-3 label.sk-toggleable__label-arrow:hover:before {color: black;}#sk-container-id-3 div.sk-estimator:hover label.sk-toggleable__label-arrow:before {color: black;}#sk-container-id-3 div.sk-toggleable__content {max-height: 0;max-width: 0;overflow: hidden;text-align: left;background-color: #f0f8ff;}#sk-container-id-3 div.sk-toggleable__content pre {margin: 0.2em;color: black;border-radius: 0.25em;background-color: #f0f8ff;}#sk-container-id-3 input.sk-toggleable__control:checked~div.sk-toggleable__content {max-height: 200px;max-width: 100%;overflow: auto;}#sk-container-id-3 input.sk-toggleable__control:checked~label.sk-toggleable__label-arrow:before {content: \"▾\";}#sk-container-id-3 div.sk-estimator input.sk-toggleable__control:checked~label.sk-toggleable__label {background-color: #d4ebff;}#sk-container-id-3 div.sk-label input.sk-toggleable__control:checked~label.sk-toggleable__label {background-color: #d4ebff;}#sk-container-id-3 input.sk-hidden--visually {border: 0;clip: rect(1px 1px 1px 1px);clip: rect(1px, 1px, 1px, 1px);height: 1px;margin: -1px;overflow: hidden;padding: 0;position: absolute;width: 1px;}#sk-container-id-3 div.sk-estimator {font-family: monospace;background-color: #f0f8ff;border: 1px dotted black;border-radius: 0.25em;box-sizing: border-box;margin-bottom: 0.5em;}#sk-container-id-3 div.sk-estimator:hover {background-color: #d4ebff;}#sk-container-id-3 div.sk-parallel-item::after {content: \"\";width: 100%;border-bottom: 1px solid gray;flex-grow: 1;}#sk-container-id-3 div.sk-label:hover label.sk-toggleable__label {background-color: #d4ebff;}#sk-container-id-3 div.sk-serial::before {content: \"\";position: absolute;border-left: 1px solid gray;box-sizing: border-box;top: 0;bottom: 0;left: 50%;z-index: 0;}#sk-container-id-3 div.sk-serial {display: flex;flex-direction: column;align-items: center;background-color: white;padding-right: 0.2em;padding-left: 0.2em;position: relative;}#sk-container-id-3 div.sk-item {position: relative;z-index: 1;}#sk-container-id-3 div.sk-parallel {display: flex;align-items: stretch;justify-content: center;background-color: white;position: relative;}#sk-container-id-3 div.sk-item::before, #sk-container-id-3 div.sk-parallel-item::before {content: \"\";position: absolute;border-left: 1px solid gray;box-sizing: border-box;top: 0;bottom: 0;left: 50%;z-index: -1;}#sk-container-id-3 div.sk-parallel-item {display: flex;flex-direction: column;z-index: 1;position: relative;background-color: white;}#sk-container-id-3 div.sk-parallel-item:first-child::after {align-self: flex-end;width: 50%;}#sk-container-id-3 div.sk-parallel-item:last-child::after {align-self: flex-start;width: 50%;}#sk-container-id-3 div.sk-parallel-item:only-child::after {width: 0;}#sk-container-id-3 div.sk-dashed-wrapped {border: 1px dashed gray;margin: 0 0.4em 0.5em 0.4em;box-sizing: border-box;padding-bottom: 0.4em;background-color: white;}#sk-container-id-3 div.sk-label label {font-family: monospace;font-weight: bold;display: inline-block;line-height: 1.2em;}#sk-container-id-3 div.sk-label-container {text-align: center;}#sk-container-id-3 div.sk-container {/* jupyter's `normalize.less` sets `[hidden] { display: none; }` but bootstrap.min.css set `[hidden] { display: none !important; }` so we also need the `!important` here to be able to override the default hidden behavior on the sphinx rendered scikit-learn.org. See: https://github.com/scikit-learn/scikit-learn/issues/21755 */display: inline-block !important;position: relative;}#sk-container-id-3 div.sk-text-repr-fallback {display: none;}</style><div id=\"sk-container-id-3\" class=\"sk-top-container\"><div class=\"sk-text-repr-fallback\"><pre>GridSearchCV(cv=3, estimator=LGBMClassifier(random_state=42, verbose=-100),\n",
       "             param_grid={&#x27;learning_rate&#x27;: [0.001, 0.01, 0.05, 0.1, 0.2],\n",
       "                         &#x27;max_depth&#x27;: array([1, 2]),\n",
       "                         &#x27;n_estimators&#x27;: [1, 5, 10, 100, 200, 300]},\n",
       "             scoring=&#x27;accuracy&#x27;)</pre><b>In a Jupyter environment, please rerun this cell to show the HTML representation or trust the notebook. <br />On GitHub, the HTML representation is unable to render, please try loading this page with nbviewer.org.</b></div><div class=\"sk-container\" hidden><div class=\"sk-item sk-dashed-wrapped\"><div class=\"sk-label-container\"><div class=\"sk-label sk-toggleable\"><input class=\"sk-toggleable__control sk-hidden--visually\" id=\"sk-estimator-id-7\" type=\"checkbox\" ><label for=\"sk-estimator-id-7\" class=\"sk-toggleable__label sk-toggleable__label-arrow\">GridSearchCV</label><div class=\"sk-toggleable__content\"><pre>GridSearchCV(cv=3, estimator=LGBMClassifier(random_state=42, verbose=-100),\n",
       "             param_grid={&#x27;learning_rate&#x27;: [0.001, 0.01, 0.05, 0.1, 0.2],\n",
       "                         &#x27;max_depth&#x27;: array([1, 2]),\n",
       "                         &#x27;n_estimators&#x27;: [1, 5, 10, 100, 200, 300]},\n",
       "             scoring=&#x27;accuracy&#x27;)</pre></div></div></div><div class=\"sk-parallel\"><div class=\"sk-parallel-item\"><div class=\"sk-item\"><div class=\"sk-label-container\"><div class=\"sk-label sk-toggleable\"><input class=\"sk-toggleable__control sk-hidden--visually\" id=\"sk-estimator-id-8\" type=\"checkbox\" ><label for=\"sk-estimator-id-8\" class=\"sk-toggleable__label sk-toggleable__label-arrow\">estimator: LGBMClassifier</label><div class=\"sk-toggleable__content\"><pre>LGBMClassifier(random_state=42, verbose=-100)</pre></div></div></div><div class=\"sk-serial\"><div class=\"sk-item\"><div class=\"sk-estimator sk-toggleable\"><input class=\"sk-toggleable__control sk-hidden--visually\" id=\"sk-estimator-id-9\" type=\"checkbox\" ><label for=\"sk-estimator-id-9\" class=\"sk-toggleable__label sk-toggleable__label-arrow\">LGBMClassifier</label><div class=\"sk-toggleable__content\"><pre>LGBMClassifier(random_state=42, verbose=-100)</pre></div></div></div></div></div></div></div></div></div></div>"
      ],
      "text/plain": [
       "GridSearchCV(cv=3, estimator=LGBMClassifier(random_state=42, verbose=-100),\n",
       "             param_grid={'learning_rate': [0.001, 0.01, 0.05, 0.1, 0.2],\n",
       "                         'max_depth': array([1, 2]),\n",
       "                         'n_estimators': [1, 5, 10, 100, 200, 300]},\n",
       "             scoring='accuracy')"
      ]
     },
     "execution_count": 41,
     "metadata": {},
     "output_type": "execute_result"
    }
   ],
   "source": [
    "LiGBM_best = GridSearchCV(LGBMClassifier(random_state=42, verbose=-100), cv=3,\n",
    "                            param_grid=parameters,\n",
    "                            scoring=('accuracy'))\n",
    "LiGBM_best.fit(X_train, y_train)"
   ]
  },
  {
   "cell_type": "code",
   "execution_count": 42,
   "id": "b44332d2",
   "metadata": {},
   "outputs": [
    {
     "data": {
      "text/html": [
       "<style>#sk-container-id-4 {color: black;}#sk-container-id-4 pre{padding: 0;}#sk-container-id-4 div.sk-toggleable {background-color: white;}#sk-container-id-4 label.sk-toggleable__label {cursor: pointer;display: block;width: 100%;margin-bottom: 0;padding: 0.3em;box-sizing: border-box;text-align: center;}#sk-container-id-4 label.sk-toggleable__label-arrow:before {content: \"▸\";float: left;margin-right: 0.25em;color: #696969;}#sk-container-id-4 label.sk-toggleable__label-arrow:hover:before {color: black;}#sk-container-id-4 div.sk-estimator:hover label.sk-toggleable__label-arrow:before {color: black;}#sk-container-id-4 div.sk-toggleable__content {max-height: 0;max-width: 0;overflow: hidden;text-align: left;background-color: #f0f8ff;}#sk-container-id-4 div.sk-toggleable__content pre {margin: 0.2em;color: black;border-radius: 0.25em;background-color: #f0f8ff;}#sk-container-id-4 input.sk-toggleable__control:checked~div.sk-toggleable__content {max-height: 200px;max-width: 100%;overflow: auto;}#sk-container-id-4 input.sk-toggleable__control:checked~label.sk-toggleable__label-arrow:before {content: \"▾\";}#sk-container-id-4 div.sk-estimator input.sk-toggleable__control:checked~label.sk-toggleable__label {background-color: #d4ebff;}#sk-container-id-4 div.sk-label input.sk-toggleable__control:checked~label.sk-toggleable__label {background-color: #d4ebff;}#sk-container-id-4 input.sk-hidden--visually {border: 0;clip: rect(1px 1px 1px 1px);clip: rect(1px, 1px, 1px, 1px);height: 1px;margin: -1px;overflow: hidden;padding: 0;position: absolute;width: 1px;}#sk-container-id-4 div.sk-estimator {font-family: monospace;background-color: #f0f8ff;border: 1px dotted black;border-radius: 0.25em;box-sizing: border-box;margin-bottom: 0.5em;}#sk-container-id-4 div.sk-estimator:hover {background-color: #d4ebff;}#sk-container-id-4 div.sk-parallel-item::after {content: \"\";width: 100%;border-bottom: 1px solid gray;flex-grow: 1;}#sk-container-id-4 div.sk-label:hover label.sk-toggleable__label {background-color: #d4ebff;}#sk-container-id-4 div.sk-serial::before {content: \"\";position: absolute;border-left: 1px solid gray;box-sizing: border-box;top: 0;bottom: 0;left: 50%;z-index: 0;}#sk-container-id-4 div.sk-serial {display: flex;flex-direction: column;align-items: center;background-color: white;padding-right: 0.2em;padding-left: 0.2em;position: relative;}#sk-container-id-4 div.sk-item {position: relative;z-index: 1;}#sk-container-id-4 div.sk-parallel {display: flex;align-items: stretch;justify-content: center;background-color: white;position: relative;}#sk-container-id-4 div.sk-item::before, #sk-container-id-4 div.sk-parallel-item::before {content: \"\";position: absolute;border-left: 1px solid gray;box-sizing: border-box;top: 0;bottom: 0;left: 50%;z-index: -1;}#sk-container-id-4 div.sk-parallel-item {display: flex;flex-direction: column;z-index: 1;position: relative;background-color: white;}#sk-container-id-4 div.sk-parallel-item:first-child::after {align-self: flex-end;width: 50%;}#sk-container-id-4 div.sk-parallel-item:last-child::after {align-self: flex-start;width: 50%;}#sk-container-id-4 div.sk-parallel-item:only-child::after {width: 0;}#sk-container-id-4 div.sk-dashed-wrapped {border: 1px dashed gray;margin: 0 0.4em 0.5em 0.4em;box-sizing: border-box;padding-bottom: 0.4em;background-color: white;}#sk-container-id-4 div.sk-label label {font-family: monospace;font-weight: bold;display: inline-block;line-height: 1.2em;}#sk-container-id-4 div.sk-label-container {text-align: center;}#sk-container-id-4 div.sk-container {/* jupyter's `normalize.less` sets `[hidden] { display: none; }` but bootstrap.min.css set `[hidden] { display: none !important; }` so we also need the `!important` here to be able to override the default hidden behavior on the sphinx rendered scikit-learn.org. See: https://github.com/scikit-learn/scikit-learn/issues/21755 */display: inline-block !important;position: relative;}#sk-container-id-4 div.sk-text-repr-fallback {display: none;}</style><div id=\"sk-container-id-4\" class=\"sk-top-container\"><div class=\"sk-text-repr-fallback\"><pre>GridSearchCV(cv=3,\n",
       "             estimator=&lt;catboost.core.CatBoostClassifier object at 0x00000191C2A91510&gt;,\n",
       "             param_grid={&#x27;learning_rate&#x27;: [0.001, 0.01, 0.05, 0.1, 0.2],\n",
       "                         &#x27;max_depth&#x27;: array([1, 2]),\n",
       "                         &#x27;n_estimators&#x27;: [1, 5, 10, 100, 200, 300]},\n",
       "             scoring=&#x27;accuracy&#x27;)</pre><b>In a Jupyter environment, please rerun this cell to show the HTML representation or trust the notebook. <br />On GitHub, the HTML representation is unable to render, please try loading this page with nbviewer.org.</b></div><div class=\"sk-container\" hidden><div class=\"sk-item sk-dashed-wrapped\"><div class=\"sk-label-container\"><div class=\"sk-label sk-toggleable\"><input class=\"sk-toggleable__control sk-hidden--visually\" id=\"sk-estimator-id-10\" type=\"checkbox\" ><label for=\"sk-estimator-id-10\" class=\"sk-toggleable__label sk-toggleable__label-arrow\">GridSearchCV</label><div class=\"sk-toggleable__content\"><pre>GridSearchCV(cv=3,\n",
       "             estimator=&lt;catboost.core.CatBoostClassifier object at 0x00000191C2A91510&gt;,\n",
       "             param_grid={&#x27;learning_rate&#x27;: [0.001, 0.01, 0.05, 0.1, 0.2],\n",
       "                         &#x27;max_depth&#x27;: array([1, 2]),\n",
       "                         &#x27;n_estimators&#x27;: [1, 5, 10, 100, 200, 300]},\n",
       "             scoring=&#x27;accuracy&#x27;)</pre></div></div></div><div class=\"sk-parallel\"><div class=\"sk-parallel-item\"><div class=\"sk-item\"><div class=\"sk-label-container\"><div class=\"sk-label sk-toggleable\"><input class=\"sk-toggleable__control sk-hidden--visually\" id=\"sk-estimator-id-11\" type=\"checkbox\" ><label for=\"sk-estimator-id-11\" class=\"sk-toggleable__label sk-toggleable__label-arrow\">estimator: CatBoostClassifier</label><div class=\"sk-toggleable__content\"><pre>&lt;catboost.core.CatBoostClassifier object at 0x00000191C2A91510&gt;</pre></div></div></div><div class=\"sk-serial\"><div class=\"sk-item\"><div class=\"sk-estimator sk-toggleable\"><input class=\"sk-toggleable__control sk-hidden--visually\" id=\"sk-estimator-id-12\" type=\"checkbox\" ><label for=\"sk-estimator-id-12\" class=\"sk-toggleable__label sk-toggleable__label-arrow\">CatBoostClassifier</label><div class=\"sk-toggleable__content\"><pre>&lt;catboost.core.CatBoostClassifier object at 0x00000191C2A91510&gt;</pre></div></div></div></div></div></div></div></div></div></div>"
      ],
      "text/plain": [
       "GridSearchCV(cv=3,\n",
       "             estimator=<catboost.core.CatBoostClassifier object at 0x00000191C2A91510>,\n",
       "             param_grid={'learning_rate': [0.001, 0.01, 0.05, 0.1, 0.2],\n",
       "                         'max_depth': array([1, 2]),\n",
       "                         'n_estimators': [1, 5, 10, 100, 200, 300]},\n",
       "             scoring='accuracy')"
      ]
     },
     "execution_count": 42,
     "metadata": {},
     "output_type": "execute_result"
    }
   ],
   "source": [
    "CatBst_best = GridSearchCV(CatBoostClassifier(random_state=42, verbose=False), cv=3,\n",
    "                            param_grid=parameters,\n",
    "                            scoring=('accuracy'))\n",
    "CatBst_best.fit(X_train, y_train)"
   ]
  },
  {
   "cell_type": "code",
   "execution_count": 43,
   "id": "9499a841",
   "metadata": {},
   "outputs": [
    {
     "name": "stderr",
     "output_type": "stream",
     "text": [
      "D:\\DS\\anaconda\\Lib\\site-packages\\sklearn\\model_selection\\_split.py:725: UserWarning: The least populated class in y has only 1 members, which is less than n_splits=5.\n",
      "  warnings.warn(\n",
      "D:\\DS\\anaconda\\Lib\\site-packages\\sklearn\\model_selection\\_split.py:725: UserWarning: The least populated class in y has only 1 members, which is less than n_splits=3.\n",
      "  warnings.warn(\n",
      "D:\\DS\\anaconda\\Lib\\site-packages\\sklearn\\model_selection\\_split.py:725: UserWarning: The least populated class in y has only 1 members, which is less than n_splits=3.\n",
      "  warnings.warn(\n",
      "D:\\DS\\anaconda\\Lib\\site-packages\\sklearn\\model_selection\\_split.py:725: UserWarning: The least populated class in y has only 1 members, which is less than n_splits=3.\n",
      "  warnings.warn(\n",
      "D:\\DS\\anaconda\\Lib\\site-packages\\sklearn\\model_selection\\_split.py:725: UserWarning: The least populated class in y has only 1 members, which is less than n_splits=3.\n",
      "  warnings.warn(\n"
     ]
    }
   ],
   "source": [
    "LiGBM_best_acc = cross_val_score(LiGBM_best, X_test, y_test, cv=5, scoring='accuracy')"
   ]
  },
  {
   "cell_type": "code",
   "execution_count": 44,
   "id": "794766f5",
   "metadata": {},
   "outputs": [
    {
     "name": "stderr",
     "output_type": "stream",
     "text": [
      "D:\\DS\\anaconda\\Lib\\site-packages\\sklearn\\model_selection\\_split.py:725: UserWarning: The least populated class in y has only 1 members, which is less than n_splits=5.\n",
      "  warnings.warn(\n",
      "D:\\DS\\anaconda\\Lib\\site-packages\\sklearn\\model_selection\\_split.py:725: UserWarning: The least populated class in y has only 1 members, which is less than n_splits=3.\n",
      "  warnings.warn(\n",
      "D:\\DS\\anaconda\\Lib\\site-packages\\sklearn\\model_selection\\_split.py:725: UserWarning: The least populated class in y has only 1 members, which is less than n_splits=3.\n",
      "  warnings.warn(\n",
      "D:\\DS\\anaconda\\Lib\\site-packages\\sklearn\\model_selection\\_split.py:725: UserWarning: The least populated class in y has only 1 members, which is less than n_splits=3.\n",
      "  warnings.warn(\n",
      "D:\\DS\\anaconda\\Lib\\site-packages\\sklearn\\model_selection\\_split.py:725: UserWarning: The least populated class in y has only 1 members, which is less than n_splits=3.\n",
      "  warnings.warn(\n"
     ]
    }
   ],
   "source": [
    "CatBst_best_acc = cross_val_score(CatBst_best, X_test, y_test, cv=5, scoring='accuracy')"
   ]
  },
  {
   "cell_type": "code",
   "execution_count": 45,
   "id": "cf6bc22f",
   "metadata": {},
   "outputs": [],
   "source": [
    "acc_sklearn_cv = LiGBM_best_acc.mean()\n",
    "acc_xgboost_cv = CatBst_best_acc.mean()\n",
    "results.loc[5] = ['GradientBoostingClassifier_CV', 'task5', acc_sklearn_cv]\n",
    "results.loc[6] = ['XGBClassifier_CV', 'task5', acc_xgboost_cv]"
   ]
  },
  {
   "cell_type": "markdown",
   "id": "f97ea361",
   "metadata": {},
   "source": [
    "8.Подберите оптимальные параметры алгоритма из библиотеки xgbost с помощью optuna . Параметры для оптимизации:\n",
    "\n",
    "скорость обучения\n",
    "\n",
    "количество деревьев\n",
    "\n",
    "глубина деревьев\n",
    "\n",
    "Сравните результат с поиском по сетке из sklearn. Выведите лучшие параметры алгоритма, найденные даным способом."
   ]
  },
  {
   "cell_type": "code",
   "execution_count": 47,
   "id": "2615ab01",
   "metadata": {
    "scrolled": true
   },
   "outputs": [
    {
     "name": "stderr",
     "output_type": "stream",
     "text": [
      "[I 2024-03-03 23:01:33,834] A new study created in memory with name: no-name-f46444a7-8880-4c45-b077-def5685c72e9\n",
      "[I 2024-03-03 23:01:39,641] Trial 0 finished with value: 0.6291331546023234 and parameters: {'n_estimators': 63, 'max_depth': 8, 'learning_rate': 0.3820761224963455}. Best is trial 0 with value: 0.6291331546023234.\n",
      "[I 2024-03-03 23:01:46,697] Trial 1 finished with value: 0.6112600536193029 and parameters: {'n_estimators': 90, 'max_depth': 10, 'learning_rate': 0.48314938626880244}. Best is trial 0 with value: 0.6291331546023234.\n",
      "[I 2024-03-03 23:01:46,708] Trial 2 finished with value: 0.00804289544235925 and parameters: {'n_estimators': 0, 'max_depth': 9, 'learning_rate': 0.7152068576837873}. Best is trial 0 with value: 0.6291331546023234.\n",
      "[I 2024-03-03 23:02:00,359] Trial 3 finished with value: 0.5969615728328864 and parameters: {'n_estimators': 266, 'max_depth': 6, 'learning_rate': 0.8518944680039131}. Best is trial 0 with value: 0.6291331546023234.\n",
      "[I 2024-03-03 23:02:25,557] Trial 4 finished with value: 0.6336014298480787 and parameters: {'n_estimators': 216, 'max_depth': 10, 'learning_rate': 0.0504199017532877}. Best is trial 4 with value: 0.6336014298480787.\n",
      "[I 2024-03-03 23:03:17,887] Trial 5 finished with value: 0.6344950848972296 and parameters: {'n_estimators': 445, 'max_depth': 10, 'learning_rate': 0.02193809103548583}. Best is trial 5 with value: 0.6344950848972296.\n",
      "[I 2024-03-03 23:03:23,449] Trial 6 finished with value: 0.6103663985701518 and parameters: {'n_estimators': 92, 'max_depth': 7, 'learning_rate': 0.9861922558083525}. Best is trial 5 with value: 0.6344950848972296.\n",
      "[I 2024-03-03 23:03:31,590] Trial 7 finished with value: 0.6237712243074173 and parameters: {'n_estimators': 93, 'max_depth': 10, 'learning_rate': 0.2857384723401213}. Best is trial 5 with value: 0.6344950848972296.\n",
      "[I 2024-03-03 23:03:53,757] Trial 8 finished with value: 0.6201966041108132 and parameters: {'n_estimators': 467, 'max_depth': 4, 'learning_rate': 0.6642733261482998}. Best is trial 5 with value: 0.6344950848972296.\n",
      "[I 2024-03-03 23:04:11,224] Trial 9 finished with value: 0.6219839142091153 and parameters: {'n_estimators': 338, 'max_depth': 4, 'learning_rate': 0.36303982555950143}. Best is trial 5 with value: 0.6344950848972296.\n",
      "[I 2024-03-03 23:04:43,599] Trial 10 finished with value: 0.6353887399463807 and parameters: {'n_estimators': 499, 'max_depth': 5, 'learning_rate': 0.0742697076727308}. Best is trial 10 with value: 0.6353887399463807.\n",
      "[I 2024-03-03 23:05:03,089] Trial 11 finished with value: 0.6005361930294907 and parameters: {'n_estimators': 476, 'max_depth': 1, 'learning_rate': 0.009629127127274012}. Best is trial 10 with value: 0.6353887399463807.\n",
      "[I 2024-03-03 23:05:25,465] Trial 12 finished with value: 0.6300268096514745 and parameters: {'n_estimators': 394, 'max_depth': 4, 'learning_rate': 0.16834265183987507}. Best is trial 10 with value: 0.6353887399463807.\n",
      "[I 2024-03-03 23:05:48,576] Trial 13 finished with value: 0.6130473637176049 and parameters: {'n_estimators': 500, 'max_depth': 2, 'learning_rate': 0.15388271785351743}. Best is trial 10 with value: 0.6353887399463807.\n",
      "[I 2024-03-03 23:06:14,117] Trial 14 finished with value: 0.6085790884718498 and parameters: {'n_estimators': 400, 'max_depth': 6, 'learning_rate': 0.1710443790505548}. Best is trial 10 with value: 0.6353887399463807.\n",
      "[I 2024-03-03 23:06:55,775] Trial 15 finished with value: 0.6416443252904379 and parameters: {'n_estimators': 403, 'max_depth': 8, 'learning_rate': 0.027979785830677083}. Best is trial 15 with value: 0.6416443252904379.\n",
      "[I 2024-03-03 23:07:14,484] Trial 16 finished with value: 0.615728328865058 and parameters: {'n_estimators': 306, 'max_depth': 8, 'learning_rate': 0.29462432264842453}. Best is trial 15 with value: 0.6416443252904379.\n",
      "[I 2024-03-03 23:07:34,702] Trial 17 finished with value: 0.6166219839142091 and parameters: {'n_estimators': 395, 'max_depth': 5, 'learning_rate': 0.49034233612943096}. Best is trial 15 with value: 0.6416443252904379.\n",
      "[I 2024-03-03 23:07:48,979] Trial 18 finished with value: 0.6255585344057194 and parameters: {'n_estimators': 176, 'max_depth': 7, 'learning_rate': 0.13505917108865498}. Best is trial 15 with value: 0.6416443252904379.\n",
      "[I 2024-03-03 23:08:05,248] Trial 19 finished with value: 0.6219839142091153 and parameters: {'n_estimators': 335, 'max_depth': 3, 'learning_rate': 0.26751006740621264}. Best is trial 15 with value: 0.6416443252904379.\n",
      "[I 2024-03-03 23:08:26,192] Trial 20 finished with value: 0.6130473637176049 and parameters: {'n_estimators': 419, 'max_depth': 5, 'learning_rate': 0.5722493459115189}. Best is trial 15 with value: 0.6416443252904379.\n",
      "[I 2024-03-03 23:09:22,935] Trial 21 finished with value: 0.6219839142091153 and parameters: {'n_estimators': 436, 'max_depth': 9, 'learning_rate': 0.007443638364992608}. Best is trial 15 with value: 0.6416443252904379.\n",
      "[I 2024-03-03 23:09:56,032] Trial 22 finished with value: 0.6175156389633601 and parameters: {'n_estimators': 449, 'max_depth': 8, 'learning_rate': 0.09124650418691214}. Best is trial 15 with value: 0.6416443252904379.\n",
      "[I 2024-03-03 23:10:23,891] Trial 23 finished with value: 0.6228775692582663 and parameters: {'n_estimators': 352, 'max_depth': 9, 'learning_rate': 0.09807944957597908}. Best is trial 15 with value: 0.6416443252904379.\n",
      "[I 2024-03-03 23:10:51,667] Trial 24 finished with value: 0.613941018766756 and parameters: {'n_estimators': 500, 'max_depth': 6, 'learning_rate': 0.2537696071690483}. Best is trial 15 with value: 0.6416443252904379.\n",
      "[I 2024-03-03 23:11:15,324] Trial 25 finished with value: 0.6148346738159071 and parameters: {'n_estimators': 369, 'max_depth': 7, 'learning_rate': 0.19243542377139106}. Best is trial 15 with value: 0.6416443252904379.\n",
      "[I 2024-03-03 23:11:42,078] Trial 26 finished with value: 0.6228775692582663 and parameters: {'n_estimators': 276, 'max_depth': 9, 'learning_rate': 0.06435622541450185}. Best is trial 15 with value: 0.6416443252904379.\n",
      "[I 2024-03-03 23:12:35,137] Trial 27 finished with value: 0.6237712243074173 and parameters: {'n_estimators': 443, 'max_depth': 8, 'learning_rate': 0.0067353097465686}. Best is trial 15 with value: 0.6416443252904379.\n",
      "[I 2024-03-03 23:12:48,042] Trial 28 finished with value: 0.6193029490616622 and parameters: {'n_estimators': 201, 'max_depth': 10, 'learning_rate': 0.3879189235725248}. Best is trial 15 with value: 0.6416443252904379.\n",
      "[I 2024-03-03 23:13:15,895] Trial 29 finished with value: 0.613941018766756 and parameters: {'n_estimators': 470, 'max_depth': 8, 'learning_rate': 0.2219267874714127}. Best is trial 15 with value: 0.6416443252904379.\n",
      "[I 2024-03-03 23:13:30,406] Trial 30 finished with value: 0.6291331546023234 and parameters: {'n_estimators': 303, 'max_depth': 3, 'learning_rate': 0.4248696401545139}. Best is trial 15 with value: 0.6416443252904379.\n",
      "[I 2024-03-03 23:13:54,638] Trial 31 finished with value: 0.6318141197497765 and parameters: {'n_estimators': 218, 'max_depth': 10, 'learning_rate': 0.0558421815780637}. Best is trial 15 with value: 0.6416443252904379.\n",
      "[I 2024-03-03 23:14:10,460] Trial 32 finished with value: 0.6246648793565683 and parameters: {'n_estimators': 143, 'max_depth': 10, 'learning_rate': 0.08789189235784517}. Best is trial 15 with value: 0.6416443252904379.\n",
      "[I 2024-03-03 23:14:30,822] Trial 33 finished with value: 0.6291331546023234 and parameters: {'n_estimators': 237, 'max_depth': 9, 'learning_rate': 0.11038330802616106}. Best is trial 15 with value: 0.6416443252904379.\n",
      "[I 2024-03-03 23:14:52,506] Trial 34 finished with value: 0.5880250223413762 and parameters: {'n_estimators': 155, 'max_depth': 9, 'learning_rate': 0.0007289786182522115}. Best is trial 15 with value: 0.6416443252904379.\n",
      "[I 2024-03-03 23:15:26,497] Trial 35 finished with value: 0.6273458445040214 and parameters: {'n_estimators': 421, 'max_depth': 7, 'learning_rate': 0.057179357982169984}. Best is trial 15 with value: 0.6416443252904379.\n",
      "[I 2024-03-03 23:15:48,059] Trial 36 finished with value: 0.615728328865058 and parameters: {'n_estimators': 372, 'max_depth': 10, 'learning_rate': 0.33165162258540903}. Best is trial 15 with value: 0.6416443252904379.\n",
      "[I 2024-03-03 23:15:51,808] Trial 37 finished with value: 0.6264521894548704 and parameters: {'n_estimators': 59, 'max_depth': 5, 'learning_rate': 0.8251814644255887}. Best is trial 15 with value: 0.6416443252904379.\n",
      "[I 2024-03-03 23:16:20,033] Trial 38 finished with value: 0.6166219839142091 and parameters: {'n_estimators': 470, 'max_depth': 10, 'learning_rate': 0.22188033656213862}. Best is trial 15 with value: 0.6416443252904379.\n",
      "[I 2024-03-03 23:16:34,689] Trial 39 finished with value: 0.6166219839142091 and parameters: {'n_estimators': 275, 'max_depth': 6, 'learning_rate': 0.5953677592479785}. Best is trial 15 with value: 0.6416443252904379.\n",
      "[I 2024-03-03 23:16:59,111] Trial 40 finished with value: 0.6228775692582663 and parameters: {'n_estimators': 249, 'max_depth': 8, 'learning_rate': 0.053567525809730634}. Best is trial 15 with value: 0.6416443252904379.\n",
      "[I 2024-03-03 23:17:24,296] Trial 41 finished with value: 0.6282394995531725 and parameters: {'n_estimators': 216, 'max_depth': 10, 'learning_rate': 0.047878890242710914}. Best is trial 15 with value: 0.6416443252904379.\n",
      "[I 2024-03-03 23:17:36,607] Trial 42 finished with value: 0.6336014298480787 and parameters: {'n_estimators': 124, 'max_depth': 9, 'learning_rate': 0.13073036447040468}. Best is trial 15 with value: 0.6416443252904379.\n",
      "[I 2024-03-03 23:17:42,717] Trial 43 finished with value: 0.6309204647006256 and parameters: {'n_estimators': 50, 'max_depth': 9, 'learning_rate': 0.1331887378854706}. Best is trial 15 with value: 0.6416443252904379.\n",
      "[I 2024-03-03 23:17:54,372] Trial 44 finished with value: 0.6201966041108132 and parameters: {'n_estimators': 127, 'max_depth': 10, 'learning_rate': 0.18254539996256622}. Best is trial 15 with value: 0.6416443252904379.\n",
      "[I 2024-03-03 23:18:04,606] Trial 45 finished with value: 0.6344950848972296 and parameters: {'n_estimators': 98, 'max_depth': 9, 'learning_rate': 0.1346510128537443}. Best is trial 15 with value: 0.6416443252904379.\n",
      "[I 2024-03-03 23:18:27,620] Trial 46 finished with value: 0.5924932975871313 and parameters: {'n_estimators': 494, 'max_depth': 7, 'learning_rate': 0.9934567137286519}. Best is trial 15 with value: 0.6416443252904379.\n",
      "[I 2024-03-03 23:18:41,378] Trial 47 finished with value: 0.6148346738159071 and parameters: {'n_estimators': 185, 'max_depth': 8, 'learning_rate': 0.21896314433537925}. Best is trial 15 with value: 0.6416443252904379.\n",
      "[I 2024-03-03 23:18:49,886] Trial 48 finished with value: 0.6273458445040214 and parameters: {'n_estimators': 79, 'max_depth': 9, 'learning_rate': 0.1529938745552894}. Best is trial 15 with value: 0.6416443252904379.\n",
      "[I 2024-03-03 23:18:51,434] Trial 49 finished with value: 0.5960679177837355 and parameters: {'n_estimators': 22, 'max_depth': 4, 'learning_rate': 0.042230969117796155}. Best is trial 15 with value: 0.6416443252904379.\n"
     ]
    }
   ],
   "source": [
    "import optuna\n",
    "\n",
    "def opt(trial):\n",
    "    n_estimators = trial.suggest_int('n_estimators', 0, 500)\n",
    "    max_depth = trial.suggest_int('max_depth', 1, 10)\n",
    "    learning_rate = trial.suggest_float('learning_rate', 0, 1.0)\n",
    "    \n",
    "    xgboost = XGBClassifier(random_state=42, \n",
    "                            tree_method='gpu_hist',\n",
    "                            n_estimators = n_estimators,\n",
    "                            max_depth = max_depth,\n",
    "                            learning_rate = learning_rate,\n",
    "                            )\n",
    "    return cross_val_score(xgboost, X_train, y_train_xgb, cv=3, scoring='accuracy').mean()\n",
    "study = optuna.create_study(direction=\"maximize\")\n",
    "study.optimize(opt, n_trials=50)"
   ]
  },
  {
   "cell_type": "code",
   "execution_count": 48,
   "id": "9750f48b",
   "metadata": {},
   "outputs": [],
   "source": [
    "XGBClas_optun_best = XGBClassifier(tree_method='gpu_hist',**study.best_params)\n",
    "XGBClas_optun_best.fit(X_train, y_train_xgb)\n",
    "XGBClas_optun_best_acc = cross_val_score(XGBClas_optun_best, X_train, y_train_xgb, cv=5, scoring='accuracy')"
   ]
  },
  {
   "cell_type": "code",
   "execution_count": 49,
   "id": "1a51d223",
   "metadata": {},
   "outputs": [],
   "source": [
    "trial = study.best_trial\n",
    "best_params_xgboost_optuna = trial.params"
   ]
  },
  {
   "cell_type": "code",
   "execution_count": 50,
   "id": "31ed2b0e",
   "metadata": {},
   "outputs": [
    {
     "name": "stdout",
     "output_type": "stream",
     "text": [
      "Параметры лучшей модели xgboost:\n",
      " {'n_estimators': 403, 'max_depth': 8, 'learning_rate': 0.027979785830677083}\n"
     ]
    }
   ],
   "source": [
    "print('Параметры лучшей модели xgboost:\\n', best_params_xgboost_optuna)\n",
    "acc_xgboost_optuna = XGBClas_optun_best_acc.mean()\n",
    "results.loc[11] = ['XGBClassifier_optuna', 'task8', acc_xgboost_optuna]"
   ]
  },
  {
   "cell_type": "markdown",
   "id": "c1b08dd5",
   "metadata": {},
   "source": [
    "9.Выведите качество по метрике accuracy стэкинга (StackingClassifier) 4-х алгоритмов с базовыми параметрами градиентного бустинга."
   ]
  },
  {
   "cell_type": "code",
   "execution_count": 51,
   "id": "536a00c4",
   "metadata": {},
   "outputs": [],
   "source": [
    "from sklearn.ensemble import StackingClassifier\n",
    "\n",
    "estimators = [('GradientBoostingClassifier', GradientBoostingClassifier()),\n",
    "              ('XGBClassifier', XGBClassifier()),\n",
    "              ('LGBMClassifier', LGBMClassifier(verbose=-100)),\n",
    "              ('CatBoostClassifier', CatBoostClassifier(verbose=False))]\n",
    "Stacking_models_default = StackingClassifier(estimators=estimators)\n",
    "Stacking_models_default.fit(X_train, y_train)\n",
    "Stacking_models_default_acc = cross_val_score(Stacking_models_default, X_train, y_train,cv=3, scoring='accuracy')"
   ]
  },
  {
   "cell_type": "code",
   "execution_count": 52,
   "id": "a276d678",
   "metadata": {},
   "outputs": [],
   "source": [
    "acc_stacking_default = Stacking_models_default_acc.mean()\n",
    "results.loc[12] = ['Stacking default', 'task9', acc_stacking_default]"
   ]
  },
  {
   "cell_type": "markdown",
   "id": "4b468ce2",
   "metadata": {},
   "source": [
    "10.Выведите качество по метрике accuracy стэкинга 4-х алгоритмов с оптимальными параметрами градиентного бустинга. Сравните результаты с предыдущим шагом и напишите какой вывод можно из этого сделать"
   ]
  },
  {
   "cell_type": "code",
   "execution_count": 54,
   "id": "90981266",
   "metadata": {},
   "outputs": [],
   "source": [
    "estimators = [('GradientBoostingClassifier', GradientBoostingClassifier(**GB_best.best_params_)),\n",
    "              ('XGBClassifier', XGBClassifier(**XGB_best.best_params_)),\n",
    "              ('LGBMClassifier', LGBMClassifier(**LiGBM_best.best_params_, verbose=-100)),\n",
    "              ('CatBoostClassifier', CatBoostClassifier(**CatBst_best.best_params_, verbose=False))]\n",
    "Stacking_models_best = StackingClassifier(estimators=estimators)\n",
    "Stacking_models_best.fit(X_train, y_train)\n",
    "Stacking_models_best_acc = cross_val_score(Stacking_models_best, X_train, y_train,cv=3, scoring='accuracy')"
   ]
  },
  {
   "cell_type": "code",
   "execution_count": 55,
   "id": "2f2f2573",
   "metadata": {},
   "outputs": [],
   "source": [
    "acc_stacking = Stacking_models_best_acc.mean()\n",
    "results.loc[13] = ['Stacking', 'task10', acc_stacking]"
   ]
  },
  {
   "cell_type": "code",
   "execution_count": 56,
   "id": "836b9770",
   "metadata": {},
   "outputs": [
    {
     "data": {
      "text/html": [
       "<div>\n",
       "<style scoped>\n",
       "    .dataframe tbody tr th:only-of-type {\n",
       "        vertical-align: middle;\n",
       "    }\n",
       "\n",
       "    .dataframe tbody tr th {\n",
       "        vertical-align: top;\n",
       "    }\n",
       "\n",
       "    .dataframe thead th {\n",
       "        text-align: right;\n",
       "    }\n",
       "</style>\n",
       "<table border=\"1\" class=\"dataframe\">\n",
       "  <thead>\n",
       "    <tr style=\"text-align: right;\">\n",
       "      <th></th>\n",
       "      <th>model</th>\n",
       "      <th>task</th>\n",
       "      <th>accuracy</th>\n",
       "    </tr>\n",
       "  </thead>\n",
       "  <tbody>\n",
       "    <tr>\n",
       "      <th>0</th>\n",
       "      <td>DecisionTreeClassifier</td>\n",
       "      <td>task2</td>\n",
       "      <td>0.535417</td>\n",
       "    </tr>\n",
       "    <tr>\n",
       "      <th>1</th>\n",
       "      <td>BaggingClassifier</td>\n",
       "      <td>task2</td>\n",
       "      <td>0.591667</td>\n",
       "    </tr>\n",
       "    <tr>\n",
       "      <th>2</th>\n",
       "      <td>RandomForestClassifier</td>\n",
       "      <td>task2</td>\n",
       "      <td>0.597917</td>\n",
       "    </tr>\n",
       "    <tr>\n",
       "      <th>3</th>\n",
       "      <td>GradientBoostingClassifier</td>\n",
       "      <td>task4</td>\n",
       "      <td>0.562500</td>\n",
       "    </tr>\n",
       "    <tr>\n",
       "      <th>4</th>\n",
       "      <td>XGBClassifier</td>\n",
       "      <td>task4</td>\n",
       "      <td>0.632783</td>\n",
       "    </tr>\n",
       "    <tr>\n",
       "      <th>5</th>\n",
       "      <td>GradientBoostingClassifier_CV</td>\n",
       "      <td>task5</td>\n",
       "      <td>0.568750</td>\n",
       "    </tr>\n",
       "    <tr>\n",
       "      <th>6</th>\n",
       "      <td>XGBClassifier_CV</td>\n",
       "      <td>task5</td>\n",
       "      <td>0.577083</td>\n",
       "    </tr>\n",
       "    <tr>\n",
       "      <th>7</th>\n",
       "      <td>LGBMClassifier</td>\n",
       "      <td>task6</td>\n",
       "      <td>0.570833</td>\n",
       "    </tr>\n",
       "    <tr>\n",
       "      <th>8</th>\n",
       "      <td>CatBoostClassifier</td>\n",
       "      <td>task6</td>\n",
       "      <td>0.575000</td>\n",
       "    </tr>\n",
       "    <tr>\n",
       "      <th>11</th>\n",
       "      <td>XGBClassifier_optuna</td>\n",
       "      <td>task8</td>\n",
       "      <td>0.667597</td>\n",
       "    </tr>\n",
       "    <tr>\n",
       "      <th>12</th>\n",
       "      <td>Stacking default</td>\n",
       "      <td>task9</td>\n",
       "      <td>0.640751</td>\n",
       "    </tr>\n",
       "    <tr>\n",
       "      <th>13</th>\n",
       "      <td>Stacking</td>\n",
       "      <td>task10</td>\n",
       "      <td>0.621090</td>\n",
       "    </tr>\n",
       "  </tbody>\n",
       "</table>\n",
       "</div>"
      ],
      "text/plain": [
       "                            model    task  accuracy\n",
       "0          DecisionTreeClassifier   task2  0.535417\n",
       "1              BaggingClassifier    task2  0.591667\n",
       "2          RandomForestClassifier   task2  0.597917\n",
       "3      GradientBoostingClassifier   task4  0.562500\n",
       "4                   XGBClassifier   task4  0.632783\n",
       "5   GradientBoostingClassifier_CV   task5  0.568750\n",
       "6                XGBClassifier_CV   task5  0.577083\n",
       "7                  LGBMClassifier   task6  0.570833\n",
       "8              CatBoostClassifier   task6  0.575000\n",
       "11           XGBClassifier_optuna   task8  0.667597\n",
       "12               Stacking default   task9  0.640751\n",
       "13                       Stacking  task10  0.621090"
      ]
     },
     "execution_count": 56,
     "metadata": {},
     "output_type": "execute_result"
    }
   ],
   "source": [
    "results"
   ]
  },
  {
   "cell_type": "code",
   "execution_count": 76,
   "id": "02edf0b8",
   "metadata": {},
   "outputs": [
    {
     "data": {
      "text/html": [
       "<div>\n",
       "<style scoped>\n",
       "    .dataframe tbody tr th:only-of-type {\n",
       "        vertical-align: middle;\n",
       "    }\n",
       "\n",
       "    .dataframe tbody tr th {\n",
       "        vertical-align: top;\n",
       "    }\n",
       "\n",
       "    .dataframe thead th {\n",
       "        text-align: right;\n",
       "    }\n",
       "</style>\n",
       "<table border=\"1\" class=\"dataframe\">\n",
       "  <thead>\n",
       "    <tr style=\"text-align: right;\">\n",
       "      <th></th>\n",
       "      <th>model</th>\n",
       "      <th>accuracy</th>\n",
       "    </tr>\n",
       "  </thead>\n",
       "  <tbody>\n",
       "    <tr>\n",
       "      <th>11</th>\n",
       "      <td>XGBClassifier_optuna</td>\n",
       "      <td>0.667597</td>\n",
       "    </tr>\n",
       "  </tbody>\n",
       "</table>\n",
       "</div>"
      ],
      "text/plain": [
       "                   model  accuracy\n",
       "11  XGBClassifier_optuna  0.667597"
      ]
     },
     "execution_count": 76,
     "metadata": {},
     "output_type": "execute_result"
    }
   ],
   "source": [
    "results[['model', 'accuracy']][results['accuracy'] == results['accuracy'].max()]"
   ]
  }
 ],
 "metadata": {
  "kernelspec": {
   "display_name": "Python 3 (ipykernel)",
   "language": "python",
   "name": "python3"
  },
  "language_info": {
   "codemirror_mode": {
    "name": "ipython",
    "version": 3
   },
   "file_extension": ".py",
   "mimetype": "text/x-python",
   "name": "python",
   "nbconvert_exporter": "python",
   "pygments_lexer": "ipython3",
   "version": "3.11.5"
  }
 },
 "nbformat": 4,
 "nbformat_minor": 5
}
