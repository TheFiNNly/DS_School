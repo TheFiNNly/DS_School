{
 "cells": [
  {
   "cell_type": "code",
   "execution_count": 1,
   "id": "d589c573",
   "metadata": {},
   "outputs": [],
   "source": [
    "import numpy\n",
    "import torch\n",
    "import torch.nn as nn\n",
    "import torchvision.models as models\n",
    "from torchvision import datasets\n",
    "from torch.utils.data import DataLoader"
   ]
  },
  {
   "cell_type": "code",
   "execution_count": 2,
   "id": "57bb82bb",
   "metadata": {},
   "outputs": [
    {
     "name": "stdout",
     "output_type": "stream",
     "text": [
      "Downloading http://yann.lecun.com/exdb/mnist/train-images-idx3-ubyte.gz\n",
      "Downloading http://yann.lecun.com/exdb/mnist/train-images-idx3-ubyte.gz to .\\MNIST\\raw\\train-images-idx3-ubyte.gz\n"
     ]
    },
    {
     "name": "stderr",
     "output_type": "stream",
     "text": [
      "100%|██████████| 9912422/9912422 [00:01<00:00, 7427877.79it/s] \n"
     ]
    },
    {
     "name": "stdout",
     "output_type": "stream",
     "text": [
      "Extracting .\\MNIST\\raw\\train-images-idx3-ubyte.gz to .\\MNIST\\raw\n",
      "\n",
      "Downloading http://yann.lecun.com/exdb/mnist/train-labels-idx1-ubyte.gz\n",
      "Downloading http://yann.lecun.com/exdb/mnist/train-labels-idx1-ubyte.gz to .\\MNIST\\raw\\train-labels-idx1-ubyte.gz\n"
     ]
    },
    {
     "name": "stderr",
     "output_type": "stream",
     "text": [
      "100%|██████████| 28881/28881 [00:00<00:00, 28883093.42it/s]\n"
     ]
    },
    {
     "name": "stdout",
     "output_type": "stream",
     "text": [
      "Extracting .\\MNIST\\raw\\train-labels-idx1-ubyte.gz to .\\MNIST\\raw\n",
      "\n",
      "Downloading http://yann.lecun.com/exdb/mnist/t10k-images-idx3-ubyte.gz\n",
      "Downloading http://yann.lecun.com/exdb/mnist/t10k-images-idx3-ubyte.gz to .\\MNIST\\raw\\t10k-images-idx3-ubyte.gz\n"
     ]
    },
    {
     "name": "stderr",
     "output_type": "stream",
     "text": [
      "100%|██████████| 1648877/1648877 [00:00<00:00, 8420110.45it/s]\n"
     ]
    },
    {
     "name": "stdout",
     "output_type": "stream",
     "text": [
      "Extracting .\\MNIST\\raw\\t10k-images-idx3-ubyte.gz to .\\MNIST\\raw\n",
      "\n",
      "Downloading http://yann.lecun.com/exdb/mnist/t10k-labels-idx1-ubyte.gz\n",
      "Downloading http://yann.lecun.com/exdb/mnist/t10k-labels-idx1-ubyte.gz to .\\MNIST\\raw\\t10k-labels-idx1-ubyte.gz\n"
     ]
    },
    {
     "name": "stderr",
     "output_type": "stream",
     "text": [
      "100%|██████████| 4542/4542 [00:00<00:00, 4541246.43it/s]"
     ]
    },
    {
     "name": "stdout",
     "output_type": "stream",
     "text": [
      "Extracting .\\MNIST\\raw\\t10k-labels-idx1-ubyte.gz to .\\MNIST\\raw\n",
      "\n"
     ]
    },
    {
     "name": "stderr",
     "output_type": "stream",
     "text": [
      "\n"
     ]
    }
   ],
   "source": [
    "dataset = datasets.MNIST('.', download=True)"
   ]
  },
  {
   "cell_type": "code",
   "execution_count": 3,
   "id": "6644b526",
   "metadata": {
    "scrolled": false
   },
   "outputs": [
    {
     "data": {
      "image/png": "[encoded data removed]",
      "text/plain": [
       "<Figure size 640x480 with 1 Axes>"
      ]
     },
     "metadata": {},
     "output_type": "display_data"
    }
   ],
   "source": [
    "%matplotlib inline\n",
    "import matplotlib.pyplot as plt\n",
    "\n",
    "plt.imshow(dataset.data[0].detach().numpy())\n",
    "plt.show()"
   ]
  },
  {
   "cell_type": "markdown",
   "id": "12610088",
   "metadata": {},
   "source": [
    "## Задача 1. Обучить полносвязную модель на MNIST"
   ]
  },
  {
   "cell_type": "markdown",
   "id": "6c920d7b",
   "metadata": {},
   "source": [
    "### Реализуем модель в стандартном виде, в котором она была представлена в лекции"
   ]
  },
  {
   "cell_type": "code",
   "execution_count": 5,
   "id": "16a04fb8",
   "metadata": {},
   "outputs": [],
   "source": [
    "class LinearModel(nn.Module):\n",
    "    def __init__(self, input_dim, hidden_dim, output_dim, dropout_p=0.1):\n",
    "        super().__init__()\n",
    "        self.linear1 = nn.Linear(input_dim, hidden_dim)\n",
    "        self.linear2 = nn.Linear(hidden_dim, hidden_dim)\n",
    "        self.linear3 = nn.Linear(hidden_dim, output_dim)\n",
    "\n",
    "        self.do1 = nn.Dropout(dropout_p)\n",
    "        self.do2 = nn.Dropout(dropout_p)\n",
    "        self.activation = nn.ReLU()\n",
    "\n",
    "    def forward(self, x):\n",
    "        x = self.do1(self.activation(self.linear1(x)))\n",
    "        x = self.do2(self.activation(self.linear2(x)))\n",
    "\n",
    "        return self.linear3(x)"
   ]
  },
  {
   "cell_type": "code",
   "execution_count": 6,
   "id": "09c6573f",
   "metadata": {},
   "outputs": [],
   "source": [
    "def collate_fn(data: list):\n",
    "    pics = []\n",
    "    target = []\n",
    "    for item in data:\n",
    "        pics.append(numpy.array(item[0]))\n",
    "        target.append(item[1])\n",
    "    pics = torch.from_numpy(numpy.array(pics)).float() / 255 # B x W x H\n",
    "    target = torch.from_numpy(numpy.array(target))\n",
    "\n",
    "    return {\n",
    "        'data': pics.view(pics.size(0), -1),\n",
    "        'target': target,}"
   ]
  },
  {
   "cell_type": "code",
   "execution_count": 7,
   "id": "9ca54dae",
   "metadata": {},
   "outputs": [],
   "source": [
    "# hyperparams\n",
    "inp_dim = 28 * 28\n",
    "hidden = 256\n",
    "out_dim = 10\n",
    "device_id = -1\n",
    "device = 'cpu' if device_id == -1 else f'cuda:{device_id}'\n",
    "n_epochs = 10\n",
    "batch_size = 128"
   ]
  },
  {
   "cell_type": "code",
   "execution_count": 11,
   "id": "e87e9542",
   "metadata": {},
   "outputs": [],
   "source": [
    "model = LinearModel(inp_dim, hidden, out_dim).to(device)\n",
    "optim = torch.optim.Adam(model.parameters())\n",
    "loss_func = nn.CrossEntropyLoss()"
   ]
  },
  {
   "cell_type": "code",
   "execution_count": 12,
   "id": "36b3d9d6",
   "metadata": {},
   "outputs": [
    {
     "name": "stdout",
     "output_type": "stream",
     "text": [
      "epoch: 0, step: 0, loss: 2.305626153945923\n",
      "epoch: 0, step: 200, loss: 0.348014771938324\n",
      "epoch: 0, step: 400, loss: 0.1633419394493103\n",
      "epoch: 1, step: 0, loss: 0.2061845362186432\n",
      "epoch: 1, step: 200, loss: 0.1847580373287201\n",
      "epoch: 1, step: 400, loss: 0.1580585390329361\n",
      "epoch: 2, step: 0, loss: 0.09520301967859268\n",
      "epoch: 2, step: 200, loss: 0.06977543979883194\n",
      "epoch: 2, step: 400, loss: 0.02403486892580986\n",
      "epoch: 3, step: 0, loss: 0.05281877517700195\n",
      "epoch: 3, step: 200, loss: 0.023784678429365158\n",
      "epoch: 3, step: 400, loss: 0.08850326389074326\n",
      "epoch: 4, step: 0, loss: 0.04691809415817261\n",
      "epoch: 4, step: 200, loss: 0.030766045674681664\n",
      "epoch: 4, step: 400, loss: 0.061828285455703735\n",
      "epoch: 5, step: 0, loss: 0.024476803839206696\n",
      "epoch: 5, step: 200, loss: 0.07682830095291138\n",
      "epoch: 5, step: 400, loss: 0.07606303691864014\n",
      "epoch: 6, step: 0, loss: 0.014368685893714428\n",
      "epoch: 6, step: 200, loss: 0.04329071566462517\n",
      "epoch: 6, step: 400, loss: 0.0518050417304039\n",
      "epoch: 7, step: 0, loss: 0.016529805958271027\n",
      "epoch: 7, step: 200, loss: 0.04356101527810097\n",
      "epoch: 7, step: 400, loss: 0.09299492835998535\n",
      "epoch: 8, step: 0, loss: 0.04557810351252556\n",
      "epoch: 8, step: 200, loss: 0.01714162714779377\n",
      "epoch: 8, step: 400, loss: 0.05096706748008728\n",
      "epoch: 9, step: 0, loss: 0.0630933940410614\n",
      "epoch: 9, step: 200, loss: 0.04213205724954605\n",
      "epoch: 9, step: 400, loss: 0.028987454250454903\n"
     ]
    }
   ],
   "source": [
    "for epoch in range(n_epochs):\n",
    "    dataloader = DataLoader(dataset, \n",
    "                          batch_size, \n",
    "                          shuffle=True, \n",
    "                          collate_fn=collate_fn,\n",
    "                          drop_last = True,\n",
    "                          )\n",
    "    for i, batch in enumerate(dataloader):\n",
    "        optim.zero_grad()\n",
    "\n",
    "        predict = model(batch['data'].to(device))\n",
    "        loss = loss_func(predict, batch['target'].to(device).long())\n",
    "        loss.backward()\n",
    "        optim.step()\n",
    "        if i % 200 == 0:\n",
    "            print(f'epoch: {epoch}, step: {i}, loss: {loss.item()}')\n",
    "        torch.save(model.state_dict(), f'./chkpt_{epoch}.pth')"
   ]
  },
  {
   "cell_type": "markdown",
   "id": "1454759f",
   "metadata": {},
   "source": [
    "### Попробуем применить Сигмоиду"
   ]
  },
  {
   "cell_type": "code",
   "execution_count": 14,
   "id": "6cde33d5",
   "metadata": {},
   "outputs": [],
   "source": [
    "class LinearModel(nn.Module):\n",
    "    def __init__(self, input_dim, hidden_dim, output_dim, dropout_p=0.1):\n",
    "        super().__init__()\n",
    "        self.linear1 = nn.Linear(input_dim, hidden_dim)\n",
    "        self.linear2 = nn.Linear(hidden_dim, hidden_dim)\n",
    "        self.linear3 = nn.Linear(hidden_dim, output_dim)\n",
    "\n",
    "        self.do1 = nn.Dropout(dropout_p)\n",
    "        self.do2 = nn.Dropout(dropout_p)\n",
    "        self.activation = nn.Sigmoid()\n",
    "\n",
    "    def forward(self, x):\n",
    "        x = self.do1(self.activation(self.linear1(x)))\n",
    "        x = self.do2(self.activation(self.linear2(x)))\n",
    "\n",
    "        return self.linear3(x)"
   ]
  },
  {
   "cell_type": "code",
   "execution_count": 15,
   "id": "90a088ea",
   "metadata": {},
   "outputs": [],
   "source": [
    "model = LinearModel(inp_dim, hidden, out_dim).to(device)\n",
    "optim = torch.optim.Adam(model.parameters())\n",
    "loss_func = nn.CrossEntropyLoss()"
   ]
  },
  {
   "cell_type": "code",
   "execution_count": 16,
   "id": "6eb78bbf",
   "metadata": {},
   "outputs": [
    {
     "name": "stdout",
     "output_type": "stream",
     "text": [
      "epoch: 0, step: 0, loss: 2.329514503479004\n",
      "epoch: 0, step: 200, loss: 0.43864870071411133\n",
      "epoch: 0, step: 400, loss: 0.26574480533599854\n",
      "epoch: 1, step: 0, loss: 0.2520867586135864\n",
      "epoch: 1, step: 200, loss: 0.26213762164115906\n",
      "epoch: 1, step: 400, loss: 0.12980355322360992\n",
      "epoch: 2, step: 0, loss: 0.198484867811203\n",
      "epoch: 2, step: 200, loss: 0.30414462089538574\n",
      "epoch: 2, step: 400, loss: 0.18149374425411224\n",
      "epoch: 3, step: 0, loss: 0.1180005595088005\n",
      "epoch: 3, step: 200, loss: 0.19922061264514923\n",
      "epoch: 3, step: 400, loss: 0.08821189403533936\n",
      "epoch: 4, step: 0, loss: 0.09459053725004196\n",
      "epoch: 4, step: 200, loss: 0.11067195981740952\n",
      "epoch: 4, step: 400, loss: 0.07571357488632202\n",
      "epoch: 5, step: 0, loss: 0.11167462915182114\n",
      "epoch: 5, step: 200, loss: 0.1123131513595581\n",
      "epoch: 5, step: 400, loss: 0.15625999867916107\n",
      "epoch: 6, step: 0, loss: 0.0767073929309845\n",
      "epoch: 6, step: 200, loss: 0.20082297921180725\n",
      "epoch: 6, step: 400, loss: 0.09358647465705872\n",
      "epoch: 7, step: 0, loss: 0.08907385915517807\n",
      "epoch: 7, step: 200, loss: 0.1011919304728508\n",
      "epoch: 7, step: 400, loss: 0.10360103845596313\n",
      "epoch: 8, step: 0, loss: 0.05843836069107056\n",
      "epoch: 8, step: 200, loss: 0.045170728117227554\n",
      "epoch: 8, step: 400, loss: 0.02601415477693081\n",
      "epoch: 9, step: 0, loss: 0.031224792823195457\n",
      "epoch: 9, step: 200, loss: 0.07157334685325623\n",
      "epoch: 9, step: 400, loss: 0.10439272224903107\n"
     ]
    }
   ],
   "source": [
    "for epoch in range(n_epochs):\n",
    "    dataloader = DataLoader(dataset, \n",
    "                          batch_size, \n",
    "                          shuffle=True, \n",
    "                          collate_fn=collate_fn,\n",
    "                          drop_last = True,\n",
    "                          )\n",
    "    for i, batch in enumerate(dataloader):\n",
    "        optim.zero_grad()\n",
    "\n",
    "        predict = model(batch['data'].to(device))\n",
    "        loss = loss_func(predict, batch['target'].to(device).long())\n",
    "        loss.backward()\n",
    "        optim.step()\n",
    "        if i % 200 == 0:\n",
    "            print(f'epoch: {epoch}, step: {i}, loss: {loss.item()}')\n",
    "        torch.save(model.state_dict(), f'./chkpt_{epoch}.pth')"
   ]
  },
  {
   "cell_type": "code",
   "execution_count": null,
   "id": "b61f98ed",
   "metadata": {},
   "outputs": [],
   "source": [
    "# сигмоида отработала хуже"
   ]
  },
  {
   "cell_type": "markdown",
   "id": "b9a28849",
   "metadata": {},
   "source": [
    "### Добавим слой"
   ]
  },
  {
   "cell_type": "code",
   "execution_count": 18,
   "id": "53fcbcd0",
   "metadata": {},
   "outputs": [],
   "source": [
    "class LinearModel(nn.Module):\n",
    "    def __init__(self, input_dim, hidden_dim, output_dim, dropout_p=0.1):\n",
    "        super().__init__()\n",
    "        self.linear1 = nn.Linear(input_dim, hidden_dim)\n",
    "        self.linear2 = nn.Linear(hidden_dim, hidden_dim)\n",
    "        self.linear3 = nn.Linear(hidden_dim, hidden_dim)\n",
    "        self.linear4 = nn.Linear(hidden_dim, output_dim)\n",
    "\n",
    "        self.do1 = nn.Dropout(dropout_p)\n",
    "        self.do2 = nn.Dropout(dropout_p)\n",
    "        self.do3 = nn.Dropout(dropout_p)\n",
    "        self.activation = nn.ReLU()\n",
    "\n",
    "    def forward(self, x):\n",
    "        x = self.do1(self.activation(self.linear1(x)))\n",
    "        x = self.do2(self.activation(self.linear2(x)))\n",
    "        x = self.do3(self.activation(self.linear3(x)))\n",
    "\n",
    "        return self.linear4(x)"
   ]
  },
  {
   "cell_type": "code",
   "execution_count": 19,
   "id": "94fa9267",
   "metadata": {},
   "outputs": [],
   "source": [
    "model = LinearModel(inp_dim, hidden, out_dim).to(device)\n",
    "optim = torch.optim.Adam(model.parameters())\n",
    "loss_func = nn.CrossEntropyLoss()"
   ]
  },
  {
   "cell_type": "code",
   "execution_count": 20,
   "id": "4077578f",
   "metadata": {},
   "outputs": [
    {
     "name": "stdout",
     "output_type": "stream",
     "text": [
      "epoch: 0, step: 0, loss: 2.3118743896484375\n",
      "epoch: 0, step: 200, loss: 0.2612638473510742\n",
      "epoch: 0, step: 400, loss: 0.15483027696609497\n",
      "epoch: 1, step: 0, loss: 0.14875347912311554\n",
      "epoch: 1, step: 200, loss: 0.06868734210729599\n",
      "epoch: 1, step: 400, loss: 0.13277553021907806\n",
      "epoch: 2, step: 0, loss: 0.14985966682434082\n",
      "epoch: 2, step: 200, loss: 0.05571310967206955\n",
      "epoch: 2, step: 400, loss: 0.02602122537791729\n",
      "epoch: 3, step: 0, loss: 0.025548867881298065\n",
      "epoch: 3, step: 200, loss: 0.09426605701446533\n",
      "epoch: 3, step: 400, loss: 0.03576326742768288\n",
      "epoch: 4, step: 0, loss: 0.012749879620969296\n",
      "epoch: 4, step: 200, loss: 0.06389794498682022\n",
      "epoch: 4, step: 400, loss: 0.07100056856870651\n",
      "epoch: 5, step: 0, loss: 0.037895962595939636\n",
      "epoch: 5, step: 200, loss: 0.04375274479389191\n",
      "epoch: 5, step: 400, loss: 0.014639684930443764\n",
      "epoch: 6, step: 0, loss: 0.0786169171333313\n",
      "epoch: 6, step: 200, loss: 0.02240810915827751\n",
      "epoch: 6, step: 400, loss: 0.07619648426771164\n",
      "epoch: 7, step: 0, loss: 0.03327225148677826\n",
      "epoch: 7, step: 200, loss: 0.03123701922595501\n",
      "epoch: 7, step: 400, loss: 0.053478777408599854\n",
      "epoch: 8, step: 0, loss: 0.006929412484169006\n",
      "epoch: 8, step: 200, loss: 0.028715232387185097\n",
      "epoch: 8, step: 400, loss: 0.04212295264005661\n",
      "epoch: 9, step: 0, loss: 0.010950465686619282\n",
      "epoch: 9, step: 200, loss: 0.019796013832092285\n",
      "epoch: 9, step: 400, loss: 0.05754368007183075\n"
     ]
    }
   ],
   "source": [
    "for epoch in range(n_epochs):\n",
    "    dataloader = DataLoader(dataset, \n",
    "                          batch_size, \n",
    "                          shuffle=True, \n",
    "                          collate_fn=collate_fn,\n",
    "                          drop_last = True,\n",
    "                          )\n",
    "    for i, batch in enumerate(dataloader):\n",
    "        optim.zero_grad()\n",
    "\n",
    "        predict = model(batch['data'].to(device))\n",
    "        loss = loss_func(predict, batch['target'].to(device).long())\n",
    "        loss.backward()\n",
    "        optim.step()\n",
    "        if i % 200 == 0:\n",
    "            print(f'epoch: {epoch}, step: {i}, loss: {loss.item()}')\n",
    "        torch.save(model.state_dict(), f'./chkpt_{epoch}.pth')"
   ]
  },
  {
   "cell_type": "code",
   "execution_count": null,
   "id": "6bfd10d4",
   "metadata": {},
   "outputs": [],
   "source": [
    "# Результат получше, чем в лекции"
   ]
  },
  {
   "cell_type": "markdown",
   "id": "5d16b4b9",
   "metadata": {},
   "source": [
    "### Попробуем между слоями применить разные активации"
   ]
  },
  {
   "cell_type": "code",
   "execution_count": 21,
   "id": "10675ad8",
   "metadata": {},
   "outputs": [],
   "source": [
    "class LinearModel(nn.Module):\n",
    "    def __init__(self, input_dim, hidden_dim, output_dim, dropout_p=0.1):\n",
    "        super().__init__()\n",
    "        self.linear1 = nn.Linear(input_dim, hidden_dim)\n",
    "        self.linear2 = nn.Linear(hidden_dim, hidden_dim)\n",
    "        self.linear3 = nn.Linear(hidden_dim, hidden_dim)\n",
    "        self.linear4 = nn.Linear(hidden_dim, output_dim)\n",
    "\n",
    "        self.do1 = nn.Dropout(dropout_p)\n",
    "        self.do2 = nn.Dropout(dropout_p)\n",
    "        self.do3 = nn.Dropout(dropout_p)\n",
    "        self.activation1 = nn.ReLU()\n",
    "        self.activation2 = nn.Sigmoid()\n",
    "\n",
    "    def forward(self, x):\n",
    "        x = self.do1(self.activation1(self.linear1(x)))\n",
    "        x = self.do2(self.activation2(self.linear2(x)))\n",
    "        x = self.do3(self.activation1(self.linear3(x)))\n",
    "\n",
    "        return self.linear4(x)"
   ]
  },
  {
   "cell_type": "code",
   "execution_count": 22,
   "id": "7326c9bf",
   "metadata": {},
   "outputs": [],
   "source": [
    "model = LinearModel(inp_dim, hidden, out_dim).to(device)\n",
    "optim = torch.optim.Adam(model.parameters())\n",
    "loss_func = nn.CrossEntropyLoss()"
   ]
  },
  {
   "cell_type": "code",
   "execution_count": 23,
   "id": "92efcb14",
   "metadata": {},
   "outputs": [
    {
     "name": "stdout",
     "output_type": "stream",
     "text": [
      "epoch: 0, step: 0, loss: 2.297086238861084\n",
      "epoch: 0, step: 200, loss: 0.31946372985839844\n",
      "epoch: 0, step: 400, loss: 0.2344718724489212\n",
      "epoch: 1, step: 0, loss: 0.2560077905654907\n",
      "epoch: 1, step: 200, loss: 0.1164950504899025\n",
      "epoch: 1, step: 400, loss: 0.134099081158638\n",
      "epoch: 2, step: 0, loss: 0.055020302534103394\n",
      "epoch: 2, step: 200, loss: 0.13470521569252014\n",
      "epoch: 2, step: 400, loss: 0.08118443191051483\n",
      "epoch: 3, step: 0, loss: 0.08790833503007889\n",
      "epoch: 3, step: 200, loss: 0.10459334403276443\n",
      "epoch: 3, step: 400, loss: 0.15526628494262695\n",
      "epoch: 4, step: 0, loss: 0.046109702438116074\n",
      "epoch: 4, step: 200, loss: 0.05787033587694168\n",
      "epoch: 4, step: 400, loss: 0.058076608926057816\n",
      "epoch: 5, step: 0, loss: 0.05488448962569237\n",
      "epoch: 5, step: 200, loss: 0.0370866023004055\n",
      "epoch: 5, step: 400, loss: 0.03335827589035034\n",
      "epoch: 6, step: 0, loss: 0.06112835928797722\n",
      "epoch: 6, step: 200, loss: 0.017222633585333824\n",
      "epoch: 6, step: 400, loss: 0.020178690552711487\n",
      "epoch: 7, step: 0, loss: 0.013453844003379345\n",
      "epoch: 7, step: 200, loss: 0.07429499179124832\n",
      "epoch: 7, step: 400, loss: 0.10801082104444504\n",
      "epoch: 8, step: 0, loss: 0.0423930399119854\n",
      "epoch: 8, step: 200, loss: 0.011998245492577553\n",
      "epoch: 8, step: 400, loss: 0.03221939504146576\n",
      "epoch: 9, step: 0, loss: 0.03912191838026047\n",
      "epoch: 9, step: 200, loss: 0.03246849402785301\n",
      "epoch: 9, step: 400, loss: 0.007211718242615461\n"
     ]
    }
   ],
   "source": [
    "for epoch in range(n_epochs):\n",
    "    dataloader = DataLoader(dataset, \n",
    "                          batch_size, \n",
    "                          shuffle=True, \n",
    "                          collate_fn=collate_fn,\n",
    "                          drop_last = True,\n",
    "                          )\n",
    "    for i, batch in enumerate(dataloader):\n",
    "        optim.zero_grad()\n",
    "\n",
    "        predict = model(batch['data'].to(device))\n",
    "        loss = loss_func(predict, batch['target'].to(device).long())\n",
    "        loss.backward()\n",
    "        optim.step()\n",
    "        if i % 200 == 0:\n",
    "            print(f'epoch: {epoch}, step: {i}, loss: {loss.item()}')\n",
    "        torch.save(model.state_dict(), f'./chkpt_{epoch}.pth')"
   ]
  },
  {
   "cell_type": "code",
   "execution_count": null,
   "id": "848c7967",
   "metadata": {},
   "outputs": [],
   "source": [
    "# Неоднозначный результат, на первых эпохах результат заметно хуже, однако в конце loss заметно ниже"
   ]
  },
  {
   "cell_type": "markdown",
   "id": "f4b7f7a1",
   "metadata": {},
   "source": [
    "## Задача 2. Обучить глубокую сверточную сеть на MNIST"
   ]
  },
  {
   "cell_type": "markdown",
   "id": "c0619652",
   "metadata": {},
   "source": [
    "### Реализуем модель в стандартном виде, в котором она была представлена в лекции"
   ]
  },
  {
   "cell_type": "code",
   "execution_count": 24,
   "id": "fef29df4",
   "metadata": {},
   "outputs": [],
   "source": [
    "class ConvModel(nn.Module):\n",
    "    def __init__(self, input_ch, hidden_ch, output_dim, dropout_p=0.1):\n",
    "        super().__init__()\n",
    "        self.conv1 = nn.Conv2d(input_ch, hidden_ch, \n",
    "                               kernel_size=5, padding=2, stride=2) # уменьшаем картинку в 2 раза\n",
    "        self.bn1 = nn.BatchNorm2d(hidden_ch)\n",
    "        self.conv2 = nn.Conv2d(hidden_ch, hidden_ch, kernel_size=3, padding=1)\n",
    "        self.bn2 = nn.BatchNorm2d(hidden_ch)\n",
    "        self.conv3 = nn.Conv2d(hidden_ch, 2, kernel_size=3, padding=1)\n",
    "        self.bn3 = nn.BatchNorm2d(2)\n",
    "        self.linear3 = nn.Linear(2 * 14 * 14, output_dim)\n",
    "        self.do1 = nn.Dropout(dropout_p)\n",
    "        self.do2 = nn.Dropout(dropout_p)\n",
    "        self.activation = nn.ReLU()\n",
    "\n",
    "    def forward(self, x):\n",
    "        x = self.do1(self.activation(self.bn1(self.conv1(x))))\n",
    "        x = self.do2(self.activation(self.bn2(self.conv2(x))))\n",
    "        x = self.activation(self.bn3(self.conv3(x))) # B x 2 x 14 x 14\n",
    "        \n",
    "        return self.linear3(x.view(x.size(0), -1))"
   ]
  },
  {
   "cell_type": "code",
   "execution_count": 25,
   "id": "aef21249",
   "metadata": {},
   "outputs": [],
   "source": [
    "# hyperparams\n",
    "input_ch = 1\n",
    "hidden_ch = 128\n",
    "out_dim = 10\n",
    "device_id = -1\n",
    "device = 'cpu' if device_id == -1 else f'cuda:{device_id}'\n",
    "n_epochs = 10\n",
    "batch_size = 128"
   ]
  },
  {
   "cell_type": "code",
   "execution_count": 29,
   "id": "88396601",
   "metadata": {},
   "outputs": [],
   "source": [
    "def collate_fn_conv(data: list):\n",
    "    pics = []\n",
    "    target = []\n",
    "    for item in data:\n",
    "        pics.append(numpy.array(item[0])) # W x H\n",
    "        target.append(item[1])\n",
    "    pics = torch.from_numpy(numpy.array(pics)).float() / 255 # B x W x H\n",
    "    target = torch.from_numpy(numpy.array(target))\n",
    "        \n",
    "    return {\n",
    "        'data': pics.unsqueeze(1), # B x 1(C) x W x H\n",
    "        'target': target.long(),\n",
    "        }"
   ]
  },
  {
   "cell_type": "code",
   "execution_count": 27,
   "id": "c41492eb",
   "metadata": {},
   "outputs": [],
   "source": [
    "model_conv = ConvModel(input_ch, hidden_ch, out_dim).to(device)\n",
    "optim = torch.optim.Adam(model_conv.parameters())\n",
    "loss_func = nn.CrossEntropyLoss()"
   ]
  },
  {
   "cell_type": "code",
   "execution_count": 30,
   "id": "b3d165c3",
   "metadata": {},
   "outputs": [
    {
     "name": "stdout",
     "output_type": "stream",
     "text": [
      "epoch: 0, step: 0, loss: 2.38936448097229\n",
      "epoch: 0, step: 200, loss: 0.20370446145534515\n",
      "epoch: 0, step: 400, loss: 0.16710509359836578\n",
      "epoch: 1, step: 0, loss: 0.19182851910591125\n",
      "epoch: 1, step: 200, loss: 0.04412289336323738\n",
      "epoch: 1, step: 400, loss: 0.06302698701620102\n",
      "epoch: 2, step: 0, loss: 0.10270051658153534\n",
      "epoch: 2, step: 200, loss: 0.08635444939136505\n",
      "epoch: 2, step: 400, loss: 0.02407689206302166\n",
      "epoch: 3, step: 0, loss: 0.03947454318404198\n",
      "epoch: 3, step: 200, loss: 0.04801643639802933\n",
      "epoch: 3, step: 400, loss: 0.04819931834936142\n",
      "epoch: 4, step: 0, loss: 0.018404874950647354\n",
      "epoch: 4, step: 200, loss: 0.061334628611803055\n",
      "epoch: 4, step: 400, loss: 0.01633421890437603\n",
      "epoch: 5, step: 0, loss: 0.013739900663495064\n",
      "epoch: 5, step: 200, loss: 0.013064589351415634\n",
      "epoch: 5, step: 400, loss: 0.00803206767886877\n",
      "epoch: 6, step: 0, loss: 0.025635648518800735\n",
      "epoch: 6, step: 200, loss: 0.007479890249669552\n",
      "epoch: 6, step: 400, loss: 0.025852583348751068\n",
      "epoch: 7, step: 0, loss: 0.018240641802549362\n",
      "epoch: 7, step: 200, loss: 0.011437288485467434\n",
      "epoch: 7, step: 400, loss: 0.022281354293227196\n",
      "epoch: 8, step: 0, loss: 0.06243254244327545\n",
      "epoch: 8, step: 200, loss: 0.052240096032619476\n",
      "epoch: 8, step: 400, loss: 0.058679673820734024\n",
      "epoch: 9, step: 0, loss: 0.01221725344657898\n",
      "epoch: 9, step: 200, loss: 0.0012384271249175072\n",
      "epoch: 9, step: 400, loss: 0.00870505254715681\n"
     ]
    }
   ],
   "source": [
    "for epoch in range(n_epochs):\n",
    "    dataloader = DataLoader(dataset, \n",
    "                          batch_size, \n",
    "                          shuffle=True, \n",
    "                          collate_fn=collate_fn_conv,\n",
    "                          drop_last = True,\n",
    "                          )\n",
    "    for i, batch in enumerate(dataloader):\n",
    "        optim.zero_grad()\n",
    "\n",
    "        predict = model_conv(batch['data'].to(device))\n",
    "        loss = loss_func(predict, batch['target'].to(device))\n",
    "        loss.backward()\n",
    "        optim.step()\n",
    "        if i % 200 == 0:\n",
    "            print(f'epoch: {epoch}, step: {i}, loss: {loss.item()}')\n",
    "    torch.save(model_conv.state_dict(), f'./chkpt_conv_{epoch}.pth')"
   ]
  },
  {
   "cell_type": "markdown",
   "id": "2b21c967",
   "metadata": {},
   "source": [
    "### Попробуем поменять активацию"
   ]
  },
  {
   "cell_type": "code",
   "execution_count": 57,
   "id": "ac73aa0e",
   "metadata": {},
   "outputs": [],
   "source": [
    "class ConvModel(nn.Module):\n",
    "    def __init__(self, input_ch, hidden_ch, output_dim, dropout_p=0.1):\n",
    "        super().__init__()\n",
    "        self.conv1 = nn.Conv2d(input_ch, hidden_ch, \n",
    "                               kernel_size=5, padding=2, stride=2) # уменьшаем картинку в 2 раза\n",
    "        self.bn1 = nn.BatchNorm2d(hidden_ch)\n",
    "        self.conv2 = nn.Conv2d(hidden_ch, hidden_ch, kernel_size=3, padding=1)\n",
    "        self.bn2 = nn.BatchNorm2d(hidden_ch)\n",
    "        self.conv3 = nn.Conv2d(hidden_ch, 2, kernel_size=3, padding=1)\n",
    "        self.bn3 = nn.BatchNorm2d(2)\n",
    "        self.linear3 = nn.Linear(2 * 14 * 14, output_dim)\n",
    "        self.do1 = nn.Dropout(dropout_p)\n",
    "        self.do2 = nn.Dropout(dropout_p)\n",
    "        self.activation = nn.Sigmoid()\n",
    "\n",
    "    def forward(self, x):\n",
    "        x = self.do1(self.activation(self.bn1(self.conv1(x))))\n",
    "        x = self.do2(self.activation(self.bn2(self.conv2(x))))\n",
    "        x = self.activation(self.bn3(self.conv3(x))) # B x 2 x 14 x 14\n",
    "        \n",
    "        return self.linear3(x.view(x.size(0), -1))"
   ]
  },
  {
   "cell_type": "code",
   "execution_count": 58,
   "id": "00e30818",
   "metadata": {},
   "outputs": [],
   "source": [
    "model_conv = ConvModel(input_ch, hidden_ch, out_dim).to(device)\n",
    "optim = torch.optim.Adam(model_conv.parameters())\n",
    "loss_func = nn.CrossEntropyLoss()"
   ]
  },
  {
   "cell_type": "code",
   "execution_count": 59,
   "id": "5a265fa8",
   "metadata": {
    "scrolled": true
   },
   "outputs": [
    {
     "name": "stdout",
     "output_type": "stream",
     "text": [
      "epoch: 0, step: 0, loss: 2.355731725692749\n",
      "epoch: 0, step: 200, loss: 0.6383442282676697\n",
      "epoch: 0, step: 400, loss: 0.38057294487953186\n",
      "epoch: 1, step: 0, loss: 0.3475794494152069\n",
      "epoch: 1, step: 200, loss: 0.1900980919599533\n",
      "epoch: 1, step: 400, loss: 0.21323086321353912\n",
      "epoch: 2, step: 0, loss: 0.16460172832012177\n",
      "epoch: 2, step: 200, loss: 0.1686076670885086\n",
      "epoch: 2, step: 400, loss: 0.06156535446643829\n",
      "epoch: 3, step: 0, loss: 0.11585879325866699\n",
      "epoch: 3, step: 200, loss: 0.10740355402231216\n",
      "epoch: 3, step: 400, loss: 0.12296571582555771\n",
      "epoch: 4, step: 0, loss: 0.14023280143737793\n",
      "epoch: 4, step: 200, loss: 0.09796636551618576\n",
      "epoch: 4, step: 400, loss: 0.15493854880332947\n"
     ]
    }
   ],
   "source": [
    "for epoch in range(n_epochs):\n",
    "    dataloader = DataLoader(dataset, \n",
    "                          batch_size, \n",
    "                          shuffle=True, \n",
    "                          collate_fn=collate_fn_conv,\n",
    "                          drop_last = True,\n",
    "                          )\n",
    "    for i, batch in enumerate(dataloader):\n",
    "        optim.zero_grad()\n",
    "\n",
    "        predict = model_conv(batch['data'].to(device))\n",
    "        loss = loss_func(predict, batch['target'].to(device))\n",
    "        loss.backward()\n",
    "        optim.step()\n",
    "        if i % 200 == 0:\n",
    "            print(f'epoch: {epoch}, step: {i}, loss: {loss.item()}')\n",
    "    torch.save(model_conv.state_dict(), f'./chkpt_conv_{epoch}.pth')"
   ]
  },
  {
   "cell_type": "code",
   "execution_count": null,
   "id": "589b9389",
   "metadata": {},
   "outputs": [],
   "source": [
    "# Снова сигмоида хуже отработала"
   ]
  },
  {
   "cell_type": "markdown",
   "id": "547799f0",
   "metadata": {},
   "source": [
    "## Добавим слой"
   ]
  },
  {
   "cell_type": "code",
   "execution_count": 74,
   "id": "96d9c650",
   "metadata": {},
   "outputs": [],
   "source": [
    "class ConvModel(nn.Module):\n",
    "    def __init__(self, input_ch, hidden_ch, output_dim, dropout_p=0.1):\n",
    "        super().__init__()\n",
    "        self.conv1 = nn.Conv2d(input_ch, hidden_ch, \n",
    "                               kernel_size=5, padding=2, stride=2) # уменьшаем картинку в 2 раза\n",
    "        self.bn1 = nn.BatchNorm2d(hidden_ch)\n",
    "        self.conv2 = nn.Conv2d(hidden_ch, hidden_ch, kernel_size=3, padding=1)\n",
    "        self.bn2 = nn.BatchNorm2d(hidden_ch)\n",
    "        self.conv3 = nn.Conv2d(hidden_ch, hidden_ch, kernel_size=3, padding=1)\n",
    "        self.bn3 = nn.BatchNorm2d(hidden_ch)\n",
    "        self.conv4 = nn.Conv2d(hidden_ch, 2, kernel_size=3, padding=1)\n",
    "        self.bn4 = nn.BatchNorm2d(2)\n",
    "        \n",
    "        self.linear3 = nn.Linear(2 * 14 * 14, output_dim)\n",
    "        self.do1 = nn.Dropout(dropout_p)\n",
    "        self.do2 = nn.Dropout(dropout_p)\n",
    "        self.do3 = nn.Dropout(dropout_p)\n",
    "        self.activation = nn.ReLU()\n",
    "\n",
    "    def forward(self, x):\n",
    "        x = self.do1(self.activation(self.bn1(self.conv1(x))))\n",
    "        x = self.do2(self.activation(self.bn2(self.conv2(x))))\n",
    "        x = self.do3(self.activation(self.bn3(self.conv3(x))))\n",
    "        x = self.activation(self.bn4(self.conv4(x))) # B x 2 x 14 x 14\n",
    "        \n",
    "        return self.linear3(x.view(x.size(0), -1))"
   ]
  },
  {
   "cell_type": "code",
   "execution_count": 75,
   "id": "12b61646",
   "metadata": {},
   "outputs": [],
   "source": [
    "model_conv = ConvModel(input_ch, hidden_ch, out_dim).to(device)\n",
    "optim = torch.optim.Adam(model_conv.parameters())\n",
    "loss_func = nn.CrossEntropyLoss()"
   ]
  },
  {
   "cell_type": "code",
   "execution_count": 76,
   "id": "70fd8878",
   "metadata": {},
   "outputs": [
    {
     "name": "stdout",
     "output_type": "stream",
     "text": [
      "epoch: 0, step: 0, loss: 2.333627462387085\n",
      "epoch: 0, step: 200, loss: 0.0845581665635109\n",
      "epoch: 0, step: 400, loss: 0.06749556213617325\n",
      "epoch: 1, step: 0, loss: 0.09035209566354752\n",
      "epoch: 1, step: 200, loss: 0.03046363964676857\n",
      "epoch: 1, step: 400, loss: 0.07565552741289139\n",
      "epoch: 2, step: 0, loss: 0.08403101563453674\n",
      "epoch: 2, step: 200, loss: 0.006629061885178089\n",
      "epoch: 2, step: 400, loss: 0.07137312740087509\n",
      "epoch: 3, step: 0, loss: 0.01628328301012516\n",
      "epoch: 3, step: 200, loss: 0.03826184570789337\n",
      "epoch: 3, step: 400, loss: 0.02981729619204998\n",
      "epoch: 4, step: 0, loss: 0.004089582245796919\n",
      "epoch: 4, step: 200, loss: 0.12291419506072998\n",
      "epoch: 4, step: 400, loss: 0.03017604537308216\n"
     ]
    }
   ],
   "source": [
    "for epoch in range(n_epochs):\n",
    "    dataloader = DataLoader(dataset, \n",
    "                          batch_size, \n",
    "                          shuffle=True, \n",
    "                          collate_fn=collate_fn_conv,\n",
    "                          drop_last = True,\n",
    "                          )\n",
    "    for i, batch in enumerate(dataloader):\n",
    "        optim.zero_grad()\n",
    "\n",
    "        predict = model_conv(batch['data'].to(device))\n",
    "        loss = loss_func(predict, batch['target'].to(device))\n",
    "        loss.backward()\n",
    "        optim.step()\n",
    "        if i % 200 == 0:\n",
    "            print(f'epoch: {epoch}, step: {i}, loss: {loss.item()}')\n",
    "    torch.save(model_conv.state_dict(), f'./chkpt_conv_{epoch}.pth')"
   ]
  },
  {
   "cell_type": "code",
   "execution_count": null,
   "id": "9f52ab6d",
   "metadata": {},
   "outputs": [],
   "source": [
    "# результат стал несколько лучше, однако время исполнения сильно возросло"
   ]
  },
  {
   "cell_type": "markdown",
   "id": "a6782ab1",
   "metadata": {},
   "source": [
    "### Ну и в конце попробуем применить разные активации"
   ]
  },
  {
   "cell_type": "code",
   "execution_count": 77,
   "id": "3ee3b0d7",
   "metadata": {},
   "outputs": [],
   "source": [
    "class ConvModel(nn.Module):\n",
    "    def __init__(self, input_ch, hidden_ch, output_dim, dropout_p=0.1):\n",
    "        super().__init__()\n",
    "        self.conv1 = nn.Conv2d(input_ch, hidden_ch, \n",
    "                               kernel_size=5, padding=2, stride=2) # уменьшаем картинку в 2 раза\n",
    "        self.bn1 = nn.BatchNorm2d(hidden_ch)\n",
    "        self.conv2 = nn.Conv2d(hidden_ch, hidden_ch, kernel_size=3, padding=1)\n",
    "        self.bn2 = nn.BatchNorm2d(hidden_ch)\n",
    "        self.conv3 = nn.Conv2d(hidden_ch, hidden_ch, kernel_size=3, padding=1)\n",
    "        self.bn3 = nn.BatchNorm2d(hidden_ch)\n",
    "        self.conv4 = nn.Conv2d(hidden_ch, 2, kernel_size=3, padding=1)\n",
    "        self.bn4 = nn.BatchNorm2d(2)\n",
    "        \n",
    "        self.linear3 = nn.Linear(2 * 14 * 14, output_dim)\n",
    "        self.do1 = nn.Dropout(dropout_p)\n",
    "        self.do2 = nn.Dropout(dropout_p)\n",
    "        self.do3 = nn.Dropout(dropout_p)\n",
    "        \n",
    "        self.activation1 = nn.ReLU()\n",
    "        self.activation2 = nn.Sigmoid()\n",
    "\n",
    "    def forward(self, x):\n",
    "        x = self.do1(self.activation1(self.bn1(self.conv1(x))))\n",
    "        x = self.do2(self.activation2(self.bn2(self.conv2(x))))\n",
    "        x = self.do3(self.activation1(self.bn3(self.conv3(x))))\n",
    "        x = self.activation2(self.bn4(self.conv4(x))) # B x 2 x 14 x 14\n",
    "        \n",
    "        return self.linear3(x.view(x.size(0), -1))"
   ]
  },
  {
   "cell_type": "code",
   "execution_count": 78,
   "id": "abb15622",
   "metadata": {},
   "outputs": [],
   "source": [
    "model_conv = ConvModel(input_ch, hidden_ch, out_dim).to(device)\n",
    "optim = torch.optim.Adam(model_conv.parameters())\n",
    "loss_func = nn.CrossEntropyLoss()"
   ]
  },
  {
   "cell_type": "code",
   "execution_count": null,
   "id": "b6a88154",
   "metadata": {},
   "outputs": [
    {
     "name": "stdout",
     "output_type": "stream",
     "text": [
      "epoch: 0, step: 0, loss: 2.3511531352996826\n",
      "epoch: 0, step: 200, loss: 0.27509719133377075\n",
      "epoch: 0, step: 400, loss: 0.1266573667526245\n",
      "epoch: 1, step: 0, loss: 0.05639024078845978\n",
      "epoch: 1, step: 200, loss: 0.06566277891397476\n",
      "epoch: 1, step: 400, loss: 0.06121411547064781\n",
      "epoch: 2, step: 0, loss: 0.09947463124990463\n"
     ]
    }
   ],
   "source": [
    "for epoch in range(n_epochs):\n",
    "    dataloader = DataLoader(dataset, \n",
    "                          batch_size, \n",
    "                          shuffle=True, \n",
    "                          collate_fn=collate_fn_conv,\n",
    "                          drop_last = True,\n",
    "                          )\n",
    "    for i, batch in enumerate(dataloader):\n",
    "        optim.zero_grad()\n",
    "\n",
    "        predict = model_conv(batch['data'].to(device))\n",
    "        loss = loss_func(predict, batch['target'].to(device))\n",
    "        loss.backward()\n",
    "        optim.step()\n",
    "        if i % 200 == 0:\n",
    "            print(f'epoch: {epoch}, step: {i}, loss: {loss.item()}')\n",
    "    torch.save(model_conv.state_dict(), f'./chkpt_conv_{epoch}.pth')"
   ]
  },
  {
   "cell_type": "code",
   "execution_count": null,
   "id": "579b8b0f",
   "metadata": {},
   "outputs": [],
   "source": [
    "# вроде существенных изменений по сравнению с прошлым шагом не наблюдается"
   ]
  },
  {
   "cell_type": "code",
   "execution_count": null,
   "id": "e58b6aae",
   "metadata": {},
   "outputs": [],
   "source": []
  }
 ],
 "metadata": {
  "kernelspec": {
   "display_name": "Python 3 (ipykernel)",
   "language": "python",
   "name": "python3"
  },
  "language_info": {
   "codemirror_mode": {
    "name": "ipython",
    "version": 3
   },
   "file_extension": ".py",
   "mimetype": "text/x-python",
   "name": "python",
   "nbconvert_exporter": "python",
   "pygments_lexer": "ipython3",
   "version": "3.11.5"
  }
 },
 "nbformat": 4,
 "nbformat_minor": 5
}
