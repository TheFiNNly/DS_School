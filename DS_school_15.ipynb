{
 "cells": [
  {
   "cell_type": "markdown",
   "id": "6c5d81b9",
   "metadata": {},
   "source": [
    "## Задание 1"
   ]
  },
  {
   "cell_type": "markdown",
   "id": "68b00842",
   "metadata": {},
   "source": [
    "https://www.hackerrank.com/challenges/capturing-non-capturing-groups/problem?isFullScreen=true"
   ]
  },
  {
   "cell_type": "code",
   "execution_count": null,
   "id": "6e09876a",
   "metadata": {},
   "outputs": [],
   "source": [
    "# Решение"
   ]
  },
  {
   "cell_type": "code",
   "execution_count": null,
   "id": "0596073a",
   "metadata": {},
   "outputs": [],
   "source": [
    "Regex_Pattern = r'(ok){3}' # Do not delete 'r'."
   ]
  },
  {
   "cell_type": "markdown",
   "id": "2810bbd1",
   "metadata": {},
   "source": [
    "## Задание 2"
   ]
  },
  {
   "cell_type": "markdown",
   "id": "be1357e3",
   "metadata": {},
   "source": [
    "https://www.hackerrank.com/challenges/branch-reset-groups/problem?isFullScreen=true"
   ]
  },
  {
   "cell_type": "code",
   "execution_count": null,
   "id": "06c1ff09",
   "metadata": {},
   "outputs": [],
   "source": [
    "# Решение"
   ]
  },
  {
   "cell_type": "code",
   "execution_count": null,
   "id": "beea2ba1",
   "metadata": {},
   "outputs": [],
   "source": [
    "r'^\\d{2}(?|(---)|(-)|(.)|(:))\\d{2}\\1\\d{2}\\1\\d{2}$'"
   ]
  },
  {
   "cell_type": "code",
   "execution_count": null,
   "id": "94838fca",
   "metadata": {},
   "outputs": [],
   "source": [
    "# сайт не дает возможность выбрать python, написал тут регулярку, но без проверки на сайте"
   ]
  },
  {
   "cell_type": "markdown",
   "id": "6c9d0715",
   "metadata": {},
   "source": [
    "## Задание 3"
   ]
  },
  {
   "cell_type": "markdown",
   "id": "339b2e86",
   "metadata": {},
   "source": [
    "https://www.hackerrank.com/challenges/detect-html-links/problem?isFullScreen=true"
   ]
  },
  {
   "cell_type": "code",
   "execution_count": null,
   "id": "b390aad0",
   "metadata": {},
   "outputs": [],
   "source": [
    "# Решение"
   ]
  },
  {
   "cell_type": "code",
   "execution_count": null,
   "id": "8aeb4c43",
   "metadata": {},
   "outputs": [],
   "source": [
    "import re\n",
    "Regex_Pattern = r'(?<=<a href=\")([^\"]+)\".*?>([^<]*)(?=</)'\n",
    "\n",
    "for i in range(int(input())):\n",
    "    matches = re.findall(Regex_Pattern, str(input()))\n",
    "    if matches:\n",
    "        for match in matches:\n",
    "            print(match[0],match[1].strip(),sep=',')"
   ]
  }
 ],
 "metadata": {
  "kernelspec": {
   "display_name": "Python 3 (ipykernel)",
   "language": "python",
   "name": "python3"
  },
  "language_info": {
   "codemirror_mode": {
    "name": "ipython",
    "version": 3
   },
   "file_extension": ".py",
   "mimetype": "text/x-python",
   "name": "python",
   "nbconvert_exporter": "python",
   "pygments_lexer": "ipython3",
   "version": "3.11.5"
  }
 },
 "nbformat": 4,
 "nbformat_minor": 5
}
